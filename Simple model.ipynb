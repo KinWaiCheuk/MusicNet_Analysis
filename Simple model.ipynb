{
 "cells": [
  {
   "cell_type": "code",
   "execution_count": 1,
   "metadata": {},
   "outputs": [],
   "source": [
    "import sys,os,signal\n",
    "\n",
    "import numpy as np\n",
    "import musicnet\n",
    "\n",
    "import torch\n",
    "from torch.autograd import Variable\n",
    "from torch.nn.functional import conv1d, mse_loss\n",
    "\n",
    "from time import time\n",
    "\n",
    "import matplotlib.pyplot as plt\n",
    "from IPython.display import Audio\n",
    "\n",
    "from sklearn.metrics import average_precision_score\n",
    "\n",
    "root = './'\n",
    "\n",
    "%matplotlib inline"
   ]
  },
  {
   "cell_type": "code",
   "execution_count": 2,
   "metadata": {},
   "outputs": [],
   "source": [
    "os.environ['CUDA_DEVICE_ORDER']='PCI_BUS_ID'   # see issue #152\n",
    "os.environ['CUDA_VISIBLE_DEVICES']='2'\n",
    "\n",
    "def worker_init(args):\n",
    "    signal.signal(signal.SIGINT, signal.SIG_IGN) # ignore signals so parent can handle them\n",
    "    np.random.seed(os.getpid() ^ int(time())) # approximately random seed for workers\n",
    "\n",
    "batch_size = 100\n",
    "kwargs = {'num_workers': 4, 'pin_memory': True, 'worker_init_fn': worker_init}\n",
    "\n",
    "m = 128\n",
    "k = 500 # number of frequency bins?\n",
    "d = 4096 # size of windows?\n",
    "window = 16384 # total number of audio samples?\n",
    "stride = 512\n",
    "regions = 1 + (window - d)//stride # number of output after sliding the window through x"
   ]
  },
  {
   "cell_type": "code",
   "execution_count": 3,
   "metadata": {},
   "outputs": [],
   "source": [
    "train_set = musicnet.MusicNet(root=root, train=True, download=True, window=window)#, pitch_shift=5, jitter=.1)\n",
    "test_set = musicnet.MusicNet(root=root, train=False, window=window, epoch_size=50000)"
   ]
  },
  {
   "cell_type": "code",
   "execution_count": 4,
   "metadata": {},
   "outputs": [],
   "source": [
    "train_loader = torch.utils.data.DataLoader(dataset=train_set,batch_size=batch_size,**kwargs)\n",
    "test_loader = torch.utils.data.DataLoader(dataset=test_set,batch_size=batch_size,**kwargs)"
   ]
  },
  {
   "cell_type": "code",
   "execution_count": 5,
   "metadata": {},
   "outputs": [],
   "source": [
    "def create_filters(d,k,low=50,high=6000):\n",
    "    x = np.linspace(0, 2*np.pi, d, endpoint=False)\n",
    "    wsin = np.empty((k,1,d), dtype=np.float32)\n",
    "    wcos = np.empty((k,1,d), dtype=np.float32)\n",
    "    start_freq = low\n",
    "    end_freq = high\n",
    "    num_cycles = start_freq*d/44000.\n",
    "    scaling_ind = np.log(end_freq/start_freq)/k\n",
    "    window_mask = 1.0-1.0*np.cos(x)\n",
    "    for ind in range(k):\n",
    "        wsin[ind,0,:] = window_mask*np.sin(np.exp(ind*scaling_ind)*num_cycles*x)\n",
    "        wcos[ind,0,:] = window_mask*np.cos(np.exp(ind*scaling_ind)*num_cycles*x)\n",
    "    \n",
    "    return wsin,wcos"
   ]
  },
  {
   "cell_type": "code",
   "execution_count": 6,
   "metadata": {},
   "outputs": [],
   "source": [
    "wsin,wcos = create_filters(d,k)\n",
    "\n",
    "with torch.cuda.device(0):\n",
    "    wsin_var = Variable(torch.from_numpy(wsin).cuda(), requires_grad=False)\n",
    "    wcos_var = Variable(torch.from_numpy(wcos).cuda(), requires_grad=False)\n",
    "    \n",
    "def init_weights(scale=0.):\n",
    "    wscale = 0.\n",
    "    with torch.cuda.device(0):\n",
    "        beta = Variable(wscale*torch.rand([regions*k,m]).cuda(), requires_grad=True)\n",
    "        betaavg = Variable(beta.data.clone(), requires_grad=False)\n",
    "    return (beta,), (betaavg,) # pytorch optimizer requires iterable \n",
    "\n",
    "def forward(x, beta):\n",
    "    zx = conv1d(x[:,None,:], wsin_var, stride=stride).pow(2) \\\n",
    "       + conv1d(x[:,None,:], wcos_var, stride=stride).pow(2)\n",
    "    return torch.mm(torch.log(zx + musicnet.epsilon).view(x.data.size()[0],regions*k), beta)\n",
    "\n",
    "def L(y_hat, y, beta):\n",
    "    # adjust for per-frame loss\n",
    "    return mse_loss(y_hat, y)*128/2.# + .01*torch.mean(beta.pow(2.))"
   ]
  },
  {
   "cell_type": "markdown",
   "metadata": {},
   "source": [
    "# Training the model"
   ]
  },
  {
   "cell_type": "code",
   "execution_count": 8,
   "metadata": {},
   "outputs": [],
   "source": [
    "weights, averages = init_weights()\n",
    "loss_history = []\n",
    "avgp_history = []"
   ]
  },
  {
   "cell_type": "code",
   "execution_count": 9,
   "metadata": {},
   "outputs": [],
   "source": [
    "avg = .9998\n",
    "optimizer = torch.optim.SGD(weights, lr=0.000001, momentum=.95)"
   ]
  },
  {
   "cell_type": "code",
   "execution_count": null,
   "metadata": {},
   "outputs": [
    {
     "name": "stdout",
     "output_type": "stream",
     "text": [
      "squre loss\tabg prec\ttime\t\tutime\n",
      "0.881687\t0.641822\t18.219045\t7.240098\n",
      "0.947431\t0.607850\t18.517441\t7.089839\n",
      "0.910845\t0.657853\t18.128100\t7.147997\n",
      "0.878232\t0.602347\t18.180477\t7.028833\n",
      "0.868673\t0.670943\t18.066533\t6.969954\n",
      "0.932125\t0.594659\t18.324343\t7.207020\n",
      "0.846076\t0.665725\t18.407685\t7.229949\n",
      "0.814040\t0.734852\t18.334870\t7.024935\n",
      "0.804640\t0.669667\t18.265310\t7.299815\n",
      "0.843653\t0.655125\t18.106795\t7.149118\n",
      "0.874697\t0.653268\t18.679201\t7.381368\n",
      "0.817805\t0.635781\t18.035022\t7.158387\n",
      "0.806221\t0.724821\t18.162704\t7.126950\n",
      "0.839534\t0.674344\t18.264164\t7.081925\n",
      "0.896651\t0.679866\t17.713976\t6.918504\n",
      "0.854479\t0.620459\t17.747329\t7.001321\n",
      "0.775531\t0.673540\t19.449620\t7.832415\n",
      "0.838393\t0.675592\t19.785830\t7.556761\n",
      "0.850690\t0.682092\t20.263006\t7.915927\n",
      "0.829349\t0.633185\t19.937139\t7.794385\n",
      "0.803107\t0.669999\t19.892531\t7.866385\n",
      "0.809511\t0.702401\t20.054228\t7.988694\n",
      "0.822052\t0.697231\t19.946571\t7.833941\n",
      "0.849095\t0.648538\t19.844320\t7.636491\n",
      "0.892880\t0.658949\t20.018417\t7.810431\n",
      "0.950502\t0.646905\t20.282392\t7.900992\n",
      "0.889770\t0.626346\t19.618092\t7.739787\n"
     ]
    }
   ],
   "source": [
    "try:\n",
    "    with train_set, test_set:\n",
    "        print(\"squre loss\\tabg prec\\ttime\\t\\tutime\")\n",
    "        for epoch in range(50):\n",
    "            t = time()\n",
    "            for i, (x,y) in enumerate(train_loader):\n",
    "                optimizer.zero_grad()\n",
    "                \n",
    "                # making x and y into pytorch dealable format\n",
    "                x = Variable(x.cuda(), requires_grad=False) \n",
    "                y = Variable(y.cuda(), requires_grad=False) \n",
    "                \n",
    "                loss = L(forward(x, *weights),y , *weights)\n",
    "                loss.backward()\n",
    "                optimizer.step()\n",
    "                \n",
    "                for w, wavg in zip(weights, averages):\n",
    "                    wavg.data.copy_(avg*wavg.data + (1.-avg)*w.data) # what happens if I change to equal\n",
    "                    \n",
    "            t1 = time()\n",
    "            avgp, loss = 0.,0.\n",
    "            \n",
    "            # For testing\n",
    "            yground = torch.FloatTensor(batch_size*len(test_loader), m) # what not do this together with loss\n",
    "            yhat = torch.FloatTensor(batch_size*len(test_loader), m)\n",
    "            for i, (x_test,y_test) in enumerate(test_loader):\n",
    "                x_test = Variable(x.cuda(), requires_grad=False)\n",
    "                y_test = Variable(y.cuda(), requires_grad=False)\n",
    "                yhatvar = forward(x, *averages)\n",
    "                loss += L(yhatvar, y, *averages).item()\n",
    "                yground[i*batch_size:(i+1)*batch_size,:] = y.data\n",
    "                yhat[i*batch_size:(i+1)*batch_size,:] = yhatvar.data\n",
    "            avgp = average_precision_score(yground.numpy().flatten(),yhat.numpy().flatten())\n",
    "#             avgp = average_precision_score(yground.numpy().flatten(),yhat.numpy().flatten())\n",
    "            loss_history.append(loss/len(test_loader))\n",
    "            avgp_history.append(avgp)\n",
    "            print('{:2f}\\t{:2f}\\t{:2f}\\t{:2f}'.format(loss_history[-1],avgp_history[-1],time()-t, time()-t1))\n",
    "            \n",
    "            \n",
    "except KeyboardInterrupt:\n",
    "    print('Graceful Exit')\n",
    "else:\n",
    "    print(\"Finsihed\")"
   ]
  },
  {
   "cell_type": "code",
   "execution_count": null,
   "metadata": {},
   "outputs": [],
   "source": []
  }
 ],
 "metadata": {
  "kernelspec": {
   "display_name": "Python 3",
   "language": "python",
   "name": "python3"
  }
 },
 "nbformat": 4,
 "nbformat_minor": 2
}
