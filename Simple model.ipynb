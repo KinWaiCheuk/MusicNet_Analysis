{
 "cells": [
  {
   "cell_type": "code",
   "execution_count": 2,
   "metadata": {},
   "outputs": [],
   "source": [
    "import sys,os,signal\n",
    "\n",
    "import numpy as np\n",
    "import musicnet\n",
    "\n",
    "import torch\n",
    "from torch.autograd import Variable\n",
    "from torch.nn.functional import conv1d, mse_loss\n",
    "\n",
    "from time import time\n",
    "\n",
    "import matplotlib.pyplot as plt\n",
    "from IPython.display import Audio\n",
    "\n",
    "from sklearn.metrics import average_precision_score\n",
    "\n",
    "root = './'\n",
    "\n",
    "%matplotlib inline"
   ]
  },
  {
   "cell_type": "code",
   "execution_count": 3,
   "metadata": {},
   "outputs": [],
   "source": [
    "os.environ['CUDA_DEVICE_ORDER']='PCI_BUS_ID'   # see issue #152\n",
    "os.environ['CUDA_VISIBLE_DEVICES']='2'\n",
    "\n",
    "def worker_init(args):\n",
    "    signal.signal(signal.SIGINT, signal.SIG_IGN) # ignore signals so parent can handle them\n",
    "    np.random.seed(os.getpid() ^ int(time())) # approximately random seed for workers\n",
    "\n",
    "batch_size = 100\n",
    "kwargs = {'num_workers': 4, 'pin_memory': True, 'worker_init_fn': worker_init}\n",
    "\n",
    "m = 128\n",
    "k = 500 # number of frequency bins?\n",
    "d = 4096 # size of windows?\n",
    "window = 16384 # total number of audio samples?\n",
    "stride = 512\n",
    "regions = 1 + (window - d)//stride # number of output after sliding the window through x"
   ]
  },
  {
   "cell_type": "code",
   "execution_count": 4,
   "metadata": {},
   "outputs": [],
   "source": [
    "train_set = musicnet.MusicNet(root=root, train=True, download=True, window=window)#, pitch_shift=5, jitter=.1)\n",
    "test_set = musicnet.MusicNet(root=root, train=False, window=window, epoch_size=50000)"
   ]
  },
  {
   "cell_type": "code",
   "execution_count": 5,
   "metadata": {},
   "outputs": [],
   "source": [
    "train_loader = torch.utils.data.DataLoader(dataset=train_set,batch_size=batch_size,**kwargs)\n",
    "test_loader = torch.utils.data.DataLoader(dataset=test_set,batch_size=batch_size,**kwargs)"
   ]
  },
  {
   "cell_type": "code",
   "execution_count": 15,
   "metadata": {},
   "outputs": [],
   "source": [
    "a = train_set.rec_ids\n",
    "b = test_set.rec_ids"
   ]
  },
  {
   "cell_type": "code",
   "execution_count": 14,
   "metadata": {},
   "outputs": [
    {
     "data": {
      "text/plain": [
       "320"
      ]
     },
     "execution_count": 14,
     "metadata": {},
     "output_type": "execute_result"
    }
   ],
   "source": [
    "len(a)"
   ]
  },
  {
   "cell_type": "code",
   "execution_count": 16,
   "metadata": {},
   "outputs": [
    {
     "data": {
      "text/plain": [
       "10"
      ]
     },
     "execution_count": 16,
     "metadata": {},
     "output_type": "execute_result"
    }
   ],
   "source": [
    "len(b)"
   ]
  },
  {
   "cell_type": "code",
   "execution_count": 15,
   "metadata": {},
   "outputs": [],
   "source": [
    "def create_filters(d,k,low=50,high=6000):\n",
    "    x = np.linspace(0, 2*np.pi, d, endpoint=False)\n",
    "    wsin = np.empty((k,1,d), dtype=np.float32)\n",
    "    wcos = np.empty((k,1,d), dtype=np.float32)\n",
    "    start_freq = low\n",
    "    end_freq = high\n",
    "    num_cycles = start_freq*d/44000.\n",
    "    scaling_ind = np.log(end_freq/start_freq)/k\n",
    "    window_mask = 1.0-1.0*np.cos(x)\n",
    "    for ind in range(k):\n",
    "        wsin[ind,0,:] = window_mask*np.sin(np.exp(ind*scaling_ind)*num_cycles*x)\n",
    "        wcos[ind,0,:] = window_mask*np.cos(np.exp(ind*scaling_ind)*num_cycles*x)\n",
    "    \n",
    "    return wsin,wcos"
   ]
  },
  {
   "cell_type": "code",
   "execution_count": 16,
   "metadata": {},
   "outputs": [],
   "source": [
    "wsin,wcos = create_filters(d,k)\n",
    "\n",
    "with torch.cuda.device(0):\n",
    "    wsin_var = Variable(torch.from_numpy(wsin).cuda(), requires_grad=False)\n",
    "    wcos_var = Variable(torch.from_numpy(wcos).cuda(), requires_grad=False)\n",
    "    \n",
    "def init_weights(scale=0.):\n",
    "    wscale = 0.\n",
    "    with torch.cuda.device(0):\n",
    "        beta = Variable(wscale*torch.rand([regions*k,m]).cuda(), requires_grad=True)\n",
    "        betaavg = Variable(beta.data.clone(), requires_grad=False)\n",
    "    return (beta,), (betaavg,) # pytorch optimizer requires iterable \n",
    "\n",
    "def forward(x, beta):\n",
    "    zx = conv1d(x[:,None,:], wsin_var, stride=stride).pow(2) \\\n",
    "       + conv1d(x[:,None,:], wcos_var, stride=stride).pow(2)\n",
    "    return torch.mm(torch.log(zx + musicnet.epsilon).view(x.data.size()[0],regions*k), beta)\n",
    "\n",
    "def L(y_hat, y, beta):\n",
    "    # adjust for per-frame loss\n",
    "    return mse_loss(y_hat, y)*128/2.# + .01*torch.mean(beta.pow(2.))"
   ]
  },
  {
   "cell_type": "markdown",
   "metadata": {},
   "source": [
    "# Training the model"
   ]
  },
  {
   "cell_type": "code",
   "execution_count": 17,
   "metadata": {},
   "outputs": [],
   "source": [
    "weights, averages = init_weights()\n",
    "loss_history = []\n",
    "avgp_history = []"
   ]
  },
  {
   "cell_type": "code",
   "execution_count": 18,
   "metadata": {},
   "outputs": [],
   "source": [
    "avg = .9998\n",
    "optimizer = torch.optim.SGD(weights, lr=0.000001, momentum=.95)"
   ]
  },
  {
   "cell_type": "code",
   "execution_count": 19,
   "metadata": {},
   "outputs": [
    {
     "name": "stdout",
     "output_type": "stream",
     "text": [
      "squre loss\tabg prec\ttime\t\tutime\n",
      "0.984708\t0.621846\t21.497175\t8.801307\n",
      "0.871883\t0.634628\t21.538096\t8.766026\n",
      "0.804300\t0.643566\t20.522870\t7.900976\n",
      "0.753901\t0.648922\t19.113822\t7.779321\n",
      "0.730231\t0.652340\t19.604584\t7.766824\n",
      "0.708090\t0.653427\t19.539460\t7.722400\n",
      "0.694748\t0.655970\t19.503912\t8.096855\n",
      "0.689197\t0.656575\t19.453594\t7.751936\n",
      "0.684582\t0.661932\t20.043772\t8.111955\n",
      "0.684816\t0.657823\t19.406796\t8.070664\n",
      "0.683510\t0.660495\t19.623866\t7.859873\n",
      "0.683197\t0.659542\t19.459719\t7.620090\n",
      "0.681832\t0.661562\t19.428283\t7.920199\n",
      "0.686717\t0.661191\t19.590956\t7.887896\n",
      "0.685196\t0.661920\t19.752652\t8.021381\n",
      "0.684777\t0.661020\t19.524984\t7.983444\n",
      "0.686127\t0.662452\t20.298046\t8.501631\n",
      "0.686875\t0.665172\t19.712829\t8.238118\n",
      "0.683044\t0.663084\t19.557666\t7.909143\n",
      "0.689059\t0.661943\t19.628227\t7.946543\n",
      "0.686240\t0.662614\t19.688740\t8.060700\n",
      "0.682640\t0.666309\t19.582536\t7.914261\n",
      "0.691255\t0.663827\t20.199381\t8.413030\n",
      "0.688870\t0.667830\t19.721585\t8.141144\n",
      "0.688653\t0.664553\t19.592653\t7.972461\n",
      "0.684856\t0.666406\t19.634136\t7.807541\n",
      "0.685357\t0.669670\t19.786254\t8.185310\n",
      "0.685917\t0.666352\t19.478435\t7.916070\n",
      "0.681982\t0.670324\t19.880295\t8.071407\n",
      "0.687274\t0.667393\t19.883924\t8.148700\n",
      "0.689035\t0.665773\t19.670076\t8.116530\n",
      "0.686973\t0.665215\t19.171655\t7.677495\n",
      "0.688485\t0.664746\t19.795676\t7.962731\n",
      "0.687841\t0.664028\t19.166173\t7.919484\n",
      "0.689914\t0.663168\t19.534737\t7.944593\n",
      "0.688866\t0.666000\t19.931017\t8.159369\n",
      "0.689770\t0.666119\t19.341963\t8.052836\n",
      "0.687488\t0.661897\t19.835524\t8.226537\n",
      "0.691017\t0.663441\t19.578662\t8.108091\n",
      "0.685137\t0.662871\t19.563385\t7.906905\n",
      "0.687354\t0.669130\t19.567890\t7.897745\n",
      "0.686549\t0.668176\t19.745788\t7.852318\n",
      "0.685268\t0.666573\t19.835687\t7.963123\n",
      "0.691072\t0.666605\t19.517280\t7.909631\n",
      "0.690302\t0.667011\t19.695379\t8.196234\n",
      "0.689021\t0.668224\t19.485536\t7.733519\n",
      "0.689436\t0.665228\t19.622708\t8.106984\n",
      "0.687409\t0.664237\t19.407101\t7.976779\n",
      "0.684511\t0.668938\t19.575137\t7.748203\n",
      "0.687369\t0.666712\t19.585974\t8.165006\n",
      "Finsihed\n"
     ]
    }
   ],
   "source": [
    "try:\n",
    "    with train_set, test_set:\n",
    "        print(\"squre loss\\tabg prec\\ttime\\t\\tutime\")\n",
    "        for epoch in range(50):\n",
    "            t = time()\n",
    "            for i, (x,y) in enumerate(train_loader):\n",
    "                optimizer.zero_grad()\n",
    "                \n",
    "                # making x and y into pytorch dealable format\n",
    "                x = Variable(x.cuda(), requires_grad=False) \n",
    "                y = Variable(y.cuda(), requires_grad=False) \n",
    "                \n",
    "                loss = L(forward(x, *weights),y , *weights)\n",
    "                loss.backward()\n",
    "                optimizer.step()\n",
    "                \n",
    "                for w, wavg in zip(weights, averages):\n",
    "                    wavg.data.copy_(avg*wavg.data + (1.-avg)*w.data) # what happens if I change to equal\n",
    "                    \n",
    "            t1 = time()\n",
    "            avgp, loss = 0.,0.\n",
    "            \n",
    "            # For testing\n",
    "            yground = torch.FloatTensor(batch_size*len(test_loader), m) # what not do this together with loss\n",
    "            yhat = torch.FloatTensor(batch_size*len(test_loader), m)\n",
    "            for i, (x_test,y_test) in enumerate(test_loader):\n",
    "                x_test = Variable(x_test.cuda(), requires_grad=False)\n",
    "                y_test = Variable(y_test.cuda(), requires_grad=False)\n",
    "                yhatvar = forward(x_test, *averages)\n",
    "                loss += L(yhatvar, y_test, *averages).item()\n",
    "                yground[i*batch_size:(i+1)*batch_size,:] = y_test.data\n",
    "                yhat[i*batch_size:(i+1)*batch_size,:] = yhatvar.data\n",
    "            avgp = average_precision_score(yground.numpy().flatten(),yhat.numpy().flatten())\n",
    "#             avgp = average_precision_score(yground.numpy().flatten(),yhat.numpy().flatten())\n",
    "            loss_history.append(loss/len(test_loader))\n",
    "            avgp_history.append(avgp)\n",
    "            print('{:2f}\\t{:2f}\\t{:2f}\\t{:2f}'.format(loss_history[-1],avgp_history[-1],time()-t, time()-t1))\n",
    "            \n",
    "            \n",
    "except KeyboardInterrupt:\n",
    "    print('Graceful Exit')\n",
    "else:\n",
    "    print(\"Finsihed\")"
   ]
  },
  {
   "cell_type": "code",
   "execution_count": null,
   "metadata": {},
   "outputs": [],
   "source": []
  }
 ],
 "metadata": {
  "kernelspec": {
   "display_name": "Python 3",
   "language": "python",
   "name": "python3"
  },
  "language_info": {
   "codemirror_mode": {
    "name": "ipython",
    "version": 3
   },
   "file_extension": ".py",
   "mimetype": "text/x-python",
   "name": "python",
   "nbconvert_exporter": "python",
   "pygments_lexer": "ipython3",
   "version": "3.6.8"
  }
 },
 "nbformat": 4,
 "nbformat_minor": 2
}
