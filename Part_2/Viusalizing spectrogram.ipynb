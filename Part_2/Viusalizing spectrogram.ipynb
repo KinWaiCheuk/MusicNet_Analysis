{
 "cells": [
  {
   "cell_type": "code",
   "execution_count": 80,
   "metadata": {},
   "outputs": [],
   "source": [
    "import os,sys,signal, copy\n",
    "import math\n",
    "from contextlib import contextmanager\n",
    "\n",
    "import pickle\n",
    "import numpy as np                                       # fast vectors and matrices\n",
    "import matplotlib.pyplot as plt                          # plotting\n",
    "import matplotlib.ticker as ticker\n",
    "from matplotlib.animation import ArtistAnimation\n",
    "\n",
    "from scipy.fftpack import fft\n",
    "from scipy.signal.windows import hann\n",
    "\n",
    "import musicnetRaven as musicnet\n",
    "\n",
    "from time import time\n",
    "\n",
    "sys.path.insert(0,'lib/')\n",
    "import config\n",
    "import diagnosticsP3\n",
    "# import base_model\n",
    "\n",
    "from sklearn.metrics import average_precision_score\n",
    "\n",
    "os.environ['CUDA_DEVICE_ORDER']='PCI_BUS_ID'   # see issue #152\n",
    "os.environ['CUDA_VISIBLE_DEVICES']='3'\n",
    "\n",
    "import torch\n",
    "from torch.nn.functional import conv1d, mse_loss\n",
    "from torchcontrib.optim import SWA\n",
    "\n",
    "from tqdm import tqdm\n",
    "import mir_eval\n",
    "\n",
    "from IPython.display import Audio\n",
    "\n",
    "%matplotlib inline\n",
    "\n",
    "device = torch.device(\"cuda:0\" if torch.cuda.is_available() else \"cpu\")"
   ]
  },
  {
   "cell_type": "code",
   "execution_count": 81,
   "metadata": {},
   "outputs": [],
   "source": [
    "# function for returning scientific notation in a plot\n",
    "def fmt(x, pos):\n",
    "    a, b = '{:.0e}'.format(x).split('e')\n",
    "    b = int(b)\n",
    "    return fr'${a} \\times 10^{{{b}}}$'"
   ]
  },
  {
   "cell_type": "code",
   "execution_count": 82,
   "metadata": {},
   "outputs": [],
   "source": [
    "# lvl1 convolutions are shared between regions\n",
    "m = 128\n",
    "k = 500              # lvl1 nodes\n",
    "n_fft = 4096              # lvl1 receptive field\n",
    "window = 16384 # total number of audio samples?\n",
    "stride = 512\n",
    "batch_size = 500\n",
    "regions = 1 + (window - n_fft)//stride\n",
    "\n",
    "def worker_init(args):\n",
    "    signal.signal(signal.SIGINT, signal.SIG_IGN) # ignore signals so parent can handle them\n",
    "    np.random.seed(os.getpid() ^ int(time())) # approximately random seed for workers\n",
    "kwargs = {'num_workers': 15, 'pin_memory': True, 'worker_init_fn': worker_init}"
   ]
  },
  {
   "cell_type": "code",
   "execution_count": 83,
   "metadata": {},
   "outputs": [
    {
     "name": "stdout",
     "output_type": "stream",
     "text": [
      "Time used =  0.3720564842224121\n"
     ]
    }
   ],
   "source": [
    "start = time()\n",
    "root = '../data/'\n",
    "test_set = musicnet.MusicNet(root=root, train=False, download=True, refresh_cache=False, window=window, epoch_size=50000, mmap=False)\n",
    "print(\"Time used = \", time()-start)"
   ]
  },
  {
   "cell_type": "code",
   "execution_count": 84,
   "metadata": {},
   "outputs": [],
   "source": [
    "test_loader = torch.utils.data.DataLoader(dataset=test_set,batch_size=batch_size,**kwargs)"
   ]
  },
  {
   "cell_type": "code",
   "execution_count": 85,
   "metadata": {},
   "outputs": [],
   "source": [
    "def create_filters(n_fft, freq_bins=None, low=50,high=6000, mode=\"stft\"):\n",
    "    if freq_bins==None:\n",
    "        freq_bins = n_fft//2+1\n",
    "    \n",
    "    s = np.arange(0, n_fft, 1)\n",
    "    wsin = np.empty((freq_bins,1,n_fft), dtype=np.float32)\n",
    "    wcos = np.empty((freq_bins,1,n_fft), dtype=np.float32)\n",
    "    start_freq = low\n",
    "    end_freq = high\n",
    "    # num_cycles = start_freq*d/44000.\n",
    "    # scaling_ind = np.log(end_freq/start_freq)/k\n",
    "    \n",
    "    if mode==\"fft\":\n",
    "        window_mask = 1\n",
    "    elif mode==\"stft\":\n",
    "        window_mask = hann(n_fft, sym=False) # same as 0.5-0.5*np.cos(2*np.pi*x/(k))\n",
    "    else:\n",
    "        raise Exception(\"Unknown mode, please chooes either \\\"stft\\\" or \\\"fft\\\"\")\n",
    "        \n",
    "\n",
    "    for k in range(freq_bins): # Only half of the bins contain useful info\n",
    "        wsin[k,0,:] = window_mask*np.sin(2*np.pi*k*s/n_fft)\n",
    "        wcos[k,0,:] = window_mask*np.cos(2*np.pi*k*s/n_fft)\n",
    "    \n",
    "    return wsin,wcos\n",
    "\n",
    "def create_filtersv2(n_fft, freq_bins=None, low=50,high=6000, mode=\"fft\"):\n",
    "    if freq_bins==None:\n",
    "        freq_bins = n_fft//2+1\n",
    "    \n",
    "    s = torch.arange(0, n_fft, 1.)\n",
    "    wsin = torch.empty((freq_bins,1,n_fft))\n",
    "    wcos = torch.empty((freq_bins,1,n_fft))\n",
    "    start_freq = low\n",
    "    end_freq = high\n",
    "    # num_cycles = start_freq*d/44000.\n",
    "    # scaling_ind = np.log(end_freq/start_freq)/k\n",
    "    \n",
    "    if mode==\"fft\":\n",
    "        window_mask = 1\n",
    "    elif mode==\"stft\":\n",
    "        window_mask = 0.5-0.5*torch.cos(2*math.pi*s/(n_fft)) # same as hann(n_fft, sym=False)\n",
    "    else:\n",
    "        raise Exception(\"Unknown mode, please chooes either \\\"stft\\\" or \\\"fft\\\"\")\n",
    "        \n",
    "\n",
    "    for k in range(freq_bins): # Only half of the bins contain useful info\n",
    "        wsin[k,0,:] = window_mask*torch.sin(2*math.pi*k*s/n_fft)\n",
    "        wcos[k,0,:] = window_mask*torch.cos(2*math.pi*k*s/n_fft)\n",
    "    \n",
    "    return wsin,wcos\n"
   ]
  },
  {
   "cell_type": "code",
   "execution_count": 7,
   "metadata": {},
   "outputs": [],
   "source": [
    "Loss = torch.nn.MSELoss()\n",
    "def L(yhatvar,y):\n",
    "    return Loss(yhatvar,y) * 128/2"
   ]
  },
  {
   "cell_type": "code",
   "execution_count": 86,
   "metadata": {},
   "outputs": [],
   "source": [
    "class Model(torch.nn.Module):\n",
    "    def __init__(self, avg=.9998):\n",
    "        super(Model, self).__init__()\n",
    "        # Create filter windows\n",
    "        wsin, wcos = create_filtersv2(n_fft,k, mode=\"stft\")\n",
    "        with torch.cuda.device(0):\n",
    "            self.wsin = torch.Tensor(wsin).cuda()\n",
    "            self.wcos = torch.Tensor(wcos).cuda()\n",
    "            \n",
    "        # Creating Layers\n",
    "        self.linear = torch.nn.Linear(regions*k, m)\n",
    "        torch.nn.init.constant_(self.linear.weight, 0) # initialize\n",
    "        \n",
    "        self.avg = avg\n",
    "        #Create a container for weight average\n",
    "        self.averages = copy.deepcopy(list(parm.cuda().data for parm in self.parameters())) \n",
    "\n",
    "        \n",
    "    def forward(self,x):\n",
    "        zx = conv1d(x[:,None,:], self.wsin, stride=stride).pow(2) \\\n",
    "           + conv1d(x[:,None,:], self.wcos, stride=stride).pow(2)\n",
    "        return torch.log(zx + 10e-8)\n",
    "    \n",
    "    def average_iterates(self):\n",
    "        for parm, pavg in zip(self.parameters(), self.averages):\n",
    "            pavg.mul_(self.avg).add_(1.-self.avg, parm.data) # 0.9W_avg + 0.1W_this_ite\n",
    "    \n",
    "    \n",
    "@contextmanager\n",
    "def averages(model):\n",
    "    orig_parms = copy.deepcopy(list(parm.data for parm in model.parameters()))\n",
    "    for parm, pavg in zip(model.parameters(), model.averages):\n",
    "        parm.data.copy_(pavg)\n",
    "    yield\n",
    "    for parm, orig in zip(model.parameters(), orig_parms):\n",
    "        parm.data.copy_(orig)"
   ]
  },
  {
   "cell_type": "markdown",
   "metadata": {},
   "source": [
    "# Averaged Weights"
   ]
  },
  {
   "cell_type": "code",
   "execution_count": 87,
   "metadata": {},
   "outputs": [
    {
     "data": {
      "text/plain": [
       "Model(\n",
       "  (linear): Linear(in_features=12500, out_features=128, bias=True)\n",
       ")"
      ]
     },
     "execution_count": 87,
     "metadata": {},
     "output_type": "execute_result"
    }
   ],
   "source": [
    "model = Model()\n",
    "model.cuda()"
   ]
  },
  {
   "cell_type": "code",
   "execution_count": 88,
   "metadata": {},
   "outputs": [
    {
     "data": {
      "text/plain": [
       "[2556, 2303, 2382, 2416, 2191, 2298, 2106, 2628, 1819, 1759]"
      ]
     },
     "execution_count": 88,
     "metadata": {},
     "output_type": "execute_result"
    }
   ],
   "source": [
    "test_set.rec_ids"
   ]
  },
  {
   "cell_type": "code",
   "execution_count": 89,
   "metadata": {},
   "outputs": [
    {
     "data": {
      "text/html": [
       "\n",
       "                <audio controls=\"controls\" >\n",
       "                    <source src=\"data:audio/wav;base64,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\" type=\"audio/wav\" />\n",
       "                    Your browser does not support the audio element.\n",
       "                </audio>\n",
       "              "
      ],
      "text/plain": [
       "<IPython.lib.display.Audio object>"
      ]
     },
     "execution_count": 89,
     "metadata": {},
     "output_type": "execute_result"
    }
   ],
   "source": [
    "with test_set:\n",
    "    X, Y = test_set.access(2303, 50000)\n",
    "Audio(X, rate=44100)    "
   ]
  },
  {
   "cell_type": "code",
   "execution_count": 90,
   "metadata": {},
   "outputs": [],
   "source": [
    "X = torch.tensor(X.reshape(1,-1)).cuda()"
   ]
  },
  {
   "cell_type": "code",
   "execution_count": 94,
   "metadata": {},
   "outputs": [
    {
     "data": {
      "text/plain": [
       "torch.Size([1, 16384])"
      ]
     },
     "execution_count": 94,
     "metadata": {},
     "output_type": "execute_result"
    }
   ],
   "source": [
    "X.shape"
   ]
  },
  {
   "cell_type": "code",
   "execution_count": 95,
   "metadata": {},
   "outputs": [
    {
     "data": {
      "text/plain": [
       "(128,)"
      ]
     },
     "execution_count": 95,
     "metadata": {},
     "output_type": "execute_result"
    }
   ],
   "source": [
    "Y.shape"
   ]
  },
  {
   "cell_type": "code",
   "execution_count": 91,
   "metadata": {},
   "outputs": [],
   "source": [
    "X_Spec = model(X)"
   ]
  },
  {
   "cell_type": "code",
   "execution_count": 114,
   "metadata": {},
   "outputs": [
    {
     "data": {
      "text/plain": [
       "(-0.5, 0.5, -0.5, 12499.5)"
      ]
     },
     "execution_count": 114,
     "metadata": {},
     "output_type": "execute_result"
    },
    {
     "data": {
      "image/png": "[encoded data removed]",
      "text/plain": [
       "<Figure size 432x288 with 1 Axes>"
      ]
     },
     "metadata": {
      "needs_background": "light"
     },
     "output_type": "display_data"
    }
   ],
   "source": [
    "plt.imshow(X_Spec.view(-1,1).cpu(), aspect=0.003, cmap='jet', origin='lower')\n",
    "# plt.colorbar()\n",
    "# plt.xlabel('time step')\n",
    "# plt.ylabel('frequency bin')\n",
    "plt.axis('off')"
   ]
  },
  {
   "cell_type": "code",
   "execution_count": 22,
   "metadata": {},
   "outputs": [],
   "source": [
    "song = test_set.records"
   ]
  },
  {
   "cell_type": "code",
   "execution_count": null,
   "metadata": {},
   "outputs": [
    {
     "name": "stdout",
     "output_type": "stream",
     "text": [
      "epoch\ttrain loss\ttest loss\ttrain avg\ttest avg\ttime\tutime\n",
      "0\t1.148502\t1.114585\t0.393539\t0.219537\t17.4\t5.9\n",
      "1\t0.990497\t1.085976\t0.542215\t0.432743\t16.9\t5.9\n",
      "2\t0.950101\t1.062772\t0.575206\t0.498464\t17.1\t5.9\n",
      "3\t0.934080\t1.034255\t0.591234\t0.528024\t16.9\t5.9\n",
      "4\t0.922177\t1.011965\t0.602612\t0.544076\t16.9\t5.9\n",
      "5\t0.913953\t0.987663\t0.608726\t0.550918\t16.8\t5.9\n",
      "6\t0.904188\t0.965327\t0.615410\t0.560971\t17.0\t6.0\n",
      "7\t0.899934\t0.952338\t0.619521\t0.568790\t17.0\t5.9\n",
      "8\t0.899629\t0.928803\t0.621578\t0.575316\t17.0\t6.0\n",
      "9\t0.893411\t0.907742\t0.625093\t0.575423\t16.9\t5.9\n",
      "10\t0.888432\t0.888077\t0.629021\t0.580116\t16.9\t5.9\n",
      "11\t0.887846\t0.873823\t0.630865\t0.586730\t16.9\t5.9\n",
      "12\t0.885385\t0.857412\t0.631636\t0.587660\t17.0\t5.9\n",
      "13\t0.881181\t0.845716\t0.635548\t0.589597\t17.0\t5.9\n",
      "14\t0.878955\t0.834897\t0.635856\t0.593850\t16.8\t5.9\n",
      "15\t0.878635\t0.822005\t0.636636\t0.598700\t16.8\t5.9\n",
      "199/200 batches\r"
     ]
    }
   ],
   "source": [
    "loss_history_train = []\n",
    "avgp_history_train = []\n",
    "loss_history_test = []\n",
    "avgp_history_test = []\n",
    "epochs = 20\n",
    "avg = .9998\n",
    "optimizer = torch.optim.SGD(model.parameters(), lr=1e-6, momentum=.95)\n",
    "# optimizer = SWA(base_opt, swa_start=0, swa_freq=1, swa_lr=0.000001)\n",
    "\n",
    "try:\n",
    "    with train_set, test_set:\n",
    "        total_i = len(train_loader)\n",
    "        print(\"epoch\\ttrain loss\\ttest loss\\ttrain avg\\ttest avg\\ttime\\tutime\")\n",
    "        for e in range(epochs):\n",
    "            yground = torch.FloatTensor(batch_size*len(train_loader), m) # what not do this together with loss\n",
    "            yhat = torch.FloatTensor(batch_size*len(train_loader), m)\n",
    "            avgp, loss_e = 0.,0\n",
    "            t = time()\n",
    "            for i, (x,y) in enumerate(train_loader):\n",
    "                print(f\"{i}/{total_i} batches\", end = '\\r')\n",
    "                optimizer.zero_grad()\n",
    "                \n",
    "                # making x and y into pytorch dealable format\n",
    "                x = x.cuda(non_blocking=True)\n",
    "                y = y.cuda(non_blocking=True)\n",
    "                yhatvar = model(x)\n",
    "                loss = L(yhatvar,y)\n",
    "                loss.backward()\n",
    "                loss_e += loss.item() #getting the number\n",
    "                \n",
    "                yground[i*batch_size:(i+1)*batch_size] = y.data\n",
    "                yhat[i*batch_size:(i+1)*batch_size] = yhatvar.data\n",
    "                \n",
    "                optimizer.step()\n",
    "                model.average_iterates() # Averaging the weights for validation\n",
    "                \n",
    "            avgp = average_precision_score(yground.flatten(),yhat.flatten())    \n",
    "            loss_history_train.append(loss_e/len(train_loader))\n",
    "            avgp_history_train.append(avgp)   \n",
    "            t1 = time()\n",
    "            avgp, loss_e = 0.,0.           \n",
    "#             optimizer.swap_swa_sgd() # change to average weight\n",
    "            \n",
    "            # For testing\n",
    "            yground = torch.FloatTensor(batch_size*len(test_loader), m) # what not do this together with loss\n",
    "            yhat = torch.FloatTensor(batch_size*len(test_loader), m)\n",
    "            \n",
    "            with averages(model):\n",
    "                for i, (x_test,y_test) in enumerate(test_loader):\n",
    "                    x_test = x_test.cuda()\n",
    "                    y_test = y_test.cuda()\n",
    "                    yhatvar = model(x_test)\n",
    "                    loss_e += L(yhatvar, y_test).item() #getting the number\n",
    "\n",
    "                    yground[i*batch_size:(i+1)*batch_size] = y_test.data\n",
    "                    yhat[i*batch_size:(i+1)*batch_size] = yhatvar.data\n",
    "                avgp = average_precision_score(yground.cpu().flatten(),yhat.cpu().flatten())\n",
    "                loss_history_test.append(loss_e/len(test_loader))\n",
    "                avgp_history_test.append(avgp)\n",
    "                print('{}\\t{:2f}\\t{:2f}\\t{:2f}\\t{:2f}\\t{:2.1f}\\t{:2.1f}'.\\\n",
    "                      format(e,\n",
    "                             loss_history_train[-1],loss_history_test[-1],\n",
    "                             avgp_history_train[-1],avgp_history_test[-1],\n",
    "                             time()-t, time()-t1))\n",
    "\n",
    "\n",
    "        \n",
    "except KeyboardInterrupt:\n",
    "    print('Graceful Exit')\n",
    "else:\n",
    "    print(\"Finsihed\")\n",
    "    "
   ]
  },
  {
   "cell_type": "code",
   "execution_count": null,
   "metadata": {},
   "outputs": [],
   "source": [
    "fig, ax = plt.subplots(1, 2, figsize=(10,4))\n",
    "\n",
    "ax[0].plot(loss_history_train)\n",
    "ax[0].plot(loss_history_test)\n",
    "ax[0].legend(['train', 'test'])\n",
    "ax[0].set_title('Loss', size=20)\n",
    "\n",
    "ax[1].plot(avgp_history_train)\n",
    "ax[1].plot(avgp_history_test)\n",
    "ax[1].legend(['train', 'test'])\n",
    "ax[1].set_title('Accuracy', size=20)"
   ]
  },
  {
   "cell_type": "markdown",
   "metadata": {
    "collapsed": true
   },
   "source": [
    "# Mirex stats"
   ]
  },
  {
   "cell_type": "code",
   "execution_count": null,
   "metadata": {},
   "outputs": [],
   "source": [
    "def get_mir_accuracy(Yhat, Y_true, threshold=0.4):\n",
    "    Yhatlist = []\n",
    "    Ylist = []\n",
    "    Yhatpred = Yhat>threshold\n",
    "    for i in range(len(Yhatpred)):\n",
    "        print(f\"{i}/{len(Yhatpred)} batches\", end = '\\r')\n",
    "        fhat = []\n",
    "        f = []\n",
    "        for note in range(m):\n",
    "            if Yhatpred[i][note] == 1:\n",
    "                fhat.append(440.*2**(((note)-69.)/12.))\n",
    "\n",
    "            if Y_true[i][note] == 1:\n",
    "                f.append(440.*2**(((note)-69.)/12.))\n",
    "\n",
    "        Yhatlist.append(np.array(fhat))\n",
    "        Ylist.append(np.array(f))\n",
    "    avp = average_precision_score(Y_true.flatten(),Yhat.detach().cpu().flatten())\n",
    "    P,R,Acc,Esub,Emiss,Efa,Etot,cP,cR,cAcc,cEsub,cEmiss,cEfa,cEtot = \\\n",
    "    mir_eval.multipitch.metrics(np.arange(len(Ylist))/100.,Ylist,np.arange(len(Yhatlist))/100.,Yhatlist)\n",
    "    print('{:.2f}\\t{:.2f}\\t{:.2f}\\t{:.2f}\\t{:.2f}\\t{:.2f}\\t{:.2f}\\t{:.2f}'.format(100*avp,100*P,100*R,Acc,Etot,Esub,Emiss,Efa))\n",
    "    return avp,P,R,Acc,Etot\n",
    "def get_piano_roll(rec_id, window=16384, stride=1000, offset=44100, count=7500):\n",
    "    sf=4\n",
    "    if stride == -1:\n",
    "        stride = (test_set.records[rec_id][1] - offset - int(sf*window))/(count-1)\n",
    "        stride = int(stride)\n",
    "    else:\n",
    "        count = (test_set.records[rec_id][1] - offset - int(sf*window))/stride + 1\n",
    "        count = int(count)\n",
    "        \n",
    "    X = np.zeros([count, window])\n",
    "    Y = np.zeros([count, m])    \n",
    "        \n",
    "    for i in range(count):\n",
    "        X[i,:], Y[i] =  test_set.access(rec_id, offset+i*stride)\n",
    "        \n",
    "    X = torch.tensor(X).float().cuda()\n",
    "    Y_pred = model(X)\n",
    "    \n",
    "    return Y_pred, Y\n",
    "    "
   ]
  },
  {
   "cell_type": "code",
   "execution_count": null,
   "metadata": {},
   "outputs": [],
   "source": [
    "print('AvgP\\tP\\tR\\tAcc\\tETot\\tESub\\tEmiss\\tEfa')\n",
    "Accavg = 0\n",
    "Etotavg = 0\n",
    "for songid in test_set.rec_ids:\n",
    "    Y_pred, Y_true = get_piano_roll(songid, stride=-1)\n",
    "#     Yhatpred = Y_pred > 0.4\n",
    "    _,_,_,Acc,Etot = get_mir_accuracy(Y_pred, Y_true)\n",
    "    Accavg += Acc\n",
    "    Etotavg += Etot"
   ]
  },
  {
   "cell_type": "code",
   "execution_count": null,
   "metadata": {},
   "outputs": [],
   "source": [
    "Accavg = Accavg/len(test_set.rec_ids)"
   ]
  },
  {
   "cell_type": "code",
   "execution_count": null,
   "metadata": {},
   "outputs": [],
   "source": [
    "Etotavg = Etotavg/len(test_set.rec_ids)"
   ]
  },
  {
   "cell_type": "code",
   "execution_count": null,
   "metadata": {},
   "outputs": [],
   "source": [
    "print('Average Accuracy: \\t{:2.2f}\\nAverage Error: \\t\\t{:2.2f}'.format(Accavg*100, Etotavg*100))"
   ]
  },
  {
   "cell_type": "code",
   "execution_count": null,
   "metadata": {},
   "outputs": [],
   "source": []
  }
 ],
 "metadata": {
  "kernelspec": {
   "display_name": "Python 3",
   "language": "python",
   "name": "python3"
  },
  "language_info": {
   "codemirror_mode": {
    "name": "ipython",
    "version": 3
   },
   "file_extension": ".py",
   "mimetype": "text/x-python",
   "name": "python",
   "nbconvert_exporter": "python",
   "pygments_lexer": "ipython3",
   "version": "3.6.8"
  }
 },
 "nbformat": 4,
 "nbformat_minor": 1
}
