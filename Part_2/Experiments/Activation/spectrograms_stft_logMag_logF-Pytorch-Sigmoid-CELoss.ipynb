{
 "cells": [
  {
   "cell_type": "code",
   "execution_count": 20,
   "metadata": {},
   "outputs": [],
   "source": [
    "import os,sys,signal, copy\n",
    "import math\n",
    "from contextlib import contextmanager\n",
    "\n",
    "import pickle\n",
    "import numpy as np                                       # fast vectors and matrices\n",
    "import matplotlib.pyplot as plt                          # plotting\n",
    "import matplotlib.ticker as ticker\n",
    "from matplotlib.animation import ArtistAnimation\n",
    "\n",
    "from scipy.fftpack import fft\n",
    "from scipy.signal.windows import hann\n",
    "\n",
    "sys.path.insert(0, '../../')\n",
    "import musicnetRaven as musicnet\n",
    "\n",
    "from time import time\n",
    "\n",
    "sys.path.insert(0,'../../lib/')\n",
    "import config\n",
    "import diagnosticsP3\n",
    "# import base_model\n",
    "\n",
    "from sklearn.metrics import average_precision_score\n",
    "\n",
    "os.environ['CUDA_DEVICE_ORDER']='PCI_BUS_ID'   # see issue #152\n",
    "os.environ['CUDA_VISIBLE_DEVICES']='1'\n",
    "\n",
    "import torch\n",
    "from torch.nn.functional import conv1d, mse_loss\n",
    "from torchcontrib.optim import SWA\n",
    "\n",
    "from tqdm import tqdm\n",
    "import mir_eval\n",
    "\n",
    "%matplotlib inline\n",
    "\n",
    "device = torch.device(\"cuda:0\" if torch.cuda.is_available() else \"cpu\")"
   ]
  },
  {
   "cell_type": "code",
   "execution_count": 21,
   "metadata": {},
   "outputs": [],
   "source": [
    "# function for returning scientific notation in a plot\n",
    "def fmt(x, pos):\n",
    "    a, b = '{:.0e}'.format(x).split('e')\n",
    "    b = int(b)\n",
    "    return fr'${a} \\times 10^{{{b}}}$'"
   ]
  },
  {
   "cell_type": "code",
   "execution_count": 22,
   "metadata": {},
   "outputs": [],
   "source": [
    "# lvl1 convolutions are shared between regions\n",
    "m = 128\n",
    "k = 500              # lvl1 nodes\n",
    "n_fft = 4096              # lvl1 receptive field\n",
    "window = 16384 # total number of audio samples?\n",
    "stride = 512\n",
    "batch_size = 500\n",
    "regions = 1 + (window - n_fft)//stride\n",
    "\n",
    "def worker_init(args):\n",
    "    signal.signal(signal.SIGINT, signal.SIG_IGN) # ignore signals so parent can handle them\n",
    "    np.random.seed(os.getpid() ^ int(time())) # approximately random seed for workers\n",
    "kwargs = {'num_workers': 15, 'pin_memory': True, 'worker_init_fn': worker_init}"
   ]
  },
  {
   "cell_type": "code",
   "execution_count": 23,
   "metadata": {},
   "outputs": [
    {
     "name": "stdout",
     "output_type": "stream",
     "text": [
      "Time used =  33.563637256622314\n"
     ]
    }
   ],
   "source": [
    "start = time()\n",
    "root = '../../../data/'\n",
    "train_set = musicnet.MusicNet(root=root, epoch_size=100000\n",
    "                              , train=True, download=True, refresh_cache=False, \n",
    "                              window=window, mmap=False)#, pitch_shift=5, jitter=.1)\n",
    "test_set = musicnet.MusicNet(root=root, train=False, download=True, refresh_cache=False, window=window, epoch_size=50000, mmap=False)\n",
    "print(\"Time used = \", time()-start)"
   ]
  },
  {
   "cell_type": "code",
   "execution_count": 24,
   "metadata": {},
   "outputs": [],
   "source": [
    "train_loader = torch.utils.data.DataLoader(dataset=train_set,batch_size=batch_size,**kwargs)\n",
    "test_loader = torch.utils.data.DataLoader(dataset=test_set,batch_size=batch_size,**kwargs)"
   ]
  },
  {
   "cell_type": "code",
   "execution_count": 25,
   "metadata": {},
   "outputs": [],
   "source": [
    "def create_filtersv2(n_fft, freq_bins=None, low=50,high=6000, sr=44100, freq_scale='linear', mode=\"fft\"):\n",
    "    if freq_bins==None:\n",
    "        freq_bins = n_fft//2+1\n",
    "    \n",
    "    s = torch.arange(0, n_fft, 1.)\n",
    "    wsin = torch.empty((freq_bins,1,n_fft))\n",
    "    wcos = torch.empty((freq_bins,1,n_fft))\n",
    "    start_freq = low\n",
    "    end_freq = high\n",
    "    \n",
    "\n",
    "    # num_cycles = start_freq*d/44000.\n",
    "    # scaling_ind = np.log(end_freq/start_freq)/k\n",
    "    \n",
    "    if mode==\"fft\":\n",
    "        window_mask = 1\n",
    "    elif mode==\"stft\":\n",
    "        window_mask = 0.5-0.5*torch.cos(2*math.pi*s/(n_fft)) # same as hann(n_fft, sym=False)\n",
    "    else:\n",
    "        raise Exception(\"Unknown mode, please chooes either \\\"stft\\\" or \\\"fft\\\"\")\n",
    "        \n",
    "    if freq_scale == 'linear':\n",
    "        start_bin = start_freq*n_fft/sr\n",
    "        scaling_ind = (end_freq/start_freq)/freq_bins\n",
    "        for k in range(freq_bins): # Only half of the bins contain useful info\n",
    "            wsin[k,0,:] = window_mask*torch.sin(2*math.pi*(k*scaling_ind*start_bin)*s/n_fft)\n",
    "            wcos[k,0,:] = window_mask*torch.cos(2*math.pi*(k*scaling_ind*start_bin)*s/n_fft)\n",
    "    elif freq_scale == 'log':\n",
    "        start_bin = start_freq*n_fft/sr\n",
    "        scaling_ind = np.log(end_freq/start_freq)/freq_bins\n",
    "        for k in range(freq_bins): # Only half of the bins contain useful info\n",
    "            wsin[k,0,:] = window_mask*torch.sin(2*math.pi*(np.exp(k*scaling_ind)*start_bin)*s/n_fft)\n",
    "            wcos[k,0,:] = window_mask*torch.cos(2*math.pi*(np.exp(k*scaling_ind)*start_bin)*s/n_fft)    \n",
    "    else:\n",
    "        print(\"Please select the correct frequency scale, 'linear' or 'log'\")\n",
    "    \n",
    "    return wsin,wcos\n"
   ]
  },
  {
   "cell_type": "code",
   "execution_count": 26,
   "metadata": {},
   "outputs": [],
   "source": [
    "Loss = torch.nn.BCELoss()\n",
    "def L(yhatvar,y):\n",
    "    return Loss(yhatvar,y) * 128/2"
   ]
  },
  {
   "cell_type": "code",
   "execution_count": 27,
   "metadata": {},
   "outputs": [],
   "source": [
    "class Model(torch.nn.Module):\n",
    "    def __init__(self, avg=.9998):\n",
    "        super(Model, self).__init__()\n",
    "        # Create filter windows\n",
    "        wsin, wcos = create_filtersv2(n_fft,k, low=50, high=5500,\n",
    "                                      mode=\"stft\", freq_scale='log')\n",
    "        with torch.cuda.device(0):\n",
    "            self.wsin = torch.Tensor(wsin).cuda()\n",
    "            self.wcos = torch.Tensor(wcos).cuda()\n",
    "            \n",
    "        # Creating Layers\n",
    "        self.linear = torch.nn.Linear(regions*k, m)\n",
    "        torch.nn.init.constant_(self.linear.weight, 0) # initialize\n",
    "        self.activation = torch.nn.Sigmoid()\n",
    "        \n",
    "        self.avg = avg\n",
    "        #Create a container for weight average\n",
    "        self.averages = copy.deepcopy(list(parm.cuda().data for parm in self.parameters())) \n",
    "\n",
    "        \n",
    "    def forward(self,x):\n",
    "        zx = conv1d(x[:,None,:], self.wsin, stride=stride).pow(2) \\\n",
    "           + conv1d(x[:,None,:], self.wcos, stride=stride).pow(2)\n",
    "        return self.activation(self.linear(torch.log(zx + 10e-8).view(x.data.size()[0],regions*k)))\n",
    "    \n",
    "    def average_iterates(self):\n",
    "        for parm, pavg in zip(self.parameters(), self.averages):\n",
    "            pavg.mul_(self.avg).add_(1.-self.avg, parm.data) # 0.9W_avg + 0.1W_this_ite\n",
    "    \n",
    "    \n",
    "@contextmanager\n",
    "def averages(model):\n",
    "    orig_parms = copy.deepcopy(list(parm.data for parm in model.parameters()))\n",
    "    for parm, pavg in zip(model.parameters(), model.averages):\n",
    "        parm.data.copy_(pavg)\n",
    "    yield\n",
    "    for parm, orig in zip(model.parameters(), orig_parms):\n",
    "        parm.data.copy_(orig)"
   ]
  },
  {
   "cell_type": "markdown",
   "metadata": {},
   "source": [
    "# Averaged Weights"
   ]
  },
  {
   "cell_type": "code",
   "execution_count": 28,
   "metadata": {},
   "outputs": [
    {
     "name": "stdout",
     "output_type": "stream",
     "text": [
      "epoch\ttrain loss\ttest loss\ttrain avg\ttest avg\ttime\tutime\n",
      "0\t5.367611\t26.698746\t0.336769\t0.444725\t20.2\t6.6\n",
      "1\t3.172950\t18.670095\t0.595403\t0.532845\t19.9\t6.8\n",
      "2\t2.997413\t14.840016\t0.619592\t0.560994\t19.7\t6.3\n",
      "3\t2.905211\t12.509063\t0.633574\t0.581956\t19.9\t6.3\n",
      "4\t2.853811\t10.809912\t0.643244\t0.594807\t20.2\t6.4\n",
      "5\t2.815298\t9.501044\t0.648504\t0.605931\t20.5\t6.6\n",
      "6\t2.780649\t8.410359\t0.653068\t0.609869\t23.1\t9.0\n",
      "7\t2.762182\t7.502660\t0.656888\t0.618410\t21.1\t6.8\n",
      "8\t2.740484\t6.760356\t0.661152\t0.621832\t21.2\t6.1\n",
      "9\t2.735180\t6.142799\t0.661029\t0.623417\t20.5\t6.2\n",
      "10\t2.715044\t5.602604\t0.664927\t0.628714\t21.4\t7.0\n",
      "11\t2.700934\t5.160160\t0.666856\t0.636164\t19.9\t6.5\n",
      "12\t2.694794\t4.785058\t0.667425\t0.635059\t19.1\t6.4\n",
      "13\t2.690215\t4.443722\t0.668993\t0.639771\t18.3\t6.2\n",
      "14\t2.685303\t4.163694\t0.670387\t0.642754\t18.4\t6.5\n",
      "15\t2.671856\t3.933516\t0.673750\t0.644663\t19.0\t6.6\n",
      "16\t2.665984\t3.704273\t0.672526\t0.646499\t18.9\t6.6\n",
      "17\t2.654783\t3.546479\t0.675886\t0.645254\t18.8\t6.4\n",
      "18\t2.665295\t3.375672\t0.673365\t0.647583\t18.4\t6.4\n",
      "19\t2.638634\t3.248535\t0.677396\t0.646417\t18.2\t6.6\n",
      "Finsihed\n"
     ]
    }
   ],
   "source": [
    "model = Model()\n",
    "model.cuda()\n",
    "loss_history_train = []\n",
    "avgp_history_train = []\n",
    "loss_history_test = []\n",
    "avgp_history_test = []\n",
    "epochs = 20\n",
    "avg = .9998\n",
    "optimizer = torch.optim.SGD(model.parameters(), lr=1e-5, momentum=.95)\n",
    "# optimizer = SWA(base_opt, swa_start=0, swa_freq=1, swa_lr=0.000001)\n",
    "\n",
    "try:\n",
    "    with train_set, test_set:\n",
    "        total_i = len(train_loader)\n",
    "        print(\"epoch\\ttrain loss\\ttest loss\\ttrain avg\\ttest avg\\ttime\\tutime\")\n",
    "        for e in range(epochs):\n",
    "            yground = torch.FloatTensor(batch_size*len(train_loader), m) # what not do this together with loss\n",
    "            yhat = torch.FloatTensor(batch_size*len(train_loader), m)\n",
    "            avgp, loss_e = 0.,0\n",
    "            t = time()\n",
    "            for i, (x,y) in enumerate(train_loader):\n",
    "                print(f\"{i}/{total_i} batches\", end = '\\r')\n",
    "                optimizer.zero_grad()\n",
    "                \n",
    "                # making x and y into pytorch dealable format\n",
    "                x = x.cuda(non_blocking=True)\n",
    "                y = y.cuda(non_blocking=True)\n",
    "                yhatvar = model(x)\n",
    "                loss = L(yhatvar,y)\n",
    "                loss.backward()\n",
    "                loss_e += loss.item() #getting the number\n",
    "                \n",
    "                yground[i*batch_size:(i+1)*batch_size] = y.data\n",
    "                yhat[i*batch_size:(i+1)*batch_size] = yhatvar.data\n",
    "                \n",
    "                optimizer.step()\n",
    "                model.average_iterates() # Averaging the weights for validation\n",
    "                \n",
    "            avgp = average_precision_score(yground.flatten(),yhat.flatten())    \n",
    "            loss_history_train.append(loss_e/len(train_loader))\n",
    "            avgp_history_train.append(avgp)   \n",
    "            t1 = time()\n",
    "            avgp, loss_e = 0.,0.           \n",
    "#             optimizer.swap_swa_sgd() # change to average weight\n",
    "            \n",
    "            # For testing\n",
    "            yground = torch.FloatTensor(batch_size*len(test_loader), m) # what not do this together with loss\n",
    "            yhat = torch.FloatTensor(batch_size*len(test_loader), m)\n",
    "            \n",
    "            with averages(model):\n",
    "                for i, (x_test,y_test) in enumerate(test_loader):\n",
    "                    x_test = x_test.cuda()\n",
    "                    y_test = y_test.cuda()\n",
    "                    yhatvar = model(x_test)\n",
    "                    loss_e += L(yhatvar, y_test).item() #getting the number\n",
    "\n",
    "                    yground[i*batch_size:(i+1)*batch_size] = y_test.data\n",
    "                    yhat[i*batch_size:(i+1)*batch_size] = yhatvar.data\n",
    "                avgp = average_precision_score(yground.cpu().flatten(),yhat.cpu().flatten())\n",
    "                loss_history_test.append(loss_e/len(test_loader))\n",
    "                avgp_history_test.append(avgp)\n",
    "                print('{}\\t{:2f}\\t{:2f}\\t{:2f}\\t{:2f}\\t{:2.1f}\\t{:2.1f}'.\\\n",
    "                      format(e,\n",
    "                             loss_history_train[-1],loss_history_test[-1],\n",
    "                             avgp_history_train[-1],avgp_history_test[-1],\n",
    "                             time()-t, time()-t1))\n",
    "\n",
    "\n",
    "        \n",
    "except KeyboardInterrupt:\n",
    "    print('Graceful Exit')\n",
    "else:\n",
    "    print(\"Finsihed\")\n",
    "    "
   ]
  },
  {
   "cell_type": "code",
   "execution_count": 29,
   "metadata": {},
   "outputs": [
    {
     "data": {
      "text/plain": [
       "(0.3, 0.68)"
      ]
     },
     "execution_count": 29,
     "metadata": {},
     "output_type": "execute_result"
    },
    {
     "data": {
      "image/png": "[encoded data removed]",
      "text/plain": [
       "<Figure size 720x288 with 2 Axes>"
      ]
     },
     "metadata": {
      "needs_background": "light"
     },
     "output_type": "display_data"
    }
   ],
   "source": [
    "fig, ax = plt.subplots(1, 2, figsize=(10,4))\n",
    "\n",
    "ax[0].plot(loss_history_train)\n",
    "ax[0].plot(loss_history_test)\n",
    "ax[0].legend(['train', 'test'])\n",
    "ax[0].set_title('Loss', size=20)\n",
    "\n",
    "ax[1].plot(avgp_history_train)\n",
    "ax[1].plot(avgp_history_test)\n",
    "ax[1].legend(['train', 'test'])\n",
    "ax[1].set_title('Accuracy', size=20)\n",
    "ax[1].set_ylim(0.3,0.68)"
   ]
  },
  {
   "cell_type": "markdown",
   "metadata": {
    "collapsed": true
   },
   "source": [
    "# Mirex stats"
   ]
  },
  {
   "cell_type": "code",
   "execution_count": 30,
   "metadata": {},
   "outputs": [],
   "source": [
    "def get_mir_accuracy(Yhat, Y_true, threshold=0.4):\n",
    "    Yhatlist = []\n",
    "    Ylist = []\n",
    "    Yhatpred = Yhat>threshold\n",
    "    for i in range(len(Yhatpred)):\n",
    "        print(f\"{i}/{len(Yhatpred)} batches\", end = '\\r')\n",
    "        fhat = []\n",
    "        f = []\n",
    "        for note in range(m):\n",
    "            if Yhatpred[i][note] == 1:\n",
    "                fhat.append(440.*2**(((note)-69.)/12.))\n",
    "\n",
    "            if Y_true[i][note] == 1:\n",
    "                f.append(440.*2**(((note)-69.)/12.))\n",
    "\n",
    "        Yhatlist.append(np.array(fhat))\n",
    "        Ylist.append(np.array(f))\n",
    "    avp = average_precision_score(Y_true.flatten(),Yhat.detach().cpu().flatten())\n",
    "    P,R,Acc,Esub,Emiss,Efa,Etot,cP,cR,cAcc,cEsub,cEmiss,cEfa,cEtot = \\\n",
    "    mir_eval.multipitch.metrics(np.arange(len(Ylist))/100.,Ylist,np.arange(len(Yhatlist))/100.,Yhatlist)\n",
    "    print('{:.2f}\\t{:.2f}\\t{:.2f}\\t{:.2f}\\t{:.2f}\\t{:.2f}\\t{:.2f}\\t{:.2f}'.format(100*avp,100*P,100*R,Acc,Etot,Esub,Emiss,Efa))\n",
    "    return avp,P,R,Acc,Etot\n",
    "def get_piano_roll(rec_id, window=16384, stride=1000, offset=44100, count=7500):\n",
    "    sf=4\n",
    "    if stride == -1:\n",
    "        stride = (test_set.records[rec_id][1] - offset - int(sf*window))/(count-1)\n",
    "        stride = int(stride)\n",
    "    else:\n",
    "        count = (test_set.records[rec_id][1] - offset - int(sf*window))/stride + 1\n",
    "        count = int(count)\n",
    "        \n",
    "    X = np.zeros([count, window])\n",
    "    Y = np.zeros([count, m])    \n",
    "        \n",
    "    for i in range(count):\n",
    "        X[i,:], Y[i] =  test_set.access(rec_id, offset+i*stride)\n",
    "        \n",
    "    X = torch.tensor(X).float().cuda()\n",
    "    Y_pred = model(X)\n",
    "    \n",
    "    return Y_pred, Y\n",
    "    "
   ]
  },
  {
   "cell_type": "code",
   "execution_count": 31,
   "metadata": {},
   "outputs": [
    {
     "name": "stdout",
     "output_type": "stream",
     "text": [
      "AvgP\tP\tR\tAcc\tETot\tESub\tEmiss\tEfa\n",
      "74.09\t74.93\t63.46\t0.52\t0.46\t0.12\t0.25\t0.09\n",
      "72.64\t70.12\t68.07\t0.53\t0.50\t0.11\t0.21\t0.18\n",
      "38.84\t51.73\t33.72\t0.26\t0.82\t0.16\t0.50\t0.16\n",
      "62.99\t56.74\t74.08\t0.47\t0.73\t0.09\t0.17\t0.47\n",
      "61.81\t57.77\t71.51\t0.47\t0.60\t0.21\t0.08\t0.32\n",
      "65.26\t68.54\t54.14\t0.43\t0.58\t0.12\t0.33\t0.12\n",
      "66.21\t69.13\t58.72\t0.47\t0.53\t0.15\t0.27\t0.12\n",
      "68.10\t69.08\t57.89\t0.46\t0.55\t0.13\t0.29\t0.13\n",
      "75.43\t73.39\t64.38\t0.52\t0.51\t0.08\t0.27\t0.15\n",
      "68.31\t69.13\t64.25\t0.50\t0.51\t0.13\t0.23\t0.16\n"
     ]
    }
   ],
   "source": [
    "print('AvgP\\tP\\tR\\tAcc\\tETot\\tESub\\tEmiss\\tEfa')\n",
    "Accavg = 0\n",
    "Etotavg = 0\n",
    "for songid in test_set.rec_ids:\n",
    "    Y_pred, Y_true = get_piano_roll(songid, stride=-1)\n",
    "#     Yhatpred = Y_pred > 0.4\n",
    "    _,_,_,Acc,Etot = get_mir_accuracy(Y_pred, Y_true)\n",
    "    Accavg += Acc\n",
    "    Etotavg += Etot"
   ]
  },
  {
   "cell_type": "code",
   "execution_count": 32,
   "metadata": {},
   "outputs": [
    {
     "name": "stdout",
     "output_type": "stream",
     "text": [
      "Average Accuracy: \t46.30\n",
      "Average Error: \t\t57.92\n"
     ]
    }
   ],
   "source": [
    "print('Average Accuracy: \\t{:2.2f}\\nAverage Error: \\t\\t{:2.2f}'.format(Accavg*100/len(test_set.rec_ids), Etotavg*100/len(test_set.rec_ids)))"
   ]
  },
  {
   "cell_type": "code",
   "execution_count": 98,
   "metadata": {},
   "outputs": [
    {
     "name": "stdout",
     "output_type": "stream",
     "text": [
      "67.91\t69.78\t60.89\t0.48\t0.52\t0.13\t0.26\t0.13\n"
     ]
    }
   ],
   "source": [
    "for songid in [1759]:\n",
    "    model.eval()\n",
    "    Y_pred, Y_true = get_piano_roll(songid, stride=-1)\n",
    "#     Yhatpred = Y_pred > 0.4\n",
    "    _,_,_,Acc,Etot = get_mir_accuracy(Y_pred, Y_true)"
   ]
  },
  {
   "cell_type": "code",
   "execution_count": 71,
   "metadata": {},
   "outputs": [],
   "source": [
    "from pypianoroll import Multitrack, Track, load, parse"
   ]
  },
  {
   "cell_type": "code",
   "execution_count": 83,
   "metadata": {},
   "outputs": [
    {
     "data": {
      "image/png": "[encoded data removed]",
      "text/plain": [
       "<Figure size 432x288 with 1 Axes>"
      ]
     },
     "metadata": {
      "needs_background": "light"
     },
     "output_type": "display_data"
    }
   ],
   "source": [
    "# Create a piano-roll matrix, where the first and second axes represent time\n",
    "# and pitch, respectively, and assign a C major chord to the piano-roll\n",
    "# Create a `pypianoroll.Track` instance\n",
    "track = Track(pianoroll=Y_true*127, program=0, is_drum=False,\n",
    "              name='my awesome piano')\n",
    "\n",
    "# Plot the piano-roll\n",
    "fig, ax = track.plot()"
   ]
  },
  {
   "cell_type": "code",
   "execution_count": 87,
   "metadata": {},
   "outputs": [],
   "source": [
    "Yhatpred = Y_pred > 0.4"
   ]
  },
  {
   "cell_type": "code",
   "execution_count": 88,
   "metadata": {},
   "outputs": [],
   "source": [
    "Yhatpred = Yhatpred.cpu().numpy()"
   ]
  },
  {
   "cell_type": "code",
   "execution_count": 93,
   "metadata": {},
   "outputs": [],
   "source": [
    "def export_midi(Y_pred, path):\n",
    "    # Create a piano-roll matrix, where the first and second axes represent time\n",
    "    # and pitch, respectively, and assign a C major chord to the piano-roll\n",
    "    # Create a `pypianoroll.Track` instance\n",
    "    track = Track(pianoroll=Y_pred*127, program=0, is_drum=False,\n",
    "                  name='my awesome piano')   \n",
    "    multitrack = Multitrack(tracks=[track], tempo=120.0, beat_resolution=24)\n",
    "    multitrack.write(path)"
   ]
  },
  {
   "cell_type": "code",
   "execution_count": 96,
   "metadata": {},
   "outputs": [],
   "source": [
    "export_midi(Y_true, './Y_true.mid')"
   ]
  },
  {
   "cell_type": "code",
   "execution_count": 33,
   "metadata": {},
   "outputs": [],
   "source": [
    "torch.save(model.state_dict(), './weights/spectrograms_stft_logMag_logF-Pytorch-Sigmoid-CELoss')"
   ]
  },
  {
   "cell_type": "code",
   "execution_count": 102,
   "metadata": {},
   "outputs": [
    {
     "name": "stderr",
     "output_type": "stream",
     "text": [
      "/opt/conda/lib/python3.6/site-packages/torch/serialization.py:256: UserWarning: Couldn't retrieve source code for container of type Model. It won't be checked for correctness upon loading.\n",
      "  \"type \" + obj.__name__ + \". It won't be checked \"\n"
     ]
    }
   ],
   "source": [
    "torch.save(model, './weights/Toy_model_full')"
   ]
  },
  {
   "cell_type": "code",
   "execution_count": null,
   "metadata": {},
   "outputs": [],
   "source": []
  }
 ],
 "metadata": {
  "kernelspec": {
   "display_name": "Python 3",
   "language": "python",
   "name": "python3"
  },
  "language_info": {
   "codemirror_mode": {
    "name": "ipython",
    "version": 3
   },
   "file_extension": ".py",
   "mimetype": "text/x-python",
   "name": "python",
   "nbconvert_exporter": "python",
   "pygments_lexer": "ipython3",
   "version": "3.6.8"
  }
 },
 "nbformat": 4,
 "nbformat_minor": 1
}
