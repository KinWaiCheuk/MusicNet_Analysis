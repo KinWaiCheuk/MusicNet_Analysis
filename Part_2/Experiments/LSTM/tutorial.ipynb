{
 "cells": [
  {
   "cell_type": "code",
   "execution_count": 5,
   "metadata": {},
   "outputs": [],
   "source": [
    "import numpy as np\n",
    "import torch\n",
    "import torch.nn as nn\n",
    "import torch.nn.functional as F\n",
    "import torch.optim as optim\n",
    "import math\n",
    "\n",
    "if torch.cuda.is_available():\n",
    "    device = \"cuda:0\"\n",
    "    torch.set_default_tensor_type('torch.cuda.FloatTensor')"
   ]
  },
  {
   "cell_type": "code",
   "execution_count": 2,
   "metadata": {},
   "outputs": [],
   "source": [
    "# Network Parameters\n",
    "epochs = 20\n",
    "# train_size = 100000\n",
    "# test_size = 50000\n",
    "train_size = 1000\n",
    "test_size = 500\n",
    "lr = 5e-4\n",
    "pitch_shift = 0\n",
    "jitter = 0.\n",
    "num_workers = 10\n",
    "sequence = 3\n",
    "\n",
    "# lvl1 convolutions are shared between regions\n",
    "m = 128\n",
    "k = 512              # lvl1 nodes\n",
    "n_fft = 4096              # lvl1 receptive field\n",
    "window = 16384 # total number of audio samples?\n",
    "stride = 512\n",
    "batch_size = 100"
   ]
  },
  {
   "cell_type": "code",
   "execution_count": 3,
   "metadata": {},
   "outputs": [],
   "source": [
    "def create_filtersv2(n_fft, freq_bins=None, low=50,high=6000, sr=44100, freq_scale='linear', mode=\"fft\"):\n",
    "    if freq_bins==None:\n",
    "        freq_bins = n_fft//2+1\n",
    "    \n",
    "    s = torch.arange(0, n_fft, 1.)\n",
    "    wsin = torch.empty((freq_bins,1,n_fft))\n",
    "    wcos = torch.empty((freq_bins,1,n_fft))\n",
    "    start_freq = low\n",
    "    end_freq = high\n",
    "    \n",
    "\n",
    "    # num_cycles = start_freq*d/44000.\n",
    "    # scaling_ind = np.log(end_freq/start_freq)/k\n",
    "    \n",
    "    if mode==\"fft\":\n",
    "        window_mask = 1\n",
    "    elif mode==\"stft\":\n",
    "        window_mask = 0.5-0.5*torch.cos(2*math.pi*s/(n_fft)) # same as hann(n_fft, sym=False)\n",
    "    else:\n",
    "        raise Exception(\"Unknown mode, please chooes either \\\"stft\\\" or \\\"fft\\\"\")\n",
    "        \n",
    "    if freq_scale == 'linear':\n",
    "        start_bin = start_freq*n_fft/sr\n",
    "        scaling_ind = (end_freq/start_freq)/freq_bins\n",
    "        for k in range(freq_bins): # Only half of the bins contain useful info\n",
    "            wsin[k,0,:] = window_mask*torch.sin(2*math.pi*(k*scaling_ind*start_bin)*s/n_fft)\n",
    "            wcos[k,0,:] = window_mask*torch.cos(2*math.pi*(k*scaling_ind*start_bin)*s/n_fft)\n",
    "    elif freq_scale == 'log':\n",
    "        start_bin = start_freq*n_fft/sr\n",
    "        scaling_ind = np.log(end_freq/start_freq)/freq_bins\n",
    "        for k in range(freq_bins): # Only half of the bins contain useful info\n",
    "            wsin[k,0,:] = window_mask*torch.sin(2*math.pi*(np.exp(k*scaling_ind)*start_bin)*s/n_fft)\n",
    "            wcos[k,0,:] = window_mask*torch.cos(2*math.pi*(np.exp(k*scaling_ind)*start_bin)*s/n_fft)    \n",
    "    else:\n",
    "        print(\"Please select the correct frequency scale, 'linear' or 'log'\")\n",
    "    \n",
    "    return wsin,wcos\n"
   ]
  },
  {
   "cell_type": "code",
   "execution_count": 6,
   "metadata": {},
   "outputs": [],
   "source": [
    "class Model(nn.Module):\n",
    "    def __init__(self, avg=.9998):\n",
    "        super(Model, self).__init__()\n",
    "        # Create filter windows\n",
    "        wsin, wcos = create_filtersv2(n_fft,k, low=50, high=6000,\n",
    "                                      mode=\"stft\", freq_scale='log')\n",
    "\n",
    "        self.wsin = torch.Tensor(wsin)\n",
    "        self.wcos = torch.Tensor(wcos)\n",
    "            \n",
    "        # Creating Layers\n",
    "#         self.linear = torch.nn.Linear(regions*k, k,bias=False)\n",
    "#         self.linear_output = torch.nn.Linear(k,m, bias=False)\n",
    "#         wscale = 10e-5\n",
    "#         torch.nn.init.normal_(self.linear.weight, std=1e-4) # initialize\n",
    "#         torch.nn.init.normal_(self.linear_output.weight, std=1e-4)\n",
    "#         torch.nn.init.zeros_(self.linear.weight)\n",
    "#         torch.nn.init.zeros_(self.linear_output.weight)\n",
    "        k_out = 128\n",
    "        k2_out = 256\n",
    "        stride1 = (2,1)\n",
    "        self.CNN_freq = nn.Conv2d(1,k_out,\n",
    "                                kernel_size=(128,1),stride=(2,1))\n",
    "        self.CNN_time = nn.Conv2d(k_out,k2_out,\n",
    "                                kernel_size=(1,25),stride=(1,1))\n",
    "        self.Linear = nn.Linear(k2_out*1*193, m)\n",
    "        self.activation = nn.ReLU()\n",
    "        self.lstm = nn.LSTM(input_size=m, hidden_size=m)\n",
    "        \n",
    "        torch.nn.init.normal_(self.CNN_freq.weight, std=1e-4)\n",
    "        torch.nn.init.normal_(self.CNN_time.weight, std=1e-4)\n",
    "        torch.nn.init.normal_(self.Linear.weight, std=1e-4)\n",
    "        \n",
    "    def _get_conv_output(self, shape):\n",
    "        bs = 1\n",
    "        x = torch.tensor(torch.rand(bs, *shape))\n",
    "        output_feat = self._forward_features(x)\n",
    "        n_size = output_feat.data.view(bs, -1).size(1)\n",
    "        return n_size\n",
    "        \n",
    "    def forward(self,x):\n",
    "        zx = F.conv1d(x[:,None,:], self.wsin, stride=stride).pow(2) \\\n",
    "           + F.conv1d(x[:,None,:], self.wcos, stride=stride).pow(2)\n",
    "        zx = torch.log(zx + 10e-8) # Log Magnitude Spectrogram\n",
    "        z2 = self.CNN_freq(zx.unsqueeze(1)) # Make channel as 1 (N,C,H,W)\n",
    "        z2 = F.relu(z2)\n",
    "        z3 = self.CNN_time(z2)\n",
    "        z3 = F.relu(z3)\n",
    "        y = self.Linear(self.activation(torch.flatten(z3,1)))\n",
    "        print(y.view(batch_size, sequence, m).transpose(0,1).shape)\n",
    "        y, _ = self.lstm(y.view(batch_size, sequence, m).transpose(0,1))\n",
    "        return y\n",
    "    "
   ]
  },
  {
   "cell_type": "code",
   "execution_count": 7,
   "metadata": {},
   "outputs": [
    {
     "data": {
      "text/plain": [
       "Model(\n",
       "  (CNN_freq): Conv2d(1, 128, kernel_size=(128, 1), stride=(2, 1))\n",
       "  (CNN_time): Conv2d(128, 256, kernel_size=(1, 25), stride=(1, 1))\n",
       "  (Linear): Linear(in_features=49408, out_features=128, bias=True)\n",
       "  (activation): ReLU()\n",
       "  (lstm): LSTM(128, 128)\n",
       ")"
      ]
     },
     "execution_count": 7,
     "metadata": {},
     "output_type": "execute_result"
    }
   ],
   "source": [
    "model = Model()\n",
    "model.to(device)"
   ]
  },
  {
   "cell_type": "code",
   "execution_count": 15,
   "metadata": {},
   "outputs": [],
   "source": [
    "from torchsummary import summary"
   ]
  },
  {
   "cell_type": "code",
   "execution_count": 17,
   "metadata": {},
   "outputs": [
    {
     "ename": "RuntimeError",
     "evalue": "Input type (torch.cuda.FloatTensor) and weight type (torch.FloatTensor) should be the same",
     "output_type": "error",
     "traceback": [
      "\u001b[0;31m---------------------------------------------------------------------------\u001b[0m",
      "\u001b[0;31mRuntimeError\u001b[0m                              Traceback (most recent call last)",
      "\u001b[0;32m<ipython-input-17-174b1623001f>\u001b[0m in \u001b[0;36m<module>\u001b[0;34m\u001b[0m\n\u001b[0;32m----> 1\u001b[0;31m \u001b[0msummary\u001b[0m\u001b[0;34m(\u001b[0m\u001b[0mmodel\u001b[0m\u001b[0;34m,\u001b[0m \u001b[0;34m(\u001b[0m\u001b[0mwindow\u001b[0m\u001b[0;34m,\u001b[0m\u001b[0;34m)\u001b[0m\u001b[0;34m,\u001b[0m \u001b[0mbatch_size\u001b[0m\u001b[0;34m=\u001b[0m\u001b[0mbatch_size\u001b[0m\u001b[0;34m)\u001b[0m\u001b[0;34m\u001b[0m\u001b[0;34m\u001b[0m\u001b[0m\n\u001b[0m",
      "\u001b[0;32m/opt/conda/lib/python3.6/site-packages/torchsummary/torchsummary.py\u001b[0m in \u001b[0;36msummary\u001b[0;34m(model, input_size, batch_size, device)\u001b[0m\n\u001b[1;32m     70\u001b[0m     \u001b[0;31m# make a forward pass\u001b[0m\u001b[0;34m\u001b[0m\u001b[0;34m\u001b[0m\u001b[0;34m\u001b[0m\u001b[0m\n\u001b[1;32m     71\u001b[0m     \u001b[0;31m# print(x.shape)\u001b[0m\u001b[0;34m\u001b[0m\u001b[0;34m\u001b[0m\u001b[0;34m\u001b[0m\u001b[0m\n\u001b[0;32m---> 72\u001b[0;31m     \u001b[0mmodel\u001b[0m\u001b[0;34m(\u001b[0m\u001b[0;34m*\u001b[0m\u001b[0mx\u001b[0m\u001b[0;34m)\u001b[0m\u001b[0;34m\u001b[0m\u001b[0;34m\u001b[0m\u001b[0m\n\u001b[0m\u001b[1;32m     73\u001b[0m \u001b[0;34m\u001b[0m\u001b[0m\n\u001b[1;32m     74\u001b[0m     \u001b[0;31m# remove these hooks\u001b[0m\u001b[0;34m\u001b[0m\u001b[0;34m\u001b[0m\u001b[0;34m\u001b[0m\u001b[0m\n",
      "\u001b[0;32m/opt/conda/lib/python3.6/site-packages/torch/nn/modules/module.py\u001b[0m in \u001b[0;36m__call__\u001b[0;34m(self, *input, **kwargs)\u001b[0m\n\u001b[1;32m    491\u001b[0m             \u001b[0mresult\u001b[0m \u001b[0;34m=\u001b[0m \u001b[0mself\u001b[0m\u001b[0;34m.\u001b[0m\u001b[0m_slow_forward\u001b[0m\u001b[0;34m(\u001b[0m\u001b[0;34m*\u001b[0m\u001b[0minput\u001b[0m\u001b[0;34m,\u001b[0m \u001b[0;34m**\u001b[0m\u001b[0mkwargs\u001b[0m\u001b[0;34m)\u001b[0m\u001b[0;34m\u001b[0m\u001b[0;34m\u001b[0m\u001b[0m\n\u001b[1;32m    492\u001b[0m         \u001b[0;32melse\u001b[0m\u001b[0;34m:\u001b[0m\u001b[0;34m\u001b[0m\u001b[0;34m\u001b[0m\u001b[0m\n\u001b[0;32m--> 493\u001b[0;31m             \u001b[0mresult\u001b[0m \u001b[0;34m=\u001b[0m \u001b[0mself\u001b[0m\u001b[0;34m.\u001b[0m\u001b[0mforward\u001b[0m\u001b[0;34m(\u001b[0m\u001b[0;34m*\u001b[0m\u001b[0minput\u001b[0m\u001b[0;34m,\u001b[0m \u001b[0;34m**\u001b[0m\u001b[0mkwargs\u001b[0m\u001b[0;34m)\u001b[0m\u001b[0;34m\u001b[0m\u001b[0;34m\u001b[0m\u001b[0m\n\u001b[0m\u001b[1;32m    494\u001b[0m         \u001b[0;32mfor\u001b[0m \u001b[0mhook\u001b[0m \u001b[0;32min\u001b[0m \u001b[0mself\u001b[0m\u001b[0;34m.\u001b[0m\u001b[0m_forward_hooks\u001b[0m\u001b[0;34m.\u001b[0m\u001b[0mvalues\u001b[0m\u001b[0;34m(\u001b[0m\u001b[0;34m)\u001b[0m\u001b[0;34m:\u001b[0m\u001b[0;34m\u001b[0m\u001b[0;34m\u001b[0m\u001b[0m\n\u001b[1;32m    495\u001b[0m             \u001b[0mhook_result\u001b[0m \u001b[0;34m=\u001b[0m \u001b[0mhook\u001b[0m\u001b[0;34m(\u001b[0m\u001b[0mself\u001b[0m\u001b[0;34m,\u001b[0m \u001b[0minput\u001b[0m\u001b[0;34m,\u001b[0m \u001b[0mresult\u001b[0m\u001b[0;34m)\u001b[0m\u001b[0;34m\u001b[0m\u001b[0;34m\u001b[0m\u001b[0m\n",
      "\u001b[0;32m<ipython-input-4-ad99e5d9c842>\u001b[0m in \u001b[0;36mforward\u001b[0;34m(self, x)\u001b[0m\n\u001b[1;32m     40\u001b[0m \u001b[0;34m\u001b[0m\u001b[0m\n\u001b[1;32m     41\u001b[0m     \u001b[0;32mdef\u001b[0m \u001b[0mforward\u001b[0m\u001b[0;34m(\u001b[0m\u001b[0mself\u001b[0m\u001b[0;34m,\u001b[0m\u001b[0mx\u001b[0m\u001b[0;34m)\u001b[0m\u001b[0;34m:\u001b[0m\u001b[0;34m\u001b[0m\u001b[0;34m\u001b[0m\u001b[0m\n\u001b[0;32m---> 42\u001b[0;31m         \u001b[0mzx\u001b[0m \u001b[0;34m=\u001b[0m \u001b[0mF\u001b[0m\u001b[0;34m.\u001b[0m\u001b[0mconv1d\u001b[0m\u001b[0;34m(\u001b[0m\u001b[0mx\u001b[0m\u001b[0;34m[\u001b[0m\u001b[0;34m:\u001b[0m\u001b[0;34m,\u001b[0m\u001b[0;32mNone\u001b[0m\u001b[0;34m,\u001b[0m\u001b[0;34m:\u001b[0m\u001b[0;34m]\u001b[0m\u001b[0;34m,\u001b[0m \u001b[0mself\u001b[0m\u001b[0;34m.\u001b[0m\u001b[0mwsin\u001b[0m\u001b[0;34m,\u001b[0m \u001b[0mstride\u001b[0m\u001b[0;34m=\u001b[0m\u001b[0mstride\u001b[0m\u001b[0;34m)\u001b[0m\u001b[0;34m.\u001b[0m\u001b[0mpow\u001b[0m\u001b[0;34m(\u001b[0m\u001b[0;36m2\u001b[0m\u001b[0;34m)\u001b[0m\u001b[0;31m \u001b[0m\u001b[0;31m\\\u001b[0m\u001b[0;34m\u001b[0m\u001b[0;34m\u001b[0m\u001b[0m\n\u001b[0m\u001b[1;32m     43\u001b[0m            \u001b[0;34m+\u001b[0m \u001b[0mF\u001b[0m\u001b[0;34m.\u001b[0m\u001b[0mconv1d\u001b[0m\u001b[0;34m(\u001b[0m\u001b[0mx\u001b[0m\u001b[0;34m[\u001b[0m\u001b[0;34m:\u001b[0m\u001b[0;34m,\u001b[0m\u001b[0;32mNone\u001b[0m\u001b[0;34m,\u001b[0m\u001b[0;34m:\u001b[0m\u001b[0;34m]\u001b[0m\u001b[0;34m,\u001b[0m \u001b[0mself\u001b[0m\u001b[0;34m.\u001b[0m\u001b[0mwcos\u001b[0m\u001b[0;34m,\u001b[0m \u001b[0mstride\u001b[0m\u001b[0;34m=\u001b[0m\u001b[0mstride\u001b[0m\u001b[0;34m)\u001b[0m\u001b[0;34m.\u001b[0m\u001b[0mpow\u001b[0m\u001b[0;34m(\u001b[0m\u001b[0;36m2\u001b[0m\u001b[0;34m)\u001b[0m\u001b[0;34m\u001b[0m\u001b[0;34m\u001b[0m\u001b[0m\n\u001b[1;32m     44\u001b[0m         \u001b[0mzx\u001b[0m \u001b[0;34m=\u001b[0m \u001b[0mtorch\u001b[0m\u001b[0;34m.\u001b[0m\u001b[0mlog\u001b[0m\u001b[0;34m(\u001b[0m\u001b[0mzx\u001b[0m \u001b[0;34m+\u001b[0m \u001b[0;36m10e-8\u001b[0m\u001b[0;34m)\u001b[0m \u001b[0;31m# Log Magnitude Spectrogram\u001b[0m\u001b[0;34m\u001b[0m\u001b[0;34m\u001b[0m\u001b[0m\n",
      "\u001b[0;31mRuntimeError\u001b[0m: Input type (torch.cuda.FloatTensor) and weight type (torch.FloatTensor) should be the same"
     ]
    }
   ],
   "source": [
    "summary(model, (window,), batch_size=batch_size)"
   ]
  },
  {
   "cell_type": "code",
   "execution_count": 6,
   "metadata": {},
   "outputs": [],
   "source": [
    "# x = torch.rand([3, 100, 128])\n",
    "batch_size=10\n",
    "sequence=2\n",
    "x = torch.rand(batch_size*sequence,window)"
   ]
  },
  {
   "cell_type": "code",
   "execution_count": 8,
   "metadata": {},
   "outputs": [
    {
     "ename": "NameError",
     "evalue": "name 'x' is not defined",
     "output_type": "error",
     "traceback": [
      "\u001b[0;31m---------------------------------------------------------------------------\u001b[0m",
      "\u001b[0;31mNameError\u001b[0m                                 Traceback (most recent call last)",
      "\u001b[0;32m<ipython-input-8-bd0200007a4a>\u001b[0m in \u001b[0;36m<module>\u001b[0;34m\u001b[0m\n\u001b[0;32m----> 1\u001b[0;31m \u001b[0mmodel\u001b[0m\u001b[0;34m(\u001b[0m\u001b[0mx\u001b[0m\u001b[0;34m)\u001b[0m\u001b[0;34m\u001b[0m\u001b[0;34m\u001b[0m\u001b[0m\n\u001b[0m",
      "\u001b[0;31mNameError\u001b[0m: name 'x' is not defined"
     ]
    }
   ],
   "source": [
    "model(x)"
   ]
  },
  {
   "cell_type": "code",
   "execution_count": 10,
   "metadata": {},
   "outputs": [],
   "source": [
    "test = torch.randn([2, 10, 128])"
   ]
  },
  {
   "cell_type": "code",
   "execution_count": 11,
   "metadata": {},
   "outputs": [],
   "source": [
    "output, hidden = model.lstm(test)"
   ]
  },
  {
   "cell_type": "code",
   "execution_count": 12,
   "metadata": {},
   "outputs": [
    {
     "data": {
      "text/plain": [
       "tensor([[[ 9.2887e-02,  1.2167e-02,  2.4735e-01,  ...,  9.7279e-03,\n",
       "          -8.9668e-02, -1.3971e-01],\n",
       "         [ 7.5475e-02,  1.7518e-02,  9.7688e-02,  ..., -2.0750e-02,\n",
       "           7.7046e-03, -1.7113e-01],\n",
       "         [-6.0126e-02,  1.4890e-01, -4.2717e-02,  ..., -2.1198e-02,\n",
       "          -7.6942e-02, -2.2452e-01],\n",
       "         ...,\n",
       "         [ 4.0418e-03,  6.9984e-02, -5.2068e-02,  ..., -3.2988e-02,\n",
       "           3.3356e-02, -2.2957e-02],\n",
       "         [-4.0318e-02,  6.6363e-02, -2.2246e-02,  ..., -6.1911e-02,\n",
       "          -2.2948e-01, -3.1753e-01],\n",
       "         [ 7.0087e-02,  8.1119e-03, -3.8013e-02,  ...,  2.0789e-01,\n",
       "           1.0536e-01,  3.6563e-02]],\n",
       "\n",
       "        [[ 2.3396e-01,  1.5800e-01,  1.5966e-01,  ..., -9.7576e-03,\n",
       "           2.4485e-02, -8.2572e-02],\n",
       "         [-2.8950e-02,  1.2393e-01,  5.8415e-02,  ..., -1.8619e-01,\n",
       "           1.4774e-01,  3.2130e-02],\n",
       "         [ 7.1430e-02,  2.0507e-01,  6.8264e-02,  ...,  1.5714e-02,\n",
       "           1.7735e-04, -1.0748e-01],\n",
       "         ...,\n",
       "         [-3.2890e-02,  3.1534e-02,  6.9256e-02,  ..., -6.4594e-02,\n",
       "          -8.4471e-03,  8.9548e-02],\n",
       "         [-6.6219e-02,  1.7597e-01, -6.1993e-02,  ...,  2.1224e-02,\n",
       "          -2.3950e-02, -1.3845e-01],\n",
       "         [ 3.8375e-02,  9.3676e-02, -2.0950e-02,  ...,  2.3881e-01,\n",
       "           1.7401e-01, -1.2077e-02]]], grad_fn=<CudnnRnnBackward>)"
      ]
     },
     "execution_count": 12,
     "metadata": {},
     "output_type": "execute_result"
    }
   ],
   "source": [
    "output"
   ]
  },
  {
   "cell_type": "code",
   "execution_count": null,
   "metadata": {},
   "outputs": [],
   "source": []
  }
 ],
 "metadata": {
  "kernelspec": {
   "display_name": "Python 3",
   "language": "python",
   "name": "python3"
  },
  "language_info": {
   "codemirror_mode": {
    "name": "ipython",
    "version": 3
   },
   "file_extension": ".py",
   "mimetype": "text/x-python",
   "name": "python",
   "nbconvert_exporter": "python",
   "pygments_lexer": "ipython3",
   "version": "3.6.8"
  }
 },
 "nbformat": 4,
 "nbformat_minor": 2
}
