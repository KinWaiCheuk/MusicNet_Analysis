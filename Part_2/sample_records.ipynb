{
 "cells": [
  {
   "cell_type": "code",
   "execution_count": 91,
   "metadata": {},
   "outputs": [],
   "source": [
    "import numpy as np\n",
    "import os\n",
    "import pickle\n",
    "\n",
    "sz_float = 4\n",
    "epsilon = 10e-8"
   ]
  },
  {
   "cell_type": "markdown",
   "metadata": {},
   "source": [
    "# Getting rec_ids"
   ]
  },
  {
   "cell_type": "code",
   "execution_count": 88,
   "metadata": {},
   "outputs": [],
   "source": [
    "data_path = '../data/test_data/'\n",
    "labels_path = '../data/test_labels/test_tree.pckl'\n",
    "records = dict()"
   ]
  },
  {
   "cell_type": "code",
   "execution_count": 94,
   "metadata": {},
   "outputs": [],
   "source": [
    "for record in os.listdir(data_path):\n",
    "    if not record.endswith('.bin'): continue\n",
    "    f = open(os.path.join(data_path, record))\n",
    "    records[int(record[:-4])] = (os.path.join(data_path, record),os.fstat(f.fileno()).st_size/sz_float)\n",
    "    f.close()"
   ]
  },
  {
   "cell_type": "code",
   "execution_count": 96,
   "metadata": {},
   "outputs": [],
   "source": [
    "sf = 0\n",
    "rec_ids = (2556, 2303, 2382, 2416, 2191, 2298, 2106, 2628, 1819, 1759)\n",
    "window = 16384\n",
    "m = 128\n",
    "offset = 44100\n",
    "normalize=True\n",
    "\n",
    "\n",
    "with open(labels_path, 'rb') as f:\n",
    "    labels = pickle.load(f)"
   ]
  },
  {
   "cell_type": "code",
   "execution_count": 97,
   "metadata": {},
   "outputs": [],
   "source": [
    "def access(rec_id,s,shift=0,jitter=0):\n",
    "    \"\"\"\n",
    "    Args:\n",
    "        rec_id (int): MusicNet id of the requested recording\n",
    "        s (int): Position of the requested data point\n",
    "        shift (int, optional): Integral pitch-shift data transformation\n",
    "        jitter (float, optional): Continuous pitch-jitter data transformation\n",
    "    Returns:\n",
    "        tuple: (audio, target) where target is a binary vector indicating notes on at the center of the audio.\n",
    "    \"\"\"\n",
    "\n",
    "    scale = 2.**((shift+jitter)/12.)\n",
    "\n",
    "    fid,_ = records[rec_id]\n",
    "    with open(fid, 'rb') as f:\n",
    "        f.seek(s*sz_float, os.SEEK_SET)\n",
    "        x = np.fromfile(f, dtype=np.float32, count=int(scale*window))\n",
    "\n",
    "    if normalize: x /= np.linalg.norm(x) + epsilon\n",
    "\n",
    "    xp = np.arange(window,dtype=np.float32)\n",
    "    x = np.interp(scale*xp,np.arange(len(x),dtype=np.float32),x).astype(np.float32)\n",
    "\n",
    "    y = np.zeros(m,dtype=np.float32)\n",
    "    for label in labels[rec_id][s+scale*window/2]:\n",
    "        y[label.data[1]+shift] = 1\n",
    "\n",
    "    return x,y"
   ]
  },
  {
   "cell_type": "code",
   "execution_count": 156,
   "metadata": {},
   "outputs": [],
   "source": [
    "count = 7500\n",
    "for i in range(len(rec_ids)): # loop for num of songs\n",
    "    X = np.zeros([count,1, window, 1])\n",
    "    Y = np.zeros([count, m])\n",
    "    \n",
    "    stride = (records[rec_ids[i]][1] - offset - int(sf*window))/count\n",
    "    stride = int(stride)\n",
    "    \n",
    "    for j in range(count):\n",
    "        X[j, 0, :,0], Y[j] = access(rec_ids[i], offset+j*stride)\n",
    "        \n",
    "    break\n",
    "    "
   ]
  },
  {
   "cell_type": "code",
   "execution_count": null,
   "metadata": {},
   "outputs": [],
   "source": []
  },
  {
   "cell_type": "code",
   "execution_count": 154,
   "metadata": {},
   "outputs": [
    {
     "ename": "SyntaxError",
     "evalue": "'break' outside loop (cell_name, line 26)",
     "output_type": "error",
     "traceback": [
      "\u001b[0;36m  File \u001b[0;32m\"cell_name\"\u001b[0;36m, line \u001b[0;32m26\u001b[0m\n\u001b[0;31mSyntaxError\u001b[0m\u001b[0;31m:\u001b[0m 'break' outside loop\n"
     ]
    }
   ],
   "source": [
    "def visualize_labels(Y, offset, seconds=30, fs = 44100, stride = 512):            \n",
    "    wps = fs/float(stride)               # calculate windows/second\n",
    "    Yvec = np.zeros((int(seconds*wps),128))   # 128 distinct note labels\n",
    "#     colors = {1 : .3a3}\n",
    "##### To do #####\n",
    "# make 1 instrument 1 color\n",
    "#################\n",
    "\n",
    "    for window in range(Yvec.shape[0]):\n",
    "        labels = Y[offset+window*stride]\n",
    "        for label in labels:\n",
    "            Yvec[window,label.data[1]] = 1\n",
    "\n",
    "    fig = plt.figure(figsize=(20,5))\n",
    "    plt.imshow(Yvec.T,aspect='auto',cmap='ocean_r')\n",
    "    plt.gca().invert_yaxis()\n",
    "    fig.axes[0].set_xlabel('window')\n",
    "    fig.axes[0].set_ylabel('note (MIDI code)')\n",
    "#     plt.close()\n",
    "    \n",
    "    return Yvec"
   ]
  },
  {
   "cell_type": "code",
   "execution_count": null,
   "metadata": {},
   "outputs": [],
   "source": []
  }
 ],
 "metadata": {
  "kernelspec": {
   "display_name": "Python 3",
   "language": "python",
   "name": "python3"
  },
  "language_info": {
   "codemirror_mode": {
    "name": "ipython",
    "version": 3
   },
   "file_extension": ".py",
   "mimetype": "text/x-python",
   "name": "python",
   "nbconvert_exporter": "python",
   "pygments_lexer": "ipython3",
   "version": "3.6.8"
  }
 },
 "nbformat": 4,
 "nbformat_minor": 2
}
