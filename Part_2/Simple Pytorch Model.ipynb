{
 "cells": [
  {
   "cell_type": "code",
   "execution_count": 16,
   "metadata": {},
   "outputs": [],
   "source": [
    "from sklearn.datasets import make_blobs\n",
    "from sklearn.model_selection import train_test_split\n",
    "\n",
    "\n",
    "import torch\n",
    "from torch.nn import Linear\n",
    "import torchvision\n",
    "\n",
    "# import os\n",
    "# os.environ['CUDA_VISIBLE_DEVICES']='2'\n",
    "device = torch.device(\"cuda:2\" if torch.cuda.is_available() else \"cpu\")"
   ]
  },
  {
   "cell_type": "markdown",
   "metadata": {},
   "source": [
    "# Creating data"
   ]
  },
  {
   "cell_type": "code",
   "execution_count": 3,
   "metadata": {},
   "outputs": [],
   "source": [
    "X, Y = make_blobs(100000,20,10, cluster_std=10)"
   ]
  },
  {
   "cell_type": "code",
   "execution_count": 4,
   "metadata": {},
   "outputs": [],
   "source": [
    "X_train, X_test, y_train, y_test = train_test_split(X,Y, test_size=0.2, random_state=0)"
   ]
  },
  {
   "cell_type": "code",
   "execution_count": 5,
   "metadata": {},
   "outputs": [],
   "source": [
    "trainset = torch.utils.data.TensorDataset(torch.Tensor(X_train),torch.Tensor(y_train))\n",
    "trainloader = torch.utils.data.DataLoader(trainset, batch_size=100,shuffle=True, num_workers=2)\n",
    "\n",
    "testset = torch.utils.data.TensorDataset(torch.Tensor(X_test),torch.Tensor(y_test))\n",
    "testloader = torch.utils.data.DataLoader(testset, batch_size=100,shuffle=True, num_workers=2)"
   ]
  },
  {
   "cell_type": "markdown",
   "metadata": {},
   "source": [
    "# Module Approach"
   ]
  },
  {
   "cell_type": "code",
   "execution_count": 6,
   "metadata": {},
   "outputs": [],
   "source": [
    "class Model(torch.nn.Module):\n",
    "    def __init__(self):\n",
    "        super(Model, self).__init__()\n",
    "        self.layer1 = Linear(20,10)\n",
    "    def forward(self, x):\n",
    "        x = self.layer1(x)\n",
    "        return x\n",
    "        "
   ]
  },
  {
   "cell_type": "code",
   "execution_count": 7,
   "metadata": {},
   "outputs": [
    {
     "data": {
      "text/plain": [
       "Model(\n",
       "  (layer1): Linear(in_features=20, out_features=10, bias=True)\n",
       ")"
      ]
     },
     "execution_count": 7,
     "metadata": {},
     "output_type": "execute_result"
    }
   ],
   "source": [
    "model = Model()\n",
    "model.to(device)"
   ]
  },
  {
   "cell_type": "code",
   "execution_count": 8,
   "metadata": {},
   "outputs": [],
   "source": [
    "import torch.optim as optim\n",
    "\n",
    "criterion = torch.nn.CrossEntropyLoss()\n",
    "optimizer = optim.SGD(model.parameters(), lr=0.001, momentum=0.9)"
   ]
  },
  {
   "cell_type": "code",
   "execution_count": 9,
   "metadata": {},
   "outputs": [
    {
     "name": "stdout",
     "output_type": "stream",
     "text": [
      "[1,    10] loss: 9.528\n",
      "[1,    20] loss: 5.213\n",
      "[1,    30] loss: 2.126\n",
      "[1,    40] loss: 1.209\n",
      "[1,    50] loss: 1.027\n",
      "[1,    60] loss: 0.941\n",
      "[1,    70] loss: 0.915\n",
      "[1,    80] loss: 0.712\n",
      "[1,    90] loss: 0.772\n",
      "[1,   100] loss: 0.733\n",
      "[1,   110] loss: 0.866\n",
      "[1,   120] loss: 0.725\n",
      "[1,   130] loss: 0.804\n",
      "[1,   140] loss: 0.688\n",
      "[1,   150] loss: 0.696\n",
      "[1,   160] loss: 0.722\n",
      "[1,   170] loss: 0.690\n",
      "[1,   180] loss: 0.747\n",
      "[1,   190] loss: 0.727\n",
      "[1,   200] loss: 0.750\n",
      "[1,   210] loss: 0.714\n",
      "[1,   220] loss: 0.708\n",
      "[1,   230] loss: 0.771\n",
      "[1,   240] loss: 0.675\n",
      "[1,   250] loss: 0.707\n",
      "[1,   260] loss: 0.681\n",
      "[1,   270] loss: 0.724\n",
      "[1,   280] loss: 0.709\n",
      "[1,   290] loss: 0.646\n",
      "[1,   300] loss: 0.578\n",
      "[1,   310] loss: 0.683\n",
      "[1,   320] loss: 0.662\n",
      "[1,   330] loss: 0.656\n",
      "[1,   340] loss: 0.686\n",
      "[1,   350] loss: 0.670\n",
      "[1,   360] loss: 0.729\n",
      "[1,   370] loss: 0.684\n",
      "[1,   380] loss: 0.654\n",
      "[1,   390] loss: 0.665\n",
      "[1,   400] loss: 0.646\n",
      "[1,   410] loss: 0.640\n",
      "[1,   420] loss: 0.625\n",
      "[1,   430] loss: 0.707\n",
      "[1,   440] loss: 0.660\n",
      "[1,   450] loss: 0.679\n",
      "[1,   460] loss: 0.699\n",
      "[1,   470] loss: 0.594\n",
      "[1,   480] loss: 0.697\n",
      "[1,   490] loss: 0.677\n",
      "[1,   500] loss: 0.702\n",
      "[1,   510] loss: 0.706\n",
      "[1,   520] loss: 0.677\n",
      "[1,   530] loss: 0.744\n",
      "[1,   540] loss: 0.653\n",
      "[1,   550] loss: 0.660\n",
      "[1,   560] loss: 0.693\n",
      "[1,   570] loss: 0.707\n",
      "[1,   580] loss: 0.693\n",
      "[1,   590] loss: 0.690\n",
      "[1,   600] loss: 0.707\n",
      "[1,   610] loss: 0.637\n",
      "[1,   620] loss: 0.669\n",
      "[1,   630] loss: 0.668\n",
      "[1,   640] loss: 0.709\n",
      "[1,   650] loss: 0.647\n",
      "[1,   660] loss: 0.688\n",
      "[1,   670] loss: 0.696\n",
      "[1,   680] loss: 0.750\n",
      "[1,   690] loss: 0.660\n",
      "[1,   700] loss: 0.653\n",
      "[1,   710] loss: 0.685\n",
      "[1,   720] loss: 0.696\n",
      "[1,   730] loss: 0.714\n",
      "[1,   740] loss: 0.689\n",
      "[1,   750] loss: 0.657\n",
      "[1,   760] loss: 0.650\n",
      "[1,   770] loss: 0.706\n",
      "[1,   780] loss: 0.701\n",
      "[1,   790] loss: 0.702\n",
      "[1,   800] loss: 0.681\n",
      "[2,    10] loss: 0.737\n",
      "[2,    20] loss: 0.677\n",
      "[2,    30] loss: 0.716\n",
      "[2,    40] loss: 0.665\n",
      "[2,    50] loss: 0.673\n",
      "[2,    60] loss: 0.696\n",
      "[2,    70] loss: 0.687\n",
      "[2,    80] loss: 0.708\n",
      "[2,    90] loss: 0.679\n",
      "[2,   100] loss: 0.630\n",
      "[2,   110] loss: 0.700\n",
      "[2,   120] loss: 0.684\n",
      "[2,   130] loss: 0.714\n",
      "[2,   140] loss: 0.725\n",
      "[2,   150] loss: 0.658\n",
      "[2,   160] loss: 0.682\n",
      "[2,   170] loss: 0.712\n",
      "[2,   180] loss: 0.694\n",
      "[2,   190] loss: 0.720\n",
      "[2,   200] loss: 0.732\n",
      "[2,   210] loss: 0.693\n",
      "[2,   220] loss: 0.662\n",
      "[2,   230] loss: 0.691\n",
      "[2,   240] loss: 0.652\n",
      "[2,   250] loss: 0.700\n",
      "[2,   260] loss: 0.685\n",
      "[2,   270] loss: 0.649\n",
      "[2,   280] loss: 0.666\n",
      "[2,   290] loss: 0.698\n",
      "[2,   300] loss: 0.702\n",
      "[2,   310] loss: 0.682\n",
      "[2,   320] loss: 0.661\n",
      "[2,   330] loss: 0.675\n",
      "[2,   340] loss: 0.665\n",
      "[2,   350] loss: 0.648\n",
      "[2,   360] loss: 0.680\n",
      "[2,   370] loss: 0.723\n",
      "[2,   380] loss: 0.652\n",
      "[2,   390] loss: 0.674\n",
      "[2,   400] loss: 0.645\n",
      "[2,   410] loss: 0.630\n",
      "[2,   420] loss: 0.651\n",
      "[2,   430] loss: 0.737\n",
      "[2,   440] loss: 0.648\n",
      "[2,   450] loss: 0.717\n",
      "[2,   460] loss: 0.657\n",
      "[2,   470] loss: 0.621\n",
      "[2,   480] loss: 0.721\n",
      "[2,   490] loss: 0.665\n",
      "[2,   500] loss: 0.703\n",
      "[2,   510] loss: 0.699\n",
      "[2,   520] loss: 0.718\n",
      "[2,   530] loss: 0.666\n",
      "[2,   540] loss: 0.686\n",
      "[2,   550] loss: 0.666\n",
      "[2,   560] loss: 0.691\n",
      "[2,   570] loss: 0.717\n",
      "[2,   580] loss: 0.662\n",
      "[2,   590] loss: 0.632\n",
      "[2,   600] loss: 0.722\n",
      "[2,   610] loss: 0.706\n",
      "[2,   620] loss: 0.662\n",
      "[2,   630] loss: 0.671\n",
      "[2,   640] loss: 0.677\n",
      "[2,   650] loss: 0.620\n",
      "[2,   660] loss: 0.649\n",
      "[2,   670] loss: 0.686\n",
      "[2,   680] loss: 0.687\n",
      "[2,   690] loss: 0.673\n",
      "[2,   700] loss: 0.659\n",
      "[2,   710] loss: 0.744\n",
      "[2,   720] loss: 0.665\n",
      "[2,   730] loss: 0.766\n",
      "[2,   740] loss: 0.718\n",
      "[2,   750] loss: 0.659\n",
      "[2,   760] loss: 0.651\n",
      "[2,   770] loss: 0.692\n",
      "[2,   780] loss: 0.652\n",
      "[2,   790] loss: 0.702\n",
      "[2,   800] loss: 0.693\n",
      "Finished Training\n"
     ]
    }
   ],
   "source": [
    "for epoch in range(2):  # loop over the dataset multiple times\n",
    "\n",
    "    running_loss = 0.0\n",
    "    for i, data in enumerate(trainloader, 0):\n",
    "        # get the inputs; data is a list of [inputs, labels]\n",
    "        inputs = data[0].to(device)\n",
    "        labels = data[1].type(torch.LongTensor).to(device)\n",
    "\n",
    "        # zero the parameter gradients\n",
    "        optimizer.zero_grad()\n",
    "\n",
    "        # forward + backward + optimize\n",
    "        outputs = model(inputs)\n",
    "        loss = criterion(outputs, labels)\n",
    "        loss.backward()\n",
    "        optimizer.step()\n",
    "\n",
    "        # print statistics\n",
    "        running_loss += loss.item()\n",
    "        if i % 10 == 9:    # print every 2000 mini-batches\n",
    "            print('[%d, %5d] loss: %.3f' %\n",
    "                  (epoch + 1, i + 1, running_loss / 10))\n",
    "            running_loss = 0.0\n",
    "\n",
    "print('Finished Training')"
   ]
  },
  {
   "cell_type": "code",
   "execution_count": 10,
   "metadata": {},
   "outputs": [
    {
     "name": "stdout",
     "output_type": "stream",
     "text": [
      "Accuracy of the network on the 10000 test images: 76 %\n"
     ]
    }
   ],
   "source": [
    "correct = 0\n",
    "total = 0\n",
    "with torch.no_grad():\n",
    "    for data in testloader:\n",
    "        images = data[0].to(device)\n",
    "        labels = data[1].type(torch.LongTensor).to(device)\n",
    "        outputs = model(images)\n",
    "        _, predicted = torch.max(outputs.data, 1)\n",
    "        total += labels.size(0)\n",
    "        correct += (predicted == labels).sum().item()\n",
    "\n",
    "print('Accuracy of the network on the 10000 test images: %d %%' % (\n",
    "    100 * correct / total))"
   ]
  },
  {
   "cell_type": "code",
   "execution_count": null,
   "metadata": {},
   "outputs": [],
   "source": [
    "\n",
    "        "
   ]
  }
 ],
 "metadata": {
  "kernelspec": {
   "display_name": "Python 3",
   "language": "python",
   "name": "python3"
  },
  "language_info": {
   "codemirror_mode": {
    "name": "ipython",
    "version": 3
   },
   "file_extension": ".py",
   "mimetype": "text/x-python",
   "name": "python",
   "nbconvert_exporter": "python",
   "pygments_lexer": "ipython3",
   "version": "3.6.8"
  }
 },
 "nbformat": 4,
 "nbformat_minor": 2
}
