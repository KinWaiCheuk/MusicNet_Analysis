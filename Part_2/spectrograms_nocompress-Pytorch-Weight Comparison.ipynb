{
 "cells": [
  {
   "cell_type": "code",
   "execution_count": 10,
   "metadata": {},
   "outputs": [],
   "source": [
    "import os,sys,signal, copy\n",
    "import math\n",
    "from contextlib import contextmanager\n",
    "\n",
    "import pickle\n",
    "import numpy as np                                       # fast vectors and matrices\n",
    "import matplotlib.pyplot as plt                          # plotting\n",
    "import matplotlib.ticker as ticker\n",
    "from matplotlib.animation import ArtistAnimation\n",
    "\n",
    "from scipy.fftpack import fft\n",
    "from scipy.signal.windows import hann\n",
    "\n",
    "import musicnetRaven as musicnet\n",
    "\n",
    "from time import time\n",
    "\n",
    "sys.path.insert(0,'lib/')\n",
    "import config\n",
    "import diagnosticsP3\n",
    "# import base_model\n",
    "\n",
    "from sklearn.metrics import average_precision_score\n",
    "\n",
    "os.environ['CUDA_DEVICE_ORDER']='PCI_BUS_ID'   # see issue #152\n",
    "os.environ['CUDA_VISIBLE_DEVICES']='3'\n",
    "\n",
    "import torch\n",
    "from torch.nn.functional import conv1d, mse_loss\n",
    "from torchcontrib.optim import SWA\n",
    "\n",
    "%matplotlib inline\n",
    "\n",
    "device = torch.device(\"cuda:0\" if torch.cuda.is_available() else \"cpu\")"
   ]
  },
  {
   "cell_type": "code",
   "execution_count": 11,
   "metadata": {},
   "outputs": [],
   "source": [
    "# function for returning scientific notation in a plot\n",
    "def fmt(x, pos):\n",
    "    a, b = '{:.0e}'.format(x).split('e')\n",
    "    b = int(b)\n",
    "    return fr'${a} \\times 10^{{{b}}}$'"
   ]
  },
  {
   "cell_type": "code",
   "execution_count": 15,
   "metadata": {},
   "outputs": [],
   "source": [
    "# lvl1 convolutions are shared between regions\n",
    "m = 128\n",
    "k = 500              # lvl1 nodes\n",
    "n_fft = 4096              # lvl1 receptive field\n",
    "window = 16384 # total number of audio samples?\n",
    "stride = 512\n",
    "batch_size = 500\n",
    "regions = 1 + (window - n_fft)//stride\n",
    "\n",
    "def worker_init(args):\n",
    "    signal.signal(signal.SIGINT, signal.SIG_IGN) # ignore signals so parent can handle them\n",
    "    np.random.seed(os.getpid() ^ int(time())) # approximately random seed for workers\n",
    "kwargs = {'num_workers': 2, 'pin_memory': True, 'worker_init_fn': worker_init}"
   ]
  },
  {
   "cell_type": "code",
   "execution_count": 16,
   "metadata": {},
   "outputs": [
    {
     "name": "stdout",
     "output_type": "stream",
     "text": [
      "Time used =  28.281855583190918\n"
     ]
    }
   ],
   "source": [
    "start = time()\n",
    "root = '../data/'\n",
    "train_set = musicnet.MusicNet(root=root\n",
    "                              ,train=True, download=True, \n",
    "                              window=window, mmap=False)#, pitch_shift=5, jitter=.1)\n",
    "test_set = musicnet.MusicNet(root=root, train=False, window=window, epoch_size=50000, mmap=False)\n",
    "print(\"Time used = \", time()-start)"
   ]
  },
  {
   "cell_type": "code",
   "execution_count": 17,
   "metadata": {},
   "outputs": [],
   "source": [
    "train_loader = torch.utils.data.DataLoader(dataset=train_set,batch_size=batch_size,**kwargs)\n",
    "test_loader = torch.utils.data.DataLoader(dataset=test_set,batch_size=batch_size,**kwargs)"
   ]
  },
  {
   "cell_type": "code",
   "execution_count": 18,
   "metadata": {},
   "outputs": [],
   "source": [
    "def create_filters(n_fft, freq_bins=None, low=50,high=6000, mode=\"fft\"):\n",
    "    if freq_bins==None:\n",
    "        freq_bins = n_fft//2+1\n",
    "    \n",
    "    s = np.arange(0, n_fft, 1)\n",
    "    wsin = np.empty((freq_bins,1,n_fft), dtype=np.float32)\n",
    "    wcos = np.empty((freq_bins,1,n_fft), dtype=np.float32)\n",
    "    start_freq = low\n",
    "    end_freq = high\n",
    "    # num_cycles = start_freq*d/44000.\n",
    "    # scaling_ind = np.log(end_freq/start_freq)/k\n",
    "    \n",
    "    if mode==\"fft\":\n",
    "        window_mask = 1\n",
    "    elif mode==\"stft\":\n",
    "        window_mask = hann(n_fft, sym=False) # same as 0.5-0.5*np.cos(2*np.pi*x/(k))\n",
    "    else:\n",
    "        raise Exception(\"Unknown mode, please chooes either \\\"stft\\\" or \\\"fft\\\"\")\n",
    "        \n",
    "\n",
    "    for k in range(freq_bins): # Only half of the bins contain useful info\n",
    "        wsin[k,0,:] = window_mask*np.sin(2*np.pi*k*s/n_fft)\n",
    "        wcos[k,0,:] = window_mask*np.cos(2*np.pi*k*s/n_fft)\n",
    "    \n",
    "    return wsin,wcos\n",
    "\n",
    "def create_filtersv2(n_fft, freq_bins=None, low=50,high=6000, mode=\"fft\"):\n",
    "    if freq_bins==None:\n",
    "        freq_bins = n_fft//2+1\n",
    "    \n",
    "    s = torch.arange(0, n_fft, 1.)\n",
    "    wsin = torch.empty((freq_bins,1,n_fft))\n",
    "    wcos = torch.empty((freq_bins,1,n_fft))\n",
    "    start_freq = low\n",
    "    end_freq = high\n",
    "    # num_cycles = start_freq*d/44000.\n",
    "    # scaling_ind = np.log(end_freq/start_freq)/k\n",
    "    \n",
    "    if mode==\"fft\":\n",
    "        window_mask = 1\n",
    "    elif mode==\"stft\":\n",
    "        window_mask = 0.5-0.5*torch.cos(2*math.pi*s/(n_fft)) # same as hann(n_fft, sym=False)\n",
    "    else:\n",
    "        raise Exception(\"Unknown mode, please chooes either \\\"stft\\\" or \\\"fft\\\"\")\n",
    "        \n",
    "\n",
    "    for k in range(freq_bins): # Only half of the bins contain useful info\n",
    "        wsin[k,0,:] = window_mask*torch.sin(2*math.pi*k*s/n_fft)\n",
    "        wcos[k,0,:] = window_mask*torch.cos(2*math.pi*k*s/n_fft)\n",
    "    \n",
    "    return wsin,wcos\n"
   ]
  },
  {
   "cell_type": "code",
   "execution_count": 19,
   "metadata": {},
   "outputs": [],
   "source": [
    "L = torch.nn.MSELoss()"
   ]
  },
  {
   "cell_type": "code",
   "execution_count": null,
   "metadata": {},
   "outputs": [],
   "source": [
    "class Model(torch.nn.Module):\n",
    "    def __init__(self, avg=.9998):\n",
    "        super(Model, self).__init__()\n",
    "        # Create filter windows\n",
    "        wsin, wcos = create_filtersv2(n_fft,k, mode=\"stft\")\n",
    "        with torch.cuda.device(0):\n",
    "            self.wsin = torch.Tensor(wsin).cuda()\n",
    "            self.wcos = torch.Tensor(wcos).cuda()\n",
    "            \n",
    "        # Creating Layers\n",
    "        self.linear = torch.nn.Linear(regions*k, m)\n",
    "        torch.nn.init.constant_(self.linear.weight, 0) # initialize\n",
    "        \n",
    "        self.avg = avg\n",
    "        #Create a container for weight average\n",
    "        self.averages = copy.deepcopy(list(parm.cuda().data for parm in self.parameters())) \n",
    "\n",
    "        \n",
    "    def forward(self,x):\n",
    "        zx = conv1d(x[:,None,:], self.wsin, stride=stride).pow(2) \\\n",
    "           + conv1d(x[:,None,:], self.wcos, stride=stride).pow(2)\n",
    "        return self.linear(torch.log(zx + 10e-8).view(x.data.size()[0],regions*k))\n",
    "    \n",
    "    def average_iterates(self):\n",
    "        for parm, pavg in zip(self.parameters(), self.averages):\n",
    "            pavg.mul_(self.avg).add_(1.-self.avg, parm.data) # 0.9W_avg + 0.1W_this_ite\n",
    "    \n",
    "    \n",
    "@contextmanager\n",
    "def averages(model):\n",
    "    orig_parms = copy.deepcopy(list(parm.data for parm in model.parameters()))\n",
    "    for parm, pavg in zip(model.parameters(), model.averages):\n",
    "        parm.data.copy_(pavg)\n",
    "    yield\n",
    "    for parm, orig in zip(model.parameters(), orig_parms):\n",
    "        parm.data.copy_(orig)"
   ]
  },
  {
   "cell_type": "markdown",
   "metadata": {},
   "source": [
    "# No Average "
   ]
  },
  {
   "cell_type": "code",
   "execution_count": null,
   "metadata": {},
   "outputs": [
    {
     "name": "stdout",
     "output_type": "stream",
     "text": [
      "squre loss\tavg prec\ttime\t\tutime\n",
      "9/200 batches\r"
     ]
    }
   ],
   "source": [
    "model = Model()\n",
    "model.cuda()\n",
    "loss_history = []\n",
    "avgp_history = []\n",
    "\n",
    "avg = .9998\n",
    "epochs = 20\n",
    "optimizer = torch.optim.SGD(model.parameters(), lr=0.000001, momentum=.95)\n",
    "# optimizer = SWA(base_opt, swa_start=0, swa_freq=1, swa_lr=0.000001)\n",
    "\n",
    "try:\n",
    "    with train_set, test_set:\n",
    "        total_i = len(train_loader)\n",
    "        print(\"squre loss\\tavg prec\\ttime\\t\\tutime\")\n",
    "        for e in range(epochs):\n",
    "            t = time()\n",
    "            # Training\n",
    "            for i, (x,y) in enumerate(train_loader):\n",
    "                print(f\"{i}/{total_i} batches\", end = '\\r')\n",
    "                optimizer.zero_grad()\n",
    "                \n",
    "                # making x and y into pytorch dealable format\n",
    "                x = x.cuda(non_blocking=True)\n",
    "                y = y.cuda(non_blocking=True)\n",
    "                \n",
    "                loss = L(model(x),y)\n",
    "                loss.backward()\n",
    "                optimizer.step()\n",
    "                \n",
    "#                 model.average_iterates() # Averaging the weights for validation\n",
    "                \n",
    "            t1 = time()\n",
    "            avgp, loss = 0.,0.           \n",
    "#             optimizer.swap_swa_sgd() # change to average weight\n",
    "            \n",
    "            # Testing\n",
    "            \n",
    "#             with averages(model):\n",
    "            for i, (x_test,y_test) in enumerate(test_loader):\n",
    "                x_test = x_test.cuda()\n",
    "                y_test = y_test.cuda()\n",
    "                yhatvar = model(x_test)\n",
    "                loss += L(yhatvar, y_test).item() #getting the number\n",
    "                \n",
    "                yground = y_test.data.cpu().numpy()\n",
    "                yhat = yhatvar.data.cpu().numpy()\n",
    "            avgp = average_precision_score(yground.flatten(),yhat.flatten())\n",
    "            loss_history.append(loss/len(test_loader))\n",
    "            avgp_history.append(avgp)\n",
    "            print('{:2f}\\t{:2f}\\t{:2f}\\t{:2f}'.format(loss_history[-1],avgp_history[-1],time()-t, time()-t1))\n",
    "\n",
    "\n",
    "        \n",
    "except KeyboardInterrupt:\n",
    "    print('Graceful Exit')\n",
    "else:\n",
    "    print(\"Finsihed\")\n",
    "    \n",
    "no_average_loss_history = loss_history\n",
    "no_average_avgp_history = avgp_history"
   ]
  },
  {
   "cell_type": "markdown",
   "metadata": {},
   "source": [
    "# Averaged Weights"
   ]
  },
  {
   "cell_type": "code",
   "execution_count": 76,
   "metadata": {},
   "outputs": [
    {
     "name": "stdout",
     "output_type": "stream",
     "text": [
      "squre loss\tavg prec\ttime\t\tutime\n",
      "0.017608\t0.039619\t9.085154\t3.510149\n",
      "0.017358\t0.089775\t8.956689\t3.507010\n",
      "0.017280\t0.134385\t9.089458\t3.557616\n",
      "0.017236\t0.174205\t9.045632\t3.567029\n",
      "0.016995\t0.252768\t9.021455\t3.497863\n",
      "0.016877\t0.302403\t8.869556\t3.420219\n",
      "0.016717\t0.377225\t9.087731\t3.596801\n",
      "0.016593\t0.388041\t8.985042\t3.506407\n",
      "0.016370\t0.444503\t9.008216\t3.535949\n",
      "0.016192\t0.412392\t8.963685\t3.512444\n",
      "0.015974\t0.429002\t8.953453\t3.575049\n",
      "0.015925\t0.403374\t8.965661\t3.506057\n",
      "0.015820\t0.454019\t9.023885\t3.534521\n",
      "0.015665\t0.455687\t9.050569\t3.440142\n",
      "0.015382\t0.478538\t9.090491\t3.604926\n",
      "0.015355\t0.444998\t9.098167\t3.575477\n",
      "0.015185\t0.471404\t9.066603\t3.587163\n",
      "0.015048\t0.511549\t9.038618\t3.560881\n",
      "0.014860\t0.459836\t9.066704\t3.569780\n",
      "0.014797\t0.455355\t9.035859\t3.577923\n",
      "Finsihed\n"
     ]
    }
   ],
   "source": [
    "model = Model()\n",
    "model.cuda()\n",
    "loss_history = []\n",
    "avgp_history = []\n",
    "\n",
    "avg = .9998\n",
    "optimizer = torch.optim.SGD(model.parameters(), lr=0.000001, momentum=.95)\n",
    "# optimizer = SWA(base_opt, swa_start=0, swa_freq=1, swa_lr=0.000001)\n",
    "\n",
    "try:\n",
    "    with train_set, test_set:\n",
    "        total_i = len(train_loader)\n",
    "        print(\"squre loss\\tavg prec\\ttime\\t\\tutime\")\n",
    "        for e in range(epochs):\n",
    "            t = time()\n",
    "            for i, (x,y) in enumerate(train_loader):\n",
    "                print(f\"{i}/{total_i} batches\", end = '\\r')\n",
    "                optimizer.zero_grad()\n",
    "                \n",
    "                # making x and y into pytorch dealable format\n",
    "                x = x.cuda(non_blocking=True)\n",
    "                y = y.cuda(non_blocking=True)\n",
    "                \n",
    "                loss = L(model(x),y)\n",
    "                loss.backward()\n",
    "                optimizer.step()\n",
    "                \n",
    "                model.average_iterates() # Averaging the weights for validation\n",
    "                \n",
    "            t1 = time()\n",
    "            avgp, loss = 0.,0.           \n",
    "#             optimizer.swap_swa_sgd() # change to average weight\n",
    "            \n",
    "            # For testing\n",
    "            yground = torch.FloatTensor(batch_size*len(test_loader), m) # what not do this together with loss\n",
    "            yhat = torch.FloatTensor(batch_size*len(test_loader), m)\n",
    "            \n",
    "            with averages(model):\n",
    "                for i, (x_test,y_test) in enumerate(test_loader):\n",
    "                    x_test = x_test.cuda()\n",
    "                    y_test = y_test.cuda()\n",
    "                    yhatvar = model(x_test)\n",
    "                    loss += L(yhatvar, y_test).item() #getting the number\n",
    "\n",
    "                    yground = y_test.data.cpu().numpy()\n",
    "                    yhat = yhatvar.data.cpu().numpy()\n",
    "                avgp = average_precision_score(yground.flatten(),yhat.flatten())\n",
    "                loss_history.append(loss/len(test_loader))\n",
    "                avgp_history.append(avgp)\n",
    "                print('{:2f}\\t{:2f}\\t{:2f}\\t{:2f}'.format(loss_history[-1],avgp_history[-1],time()-t, time()-t1))\n",
    "\n",
    "\n",
    "        \n",
    "except KeyboardInterrupt:\n",
    "    print('Graceful Exit')\n",
    "else:\n",
    "    print(\"Finsihed\")\n",
    "    \n",
    "average_loss_history = loss_history\n",
    "average_avgp_history = avgp_history"
   ]
  },
  {
   "cell_type": "code",
   "execution_count": 77,
   "metadata": {},
   "outputs": [],
   "source": [
    "W_old = model.linear.weight"
   ]
  },
  {
   "cell_type": "code",
   "execution_count": 81,
   "metadata": {},
   "outputs": [
    {
     "name": "stdout",
     "output_type": "stream",
     "text": [
      "squre loss\tavg prec\ttime\t\tutime\n",
      "0.016488\t0.099942\t9.092021\t3.535851\n",
      "0.016290\t0.144524\t9.055837\t3.542352\n",
      "0.015933\t0.234565\t9.160381\t3.604075\n",
      "0.015704\t0.238341\t8.978658\t3.544090\n",
      "0.015554\t0.315938\t8.961053\t3.492199\n",
      "0.015323\t0.357227\t9.015105\t3.528798\n",
      "0.015142\t0.355992\t8.984607\t3.481203\n",
      "0.015037\t0.360337\t9.087263\t3.549439\n",
      "0.014849\t0.401641\t8.975298\t3.544090\n",
      "0.014693\t0.420365\t9.063250\t3.559409\n",
      "0.014542\t0.403289\t8.981805\t3.561174\n",
      "0.014464\t0.376769\t8.945800\t3.537397\n",
      "0.014334\t0.422115\t9.058784\t3.517835\n",
      "0.014327\t0.422323\t9.023718\t3.547756\n",
      "0.014188\t0.456731\t8.983289\t3.496498\n",
      "0.014130\t0.433514\t9.042904\t3.553344\n",
      "0.014003\t0.431594\t8.946251\t3.570506\n",
      "0.013955\t0.432499\t8.950424\t3.517100\n",
      "0.013828\t0.417979\t9.030600\t3.573377\n",
      "0.013790\t0.441022\t8.986912\t3.548510\n",
      "Finsihed\n"
     ]
    }
   ],
   "source": [
    "model = Model()\n",
    "model.cuda()\n",
    "loss_history = []\n",
    "avgp_history = []\n",
    "\n",
    "avg = .9998\n",
    "base_opt = torch.optim.SGD(model.parameters(), lr=0.000001, momentum=.95)\n",
    "optimizer = SWA(base_opt, swa_start=0, swa_freq=9, swa_lr=0.000001)\n",
    "\n",
    "try:\n",
    "    with train_set, test_set:\n",
    "        total_i = len(train_loader)\n",
    "        print(\"squre loss\\tavg prec\\ttime\\t\\tutime\")\n",
    "        for e in range(epochs):\n",
    "            t = time()\n",
    "            for i, (x,y) in enumerate(train_loader):\n",
    "                print(f\"{i}/{total_i} batches\", end = '\\r')\n",
    "                optimizer.zero_grad()\n",
    "                \n",
    "                # making x and y into pytorch dealable format\n",
    "                x = x.cuda(non_blocking=True)\n",
    "                y = y.cuda(non_blocking=True)\n",
    "                \n",
    "                loss = L(model(x),y)\n",
    "                loss.backward()\n",
    "                optimizer.step()\n",
    "                \n",
    "                \n",
    "            t1 = time()\n",
    "            avgp, loss = 0.,0.           \n",
    "#             optimizer.swap_swa_sgd() # change to average weight\n",
    "            \n",
    "            # For testing\n",
    "            yground = torch.FloatTensor(batch_size*len(test_loader), m) # what not do this together with loss\n",
    "            yhat = torch.FloatTensor(batch_size*len(test_loader), m)\n",
    "            \n",
    "            \n",
    "            optimizer.swap_swa_sgd() # Using the running average weight\n",
    "            for i, (x_test,y_test) in enumerate(test_loader):\n",
    "                x_test = x_test.cuda()\n",
    "                y_test = y_test.cuda()\n",
    "                yhatvar = model(x_test)\n",
    "                loss += L(yhatvar, y_test).item() #getting the number\n",
    "\n",
    "                yground = y_test.data.cpu().numpy()\n",
    "                yhat = yhatvar.data.cpu().numpy()\n",
    "            avgp = average_precision_score(yground.flatten(),yhat.flatten())\n",
    "            loss_history.append(loss/len(test_loader))\n",
    "            avgp_history.append(avgp)\n",
    "            optimizer.swap_swa_sgd()  # Swap back the normal weight\n",
    "            print('{:2f}\\t{:2f}\\t{:2f}\\t{:2f}'.format(loss_history[-1],avgp_history[-1],time()-t, time()-t1))\n",
    "\n",
    "\n",
    "        \n",
    "except KeyboardInterrupt:\n",
    "    print('Graceful Exit')\n",
    "else:\n",
    "    print(\"Finsihed\")\n",
    "    \n",
    "polyak_loss_history = loss_history\n",
    "polyak_avgp_history = avgp_history"
   ]
  },
  {
   "cell_type": "code",
   "execution_count": 83,
   "metadata": {},
   "outputs": [
    {
     "data": {
      "text/plain": [
       "<matplotlib.legend.Legend at 0x7f0670486d30>"
      ]
     },
     "execution_count": 83,
     "metadata": {},
     "output_type": "execute_result"
    },
    {
     "data": {
      "image/png": "[encoded data removed]",
      "text/plain": [
       "<Figure size 864x360 with 2 Axes>"
      ]
     },
     "metadata": {
      "needs_background": "light"
     },
     "output_type": "display_data"
    }
   ],
   "source": [
    "fig, ax = plt.subplots(1,2, figsize=(12,5))\n",
    "ax[0].plot(no_average_loss_history, 'b')\n",
    "ax[0].plot(average_loss_history,'r')\n",
    "ax[0].plot(polyak_loss_history,'g')\n",
    "ax[0].set_title('Loss', size=20)\n",
    "ax[0].tick_params('both', labelsize=14)\n",
    "ax[0].legend(['no average', 'average', 'SWA'])\n",
    "\n",
    "\n",
    "ax[1].plot(no_average_avgp_history, 'b')\n",
    "ax[1].plot(average_avgp_history, 'r')\n",
    "ax[1].plot(polyak_avgp_history, 'g')\n",
    "ax[1].set_title('Accuracy', size=20)\n",
    "ax[1].tick_params('both', labelsize=14)\n",
    "ax[1].legend(['no average', 'average', 'SWA'])"
   ]
  },
  {
   "cell_type": "markdown",
   "metadata": {
    "collapsed": true
   },
   "source": [
    "# Mirex stats"
   ]
  },
  {
   "cell_type": "code",
   "execution_count": 88,
   "metadata": {},
   "outputs": [
    {
     "data": {
      "text/plain": [
       "(2303, 2382, 1819)"
      ]
     },
     "execution_count": 88,
     "metadata": {},
     "output_type": "execute_result"
    }
   ],
   "source": [
    "config.test_ids"
   ]
  },
  {
   "cell_type": "code",
   "execution_count": 87,
   "metadata": {},
   "outputs": [
    {
     "ename": "AttributeError",
     "evalue": "'Model' object has no attribute 'sample_records'",
     "output_type": "error",
     "traceback": [
      "\u001b[0;31m---------------------------------------------------------------------------\u001b[0m",
      "\u001b[0;31mAttributeError\u001b[0m                            Traceback (most recent call last)",
      "\u001b[0;32m<ipython-input-87-a6e689009f52>\u001b[0m in \u001b[0;36m<module>\u001b[0;34m\u001b[0m\n\u001b[0;32m----> 1\u001b[0;31m \u001b[0mmse_test\u001b[0m\u001b[0;34m,\u001b[0m \u001b[0mYhat\u001b[0m\u001b[0;34m,\u001b[0m \u001b[0mY\u001b[0m\u001b[0;34m,\u001b[0m \u001b[0mmse_breakdown\u001b[0m\u001b[0;34m,\u001b[0m \u001b[0mavp_breakdown\u001b[0m \u001b[0;34m=\u001b[0m \u001b[0mmodel\u001b[0m\u001b[0;34m.\u001b[0m\u001b[0msample_records\u001b[0m\u001b[0;34m(\u001b[0m\u001b[0mconfig\u001b[0m\u001b[0;34m.\u001b[0m\u001b[0mtest_ids\u001b[0m\u001b[0;34m,\u001b[0m \u001b[0;36m7500\u001b[0m\u001b[0;34m,\u001b[0m \u001b[0mfixed_stride\u001b[0m\u001b[0;34m=\u001b[0m\u001b[0;36m512\u001b[0m\u001b[0;34m)\u001b[0m\u001b[0;34m\u001b[0m\u001b[0;34m\u001b[0m\u001b[0m\n\u001b[0m\u001b[1;32m      2\u001b[0m \u001b[0mavp_test\u001b[0m \u001b[0;34m=\u001b[0m \u001b[0maverage_precision_score\u001b[0m\u001b[0;34m(\u001b[0m\u001b[0mY\u001b[0m\u001b[0;34m.\u001b[0m\u001b[0mflatten\u001b[0m\u001b[0;34m(\u001b[0m\u001b[0;34m)\u001b[0m\u001b[0;34m,\u001b[0m\u001b[0mYhat\u001b[0m\u001b[0;34m.\u001b[0m\u001b[0mflatten\u001b[0m\u001b[0;34m(\u001b[0m\u001b[0;34m)\u001b[0m\u001b[0;34m)\u001b[0m\u001b[0;34m\u001b[0m\u001b[0;34m\u001b[0m\u001b[0m\n\u001b[1;32m      3\u001b[0m \u001b[0mprint\u001b[0m\u001b[0;34m(\u001b[0m\u001b[0mavp_test\u001b[0m\u001b[0;34m)\u001b[0m\u001b[0;34m\u001b[0m\u001b[0;34m\u001b[0m\u001b[0m\n",
      "\u001b[0;32m/opt/conda/lib/python3.6/site-packages/torch/nn/modules/module.py\u001b[0m in \u001b[0;36m__getattr__\u001b[0;34m(self, name)\u001b[0m\n\u001b[1;32m    537\u001b[0m                 \u001b[0;32mreturn\u001b[0m \u001b[0mmodules\u001b[0m\u001b[0;34m[\u001b[0m\u001b[0mname\u001b[0m\u001b[0;34m]\u001b[0m\u001b[0;34m\u001b[0m\u001b[0;34m\u001b[0m\u001b[0m\n\u001b[1;32m    538\u001b[0m         raise AttributeError(\"'{}' object has no attribute '{}'\".format(\n\u001b[0;32m--> 539\u001b[0;31m             type(self).__name__, name))\n\u001b[0m\u001b[1;32m    540\u001b[0m \u001b[0;34m\u001b[0m\u001b[0m\n\u001b[1;32m    541\u001b[0m     \u001b[0;32mdef\u001b[0m \u001b[0m__setattr__\u001b[0m\u001b[0;34m(\u001b[0m\u001b[0mself\u001b[0m\u001b[0;34m,\u001b[0m \u001b[0mname\u001b[0m\u001b[0;34m,\u001b[0m \u001b[0mvalue\u001b[0m\u001b[0;34m)\u001b[0m\u001b[0;34m:\u001b[0m\u001b[0;34m\u001b[0m\u001b[0;34m\u001b[0m\u001b[0m\n",
      "\u001b[0;31mAttributeError\u001b[0m: 'Model' object has no attribute 'sample_records'"
     ]
    }
   ],
   "source": [
    "mse_test, Yhat, Y, mse_breakdown, avp_breakdown = model.sample_records(config.test_ids, 7500, fixed_stride=512)\n",
    "avp_test = average_precision_score(Y.flatten(),Yhat.flatten())\n",
    "print(avp_test)"
   ]
  },
  {
   "cell_type": "code",
   "execution_count": 8,
   "metadata": {},
   "outputs": [
    {
     "name": "stdout",
     "output_type": "stream",
     "text": [
      "AvgP\tP\tR\tAcc\tETot\tESub\tEmiss\tEfa\n",
      "41.71\t63.06\t22.18\t0.20\t0.80\t0.11\t0.67\t0.02\n",
      "AvgP\tP\tR\tAcc\tETot\tESub\tEmiss\tEfa\n",
      "26.08\t45.29\t10.12\t0.09\t0.95\t0.07\t0.83\t0.05\n",
      "AvgP\tP\tR\tAcc\tETot\tESub\tEmiss\tEfa\n",
      "47.68\t64.24\t21.16\t0.19\t0.83\t0.07\t0.71\t0.04\n",
      "0.158590506342 0.860359774327\n"
     ]
    }
   ],
   "source": [
    "Accavg = Etotavg = 0\n",
    "for i in range(3):\n",
    "    _,_,_,Acc,Etot = visuals.mirex_statistics(model,i,threshold=.4)\n",
    "    Accavg += Acc\n",
    "    Etotavg += Etot\n",
    "\n",
    "print Accavg/3.,Etotavg/3."
   ]
  },
  {
   "cell_type": "markdown",
   "metadata": {
    "collapsed": true
   },
   "source": [
    "# Extended test set stats"
   ]
  },
  {
   "cell_type": "code",
   "execution_count": 7,
   "metadata": {},
   "outputs": [
    {
     "name": "stdout",
     "output_type": "stream",
     "text": [
      "0.404689218856\n"
     ]
    }
   ],
   "source": [
    "mse_test, Yhat, Y, mse_breakdown, avp_breakdown = model.sample_records(config.test_ids_ext, 7500, fixed_stride=512)\n",
    "avp_test = average_precision_score(Y.flatten(),Yhat.flatten())\n",
    "print avp_test"
   ]
  },
  {
   "cell_type": "code",
   "execution_count": 15,
   "metadata": {},
   "outputs": [
    {
     "name": "stdout",
     "output_type": "stream",
     "text": [
      "AvgP\tP\tR\tAcc\tETot\tESub\tEmiss\tEfa\n",
      "41.75\t63.06\t22.18\t0.20\t0.80\t0.11\t0.67\t0.02\n",
      "AvgP\tP\tR\tAcc\tETot\tESub\tEmiss\tEfa\n",
      "26.16\t45.09\t10.12\t0.09\t0.95\t0.07\t0.83\t0.05\n",
      "AvgP\tP\tR\tAcc\tETot\tESub\tEmiss\tEfa\n",
      "47.70\t63.96\t21.19\t0.19\t0.83\t0.07\t0.71\t0.04\n",
      "AvgP\tP\tR\tAcc\tETot\tESub\tEmiss\tEfa\n",
      "31.72\t34.74\t31.58\t0.20\t0.90\t0.38\t0.31\t0.22\n",
      "AvgP\tP\tR\tAcc\tETot\tESub\tEmiss\tEfa\n",
      "44.54\t54.91\t30.48\t0.24\t0.78\t0.16\t0.53\t0.09\n",
      "AvgP\tP\tR\tAcc\tETot\tESub\tEmiss\tEfa\n",
      "45.55\t67.25\t18.61\t0.17\t0.83\t0.08\t0.74\t0.01\n",
      "AvgP\tP\tR\tAcc\tETot\tESub\tEmiss\tEfa\n",
      "40.71\t54.03\t29.58\t0.24\t0.84\t0.11\t0.59\t0.14\n",
      "AvgP\tP\tR\tAcc\tETot\tESub\tEmiss\tEfa\n",
      "44.91\t65.45\t18.29\t0.17\t0.85\t0.06\t0.75\t0.03\n",
      "AvgP\tP\tR\tAcc\tETot\tESub\tEmiss\tEfa\n",
      "47.26\t64.15\t16.07\t0.15\t0.86\t0.07\t0.77\t0.02\n",
      "AvgP\tP\tR\tAcc\tETot\tESub\tEmiss\tEfa\n",
      "35.24\t50.46\t11.62\t0.10\t0.90\t0.10\t0.78\t0.01\n",
      "0.174316824517 0.854800543932\n"
     ]
    }
   ],
   "source": [
    "Accavg = Etotavg = 0\n",
    "for i in range(10):\n",
    "    _,_,_,Acc,Etot = diagnostics.mirex_statistics(model,i,threshold=.4)\n",
    "    Accavg += Acc\n",
    "    Etotavg += Etot\n",
    "\n",
    "print Accavg/10.,Etotavg/10."
   ]
  },
  {
   "cell_type": "code",
   "execution_count": null,
   "metadata": {},
   "outputs": [],
   "source": []
  }
 ],
 "metadata": {
  "kernelspec": {
   "display_name": "Python 3",
   "language": "python",
   "name": "python3"
  },
  "language_info": {
   "codemirror_mode": {
    "name": "ipython",
    "version": 3
   },
   "file_extension": ".py",
   "mimetype": "text/x-python",
   "name": "python",
   "nbconvert_exporter": "python",
   "pygments_lexer": "ipython3",
   "version": "3.6.8"
  }
 },
 "nbformat": 4,
 "nbformat_minor": 1
}
