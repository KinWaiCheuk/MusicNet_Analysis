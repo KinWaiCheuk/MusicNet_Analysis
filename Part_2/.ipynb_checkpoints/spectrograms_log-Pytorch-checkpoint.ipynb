{
 "cells": [
  {
   "cell_type": "code",
   "execution_count": 65,
   "metadata": {},
   "outputs": [],
   "source": [
    "import os,sys,signal, copy\n",
    "import math\n",
    "from contextlib import contextmanager\n",
    "\n",
    "import pickle\n",
    "import numpy as np                                       # fast vectors and matrices\n",
    "import matplotlib.pyplot as plt                          # plotting\n",
    "import matplotlib.ticker as ticker\n",
    "from matplotlib.animation import ArtistAnimation\n",
    "\n",
    "from scipy.fftpack import fft\n",
    "from scipy.signal.windows import hann\n",
    "\n",
    "import musicnetRaven as musicnet\n",
    "\n",
    "from time import time\n",
    "\n",
    "sys.path.insert(0,'lib/')\n",
    "import config\n",
    "import diagnosticsP3\n",
    "# import base_model\n",
    "\n",
    "from sklearn.metrics import average_precision_score\n",
    "\n",
    "os.environ['CUDA_DEVICE_ORDER']='PCI_BUS_ID'   # see issue #152\n",
    "os.environ['CUDA_VISIBLE_DEVICES']='3'\n",
    "\n",
    "import torch\n",
    "from torch.nn.functional import conv1d, mse_loss\n",
    "from torchcontrib.optim import SWA\n",
    "\n",
    "from tqdm import tqdm\n",
    "import mir_eval\n",
    "\n",
    "%matplotlib inline\n",
    "\n",
    "device = torch.device(\"cuda:0\" if torch.cuda.is_available() else \"cpu\")"
   ]
  },
  {
   "cell_type": "code",
   "execution_count": 56,
   "metadata": {},
   "outputs": [],
   "source": [
    "# function for returning scientific notation in a plot\n",
    "def fmt(x, pos):\n",
    "    a, b = '{:.0e}'.format(x).split('e')\n",
    "    b = int(b)\n",
    "    return fr'${a} \\times 10^{{{b}}}$'"
   ]
  },
  {
   "cell_type": "code",
   "execution_count": 57,
   "metadata": {},
   "outputs": [],
   "source": [
    "# lvl1 convolutions are shared between regions\n",
    "m = 128\n",
    "k = 500              # lvl1 nodes\n",
    "n_fft = 4096              # lvl1 receptive field\n",
    "window = 16384 # total number of audio samples?\n",
    "stride = 512\n",
    "batch_size = 500\n",
    "regions = 1 + (window - n_fft)//stride\n",
    "\n",
    "def worker_init(args):\n",
    "    signal.signal(signal.SIGINT, signal.SIG_IGN) # ignore signals so parent can handle them\n",
    "    np.random.seed(os.getpid() ^ int(time())) # approximately random seed for workers\n",
    "kwargs = {'num_workers': 15, 'pin_memory': True, 'worker_init_fn': worker_init}"
   ]
  },
  {
   "cell_type": "code",
   "execution_count": 58,
   "metadata": {},
   "outputs": [
    {
     "name": "stdout",
     "output_type": "stream",
     "text": [
      "Time used =  31.611958503723145\n"
     ]
    }
   ],
   "source": [
    "start = time()\n",
    "root = '../data/'\n",
    "train_set = musicnet.MusicNet(root=root, epoch_size=100000\n",
    "                              , train=True, download=True, refresh_cache=False, \n",
    "                              window=window, mmap=False)#, pitch_shift=5, jitter=.1)\n",
    "test_set = musicnet.MusicNet(root=root, train=False, download=True, refresh_cache=False, window=window, epoch_size=50000, mmap=False)\n",
    "print(\"Time used = \", time()-start)"
   ]
  },
  {
   "cell_type": "code",
   "execution_count": 5,
   "metadata": {},
   "outputs": [],
   "source": [
    "train_loader = torch.utils.data.DataLoader(dataset=train_set,batch_size=batch_size,**kwargs)\n",
    "test_loader = torch.utils.data.DataLoader(dataset=test_set,batch_size=batch_size,**kwargs)"
   ]
  },
  {
   "cell_type": "code",
   "execution_count": 6,
   "metadata": {},
   "outputs": [],
   "source": [
    "def create_filters(n_fft, freq_bins=None, low=50,high=6000, mode=\"fft\"):\n",
    "    if freq_bins==None:\n",
    "        freq_bins = n_fft//2+1\n",
    "    \n",
    "    s = np.arange(0, n_fft, 1)\n",
    "    wsin = np.empty((freq_bins,1,n_fft), dtype=np.float32)\n",
    "    wcos = np.empty((freq_bins,1,n_fft), dtype=np.float32)\n",
    "    start_freq = low\n",
    "    end_freq = high\n",
    "    # num_cycles = start_freq*d/44000.\n",
    "    # scaling_ind = np.log(end_freq/start_freq)/k\n",
    "    \n",
    "    if mode==\"fft\":\n",
    "        window_mask = 1\n",
    "    elif mode==\"stft\":\n",
    "        window_mask = hann(n_fft, sym=False) # same as 0.5-0.5*np.cos(2*np.pi*x/(k))\n",
    "    else:\n",
    "        raise Exception(\"Unknown mode, please chooes either \\\"stft\\\" or \\\"fft\\\"\")\n",
    "        \n",
    "\n",
    "    for k in range(freq_bins): # Only half of the bins contain useful info\n",
    "        wsin[k,0,:] = window_mask*np.sin(2*np.pi*k*s/n_fft)\n",
    "        wcos[k,0,:] = window_mask*np.cos(2*np.pi*k*s/n_fft)\n",
    "    \n",
    "    return wsin,wcos\n",
    "\n",
    "def create_filtersv2(n_fft, freq_bins=None, low=50,high=6000, mode=\"fft\"):\n",
    "    if freq_bins==None:\n",
    "        freq_bins = n_fft//2+1\n",
    "    \n",
    "    s = torch.arange(0, n_fft, 1.)\n",
    "    wsin = torch.empty((freq_bins,1,n_fft))\n",
    "    wcos = torch.empty((freq_bins,1,n_fft))\n",
    "    start_freq = low\n",
    "    end_freq = high\n",
    "    # num_cycles = start_freq*d/44000.\n",
    "    # scaling_ind = np.log(end_freq/start_freq)/k\n",
    "    \n",
    "    if mode==\"fft\":\n",
    "        window_mask = 1\n",
    "    elif mode==\"stft\":\n",
    "        window_mask = 0.5-0.5*torch.cos(2*math.pi*s/(n_fft)) # same as hann(n_fft, sym=False)\n",
    "    else:\n",
    "        raise Exception(\"Unknown mode, please chooes either \\\"stft\\\" or \\\"fft\\\"\")\n",
    "        \n",
    "\n",
    "    for k in range(freq_bins): # Only half of the bins contain useful info\n",
    "        wsin[k,0,:] = window_mask*torch.sin(2*math.pi*k*s/n_fft)\n",
    "        wcos[k,0,:] = window_mask*torch.cos(2*math.pi*k*s/n_fft)\n",
    "    \n",
    "    return wsin,wcos\n"
   ]
  },
  {
   "cell_type": "code",
   "execution_count": 7,
   "metadata": {},
   "outputs": [],
   "source": [
    "Loss = torch.nn.MSELoss()\n",
    "def L(yhatvar,y):\n",
    "    return Loss(yhatvar,y) * 128/2"
   ]
  },
  {
   "cell_type": "code",
   "execution_count": 8,
   "metadata": {},
   "outputs": [],
   "source": [
    "class Model(torch.nn.Module):\n",
    "    def __init__(self, avg=.9998):\n",
    "        super(Model, self).__init__()\n",
    "        # Create filter windows\n",
    "        wsin, wcos = create_filtersv2(n_fft,k, mode=\"stft\")\n",
    "        with torch.cuda.device(0):\n",
    "            self.wsin = torch.Tensor(wsin).cuda()\n",
    "            self.wcos = torch.Tensor(wcos).cuda()\n",
    "            \n",
    "        # Creating Layers\n",
    "        self.linear = torch.nn.Linear(regions*k, m)\n",
    "        torch.nn.init.constant_(self.linear.weight, 0) # initialize\n",
    "        \n",
    "        self.avg = avg\n",
    "        #Create a container for weight average\n",
    "        self.averages = copy.deepcopy(list(parm.cuda().data for parm in self.parameters())) \n",
    "\n",
    "        \n",
    "    def forward(self,x):\n",
    "        zx = conv1d(x[:,None,:], self.wsin, stride=stride).pow(2) \\\n",
    "           + conv1d(x[:,None,:], self.wcos, stride=stride).pow(2)\n",
    "        return self.linear(torch.log(zx + 10e-8).view(x.data.size()[0],regions*k))\n",
    "    \n",
    "    def average_iterates(self):\n",
    "        for parm, pavg in zip(self.parameters(), self.averages):\n",
    "            pavg.mul_(self.avg).add_(1.-self.avg, parm.data) # 0.9W_avg + 0.1W_this_ite\n",
    "    \n",
    "    \n",
    "@contextmanager\n",
    "def averages(model):\n",
    "    orig_parms = copy.deepcopy(list(parm.data for parm in model.parameters()))\n",
    "    for parm, pavg in zip(model.parameters(), model.averages):\n",
    "        parm.data.copy_(pavg)\n",
    "    yield\n",
    "    for parm, orig in zip(model.parameters(), orig_parms):\n",
    "        parm.data.copy_(orig)"
   ]
  },
  {
   "cell_type": "markdown",
   "metadata": {},
   "source": [
    "# Averaged Weights"
   ]
  },
  {
   "cell_type": "code",
   "execution_count": 9,
   "metadata": {},
   "outputs": [
    {
     "name": "stdout",
     "output_type": "stream",
     "text": [
      "epoch\ttrain loss\ttest loss\ttrain avg\ttest avg\ttime\tutime\n",
      "0\t1.072229\t1.106341\t0.467023\t0.341892\t17.3\t6.0\n",
      "1\t0.923763\t1.073271\t0.607078\t0.519456\t17.1\t5.9\n",
      "2\t0.901955\t1.044505\t0.627375\t0.573838\t17.0\t6.0\n",
      "3\t0.893096\t1.018292\t0.632928\t0.589578\t17.0\t6.0\n",
      "4\t0.890534\t0.989619\t0.639884\t0.598602\t16.9\t6.0\n",
      "5\t0.880775\t0.966840\t0.645588\t0.609080\t16.9\t6.0\n",
      "6\t0.879751\t0.944503\t0.648054\t0.616710\t16.9\t5.9\n",
      "7\t0.876990\t0.916966\t0.651348\t0.620258\t16.9\t5.9\n",
      "8\t0.871311\t0.898399\t0.654456\t0.626427\t16.9\t6.0\n",
      "9\t0.875859\t0.877874\t0.652173\t0.630520\t16.9\t6.0\n",
      "10\t0.873087\t0.864884\t0.655250\t0.632616\t17.1\t6.0\n",
      "11\t0.869714\t0.844089\t0.656640\t0.634727\t16.9\t6.0\n",
      "12\t0.871299\t0.832883\t0.658142\t0.637058\t16.9\t5.9\n",
      "13\t0.866449\t0.821970\t0.660597\t0.639578\t17.0\t6.0\n",
      "14\t0.870999\t0.807916\t0.657589\t0.641113\t16.8\t6.0\n",
      "15\t0.868257\t0.797254\t0.658762\t0.637225\t17.0\t6.0\n",
      "16\t0.863974\t0.784023\t0.661816\t0.639994\t16.9\t5.9\n",
      "17\t0.868546\t0.774464\t0.662367\t0.646386\t16.8\t5.9\n",
      "18\t0.862259\t0.769480\t0.663651\t0.642564\t17.0\t6.0\n",
      "19\t0.869988\t0.759953\t0.657652\t0.645525\t16.9\t5.9\n",
      "Finsihed\n"
     ]
    }
   ],
   "source": [
    "model = Model()\n",
    "model.cuda()\n",
    "loss_history_train = []\n",
    "avgp_history_train = []\n",
    "loss_history_test = []\n",
    "avgp_history_test = []\n",
    "epochs = 20\n",
    "avg = .9998\n",
    "optimizer = torch.optim.SGD(model.parameters(), lr=1e-6, momentum=.95)\n",
    "# optimizer = SWA(base_opt, swa_start=0, swa_freq=1, swa_lr=0.000001)\n",
    "\n",
    "try:\n",
    "    with train_set, test_set:\n",
    "        total_i = len(train_loader)\n",
    "        print(\"epoch\\ttrain loss\\ttest loss\\ttrain avg\\ttest avg\\ttime\\tutime\")\n",
    "        for e in range(epochs):\n",
    "            yground = torch.FloatTensor(batch_size*len(train_loader), m) # what not do this together with loss\n",
    "            yhat = torch.FloatTensor(batch_size*len(train_loader), m)\n",
    "            avgp, loss_e = 0.,0\n",
    "            t = time()\n",
    "            for i, (x,y) in enumerate(train_loader):\n",
    "                print(f\"{i}/{total_i} batches\", end = '\\r')\n",
    "                optimizer.zero_grad()\n",
    "                \n",
    "                # making x and y into pytorch dealable format\n",
    "                x = x.cuda(non_blocking=True)\n",
    "                y = y.cuda(non_blocking=True)\n",
    "                yhatvar = model(x)\n",
    "                loss = L(yhatvar,y)\n",
    "                loss.backward()\n",
    "                loss_e += loss.item() #getting the number\n",
    "                \n",
    "                yground[i*batch_size:(i+1)*batch_size] = y.data\n",
    "                yhat[i*batch_size:(i+1)*batch_size] = yhatvar.data\n",
    "                \n",
    "                optimizer.step()\n",
    "                model.average_iterates() # Averaging the weights for validation\n",
    "                \n",
    "            avgp = average_precision_score(yground.flatten(),yhat.flatten())    \n",
    "            loss_history_train.append(loss_e/len(train_loader))\n",
    "            avgp_history_train.append(avgp)   \n",
    "            t1 = time()\n",
    "            avgp, loss_e = 0.,0.           \n",
    "#             optimizer.swap_swa_sgd() # change to average weight\n",
    "            \n",
    "            # For testing\n",
    "            yground = torch.FloatTensor(batch_size*len(test_loader), m) # what not do this together with loss\n",
    "            yhat = torch.FloatTensor(batch_size*len(test_loader), m)\n",
    "            \n",
    "            with averages(model):\n",
    "                for i, (x_test,y_test) in enumerate(test_loader):\n",
    "                    x_test = x_test.cuda()\n",
    "                    y_test = y_test.cuda()\n",
    "                    yhatvar = model(x_test)\n",
    "                    loss_e += L(yhatvar, y_test).item() #getting the number\n",
    "\n",
    "                    yground[i*batch_size:(i+1)*batch_size] = y_test.data\n",
    "                    yhat[i*batch_size:(i+1)*batch_size] = yhatvar.data\n",
    "                avgp = average_precision_score(yground.cpu().flatten(),yhat.cpu().flatten())\n",
    "                loss_history_test.append(loss_e/len(test_loader))\n",
    "                avgp_history_test.append(avgp)\n",
    "                print('{}\\t{:2f}\\t{:2f}\\t{:2f}\\t{:2f}\\t{:2.1f}\\t{:2.1f}'.\\\n",
    "                      format(e,\n",
    "                             loss_history_train[-1],loss_history_test[-1],\n",
    "                             avgp_history_train[-1],avgp_history_test[-1],\n",
    "                             time()-t, time()-t1))\n",
    "\n",
    "\n",
    "        \n",
    "except KeyboardInterrupt:\n",
    "    print('Graceful Exit')\n",
    "else:\n",
    "    print(\"Finsihed\")\n",
    "    "
   ]
  },
  {
   "cell_type": "code",
   "execution_count": 43,
   "metadata": {},
   "outputs": [
    {
     "data": {
      "text/plain": [
       "(0.3, 0.68)"
      ]
     },
     "execution_count": 43,
     "metadata": {},
     "output_type": "execute_result"
    },
    {
     "data": {
      "image/png": "[encoded data removed]",
      "text/plain": [
       "<Figure size 720x288 with 2 Axes>"
      ]
     },
     "metadata": {
      "needs_background": "light"
     },
     "output_type": "display_data"
    }
   ],
   "source": [
    "fig, ax = plt.subplots(1, 2, figsize=(10,4))\n",
    "\n",
    "ax[0].plot(loss_history_train)\n",
    "ax[0].plot(loss_history_test)\n",
    "ax[0].legend(['train', 'test'])\n",
    "ax[0].set_title('Loss', size=20)\n",
    "\n",
    "ax[1].plot(avgp_history_train)\n",
    "ax[1].plot(avgp_history_test)\n",
    "ax[1].legend(['train', 'test'])\n",
    "ax[1].set_title('Accuracy', size=20)\n",
    "ax[1].set_ylim(0.3,0.68)"
   ]
  },
  {
   "cell_type": "markdown",
   "metadata": {
    "collapsed": true
   },
   "source": [
    "# Mirex stats"
   ]
  },
  {
   "cell_type": "code",
   "execution_count": 11,
   "metadata": {},
   "outputs": [],
   "source": [
    "def get_mir_accuracy(Yhat, Y_true, threshold=0.4):\n",
    "    Yhatlist = []\n",
    "    Ylist = []\n",
    "    Yhatpred = Yhat>threshold\n",
    "    for i in range(len(Yhatpred)):\n",
    "        print(f\"{i}/{len(Yhatpred)} batches\", end = '\\r')\n",
    "        fhat = []\n",
    "        f = []\n",
    "        for note in range(m):\n",
    "            if Yhatpred[i][note] == 1:\n",
    "                fhat.append(440.*2**(((note)-69.)/12.))\n",
    "\n",
    "            if Y_true[i][note] == 1:\n",
    "                f.append(440.*2**(((note)-69.)/12.))\n",
    "\n",
    "        Yhatlist.append(np.array(fhat))\n",
    "        Ylist.append(np.array(f))\n",
    "    avp = average_precision_score(Y_true.flatten(),Yhat.detach().cpu().flatten())\n",
    "    P,R,Acc,Esub,Emiss,Efa,Etot,cP,cR,cAcc,cEsub,cEmiss,cEfa,cEtot = \\\n",
    "    mir_eval.multipitch.metrics(np.arange(len(Ylist))/100.,Ylist,np.arange(len(Yhatlist))/100.,Yhatlist)\n",
    "    print('{:.2f}\\t{:.2f}\\t{:.2f}\\t{:.2f}\\t{:.2f}\\t{:.2f}\\t{:.2f}\\t{:.2f}'.format(100*avp,100*P,100*R,Acc,Etot,Esub,Emiss,Efa))\n",
    "    return avp,P,R,Acc,Etot\n",
    "def get_piano_roll(rec_id, window=16384, stride=1000, offset=44100, count=7500):\n",
    "    sf=4\n",
    "    if stride == -1:\n",
    "        stride = (test_set.records[rec_id][1] - offset - int(sf*window))/(count-1)\n",
    "        stride = int(stride)\n",
    "    else:\n",
    "        count = (test_set.records[rec_id][1] - offset - int(sf*window))/stride + 1\n",
    "        count = int(count)\n",
    "        \n",
    "    X = np.zeros([count, window])\n",
    "    Y = np.zeros([count, m])    \n",
    "        \n",
    "    for i in range(count):\n",
    "        X[i,:], Y[i] =  test_set.access(rec_id, offset+i*stride)\n",
    "        \n",
    "    X = torch.tensor(X).float().cuda()\n",
    "    Y_pred = model(X)\n",
    "    \n",
    "    return Y_pred, Y\n",
    "    "
   ]
  },
  {
   "cell_type": "code",
   "execution_count": 12,
   "metadata": {},
   "outputs": [
    {
     "name": "stdout",
     "output_type": "stream",
     "text": [
      "AvgP\tP\tR\tAcc\tETot\tESub\tEmiss\tEfa\n",
      "73.19\t75.31\t60.31\t0.50\t0.47\t0.12\t0.27\t0.07\n",
      "74.45\t73.73\t60.84\t0.50\t0.50\t0.11\t0.29\t0.11\n",
      "34.98\t52.66\t18.59\t0.16\t0.90\t0.08\t0.74\t0.09\n",
      "65.07\t62.31\t66.26\t0.47\t0.66\t0.08\t0.26\t0.32\n",
      "63.41\t52.35\t84.61\t0.48\t0.79\t0.14\t0.02\t0.63\n",
      "68.04\t67.03\t59.78\t0.46\t0.57\t0.13\t0.28\t0.17\n",
      "65.28\t70.54\t53.19\t0.44\t0.57\t0.12\t0.35\t0.11\n",
      "67.80\t68.37\t60.25\t0.47\t0.54\t0.13\t0.26\t0.14\n",
      "75.89\t78.25\t57.12\t0.49\t0.52\t0.07\t0.36\t0.09\n",
      "67.91\t69.78\t60.89\t0.48\t0.52\t0.13\t0.26\t0.13\n"
     ]
    }
   ],
   "source": [
    "print('AvgP\\tP\\tR\\tAcc\\tETot\\tESub\\tEmiss\\tEfa')\n",
    "Accavg = 0\n",
    "Etotavg = 0\n",
    "for songid in test_set.rec_ids:\n",
    "    Y_pred, Y_true = get_piano_roll(songid, stride=-1)\n",
    "#     Yhatpred = Y_pred > 0.4\n",
    "    _,_,_,Acc,Etot = get_mir_accuracy(Y_pred, Y_true)\n",
    "    Accavg += Acc\n",
    "    Etotavg += Etot"
   ]
  },
  {
   "cell_type": "code",
   "execution_count": 19,
   "metadata": {},
   "outputs": [],
   "source": [
    "Accavg = Accavg/len(test_set.rec_ids)"
   ]
  },
  {
   "cell_type": "code",
   "execution_count": 21,
   "metadata": {},
   "outputs": [],
   "source": [
    "Etotavg = Etotavg/len(test_set.rec_ids)"
   ]
  },
  {
   "cell_type": "code",
   "execution_count": 37,
   "metadata": {},
   "outputs": [
    {
     "name": "stdout",
     "output_type": "stream",
     "text": [
      "Average Accuracy: \t44.57\n",
      "Average Error: \t\t60.48\n"
     ]
    }
   ],
   "source": [
    "print('Average Accuracy: \\t{:2.2f}\\nAverage Error: \\t\\t{:2.2f}'.format(Accavg*100, Etotavg*100))"
   ]
  },
  {
   "cell_type": "code",
   "execution_count": 70,
   "metadata": {},
   "outputs": [
    {
     "name": "stdout",
     "output_type": "stream",
     "text": [
      "67.91\t69.78\t60.89\t0.48\t0.52\t0.13\t0.26\t0.13\n"
     ]
    }
   ],
   "source": [
    "for songid in [1759]:\n",
    "    Y_pred, Y_true = get_piano_roll(songid, stride=-1)\n",
    "#     Yhatpred = Y_pred > 0.4\n",
    "    _,_,_,Acc,Etot = get_mir_accuracy(Y_pred, Y_true)"
   ]
  },
  {
   "cell_type": "code",
   "execution_count": 71,
   "metadata": {},
   "outputs": [],
   "source": [
    "from pypianoroll import Multitrack, Track, load, parse"
   ]
  },
  {
   "cell_type": "code",
   "execution_count": 83,
   "metadata": {},
   "outputs": [
    {
     "data": {
      "image/png": "[encoded data removed]",
      "text/plain": [
       "<Figure size 432x288 with 1 Axes>"
      ]
     },
     "metadata": {
      "needs_background": "light"
     },
     "output_type": "display_data"
    }
   ],
   "source": [
    "# Create a piano-roll matrix, where the first and second axes represent time\n",
    "# and pitch, respectively, and assign a C major chord to the piano-roll\n",
    "# Create a `pypianoroll.Track` instance\n",
    "track = Track(pianoroll=Y_true*127, program=0, is_drum=False,\n",
    "              name='my awesome piano')\n",
    "\n",
    "# Plot the piano-roll\n",
    "fig, ax = track.plot()"
   ]
  },
  {
   "cell_type": "code",
   "execution_count": 87,
   "metadata": {},
   "outputs": [],
   "source": [
    "Yhatpred = Y_pred > 0.4"
   ]
  },
  {
   "cell_type": "code",
   "execution_count": 88,
   "metadata": {},
   "outputs": [],
   "source": [
    "Yhatpred = Yhatpred.cpu().numpy()"
   ]
  },
  {
   "cell_type": "code",
   "execution_count": 92,
   "metadata": {},
   "outputs": [],
   "source": [
    "def export_midi(Y_pred, path):\n",
    "    # Create a piano-roll matrix, where the first and second axes represent time\n",
    "    # and pitch, respectively, and assign a C major chord to the piano-roll\n",
    "    # Create a `pypianoroll.Track` instance\n",
    "    track = Track(pianoroll=Y_pred*127, program=0, is_drum=False,\n",
    "                  name='my awesome piano')   \n",
    "    multitrack = Multitrack(tracks=[track], tempo=120.0, beat_resolution=24)\n",
    "    multitrack.write(path)"
   ]
  }
 ],
 "metadata": {
  "kernelspec": {
   "display_name": "Python 3",
   "language": "python",
   "name": "python3"
  },
  "language_info": {
   "codemirror_mode": {
    "name": "ipython",
    "version": 3
   },
   "file_extension": ".py",
   "mimetype": "text/x-python",
   "name": "python",
   "nbconvert_exporter": "python",
   "pygments_lexer": "ipython3",
   "version": "3.6.8"
  }
 },
 "nbformat": 4,
 "nbformat_minor": 1
}
