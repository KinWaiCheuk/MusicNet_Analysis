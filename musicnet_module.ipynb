{
 "cells": [
  {
   "cell_type": "code",
   "execution_count": 1,
   "metadata": {},
   "outputs": [],
   "source": [
    "import sys,os,errno,signal,copy\n",
    "from contextlib import contextmanager\n",
    "\n",
    "import numpy as np\n",
    "import musicnet\n",
    "\n",
    "import torch\n",
    "from torch.autograd import Variable\n",
    "from torch.nn.functional import conv1d, mse_loss\n",
    "\n",
    "from time import time\n",
    "\n",
    "import matplotlib.pyplot as plt\n",
    "from IPython.display import Audio\n",
    "\n",
    "from sklearn.metrics import average_precision_score\n",
    "\n",
    "root = './data/'\n",
    "checkpoint_path = './checkpoints'\n",
    "checkpoint = 'musicnet_demo.pt'\n",
    "\n",
    "try:\n",
    "    os.makedirs(checkpoint_path)\n",
    "except OSError as e:\n",
    "    if e.errno != errno.EEXIST:\n",
    "        raise\n",
    "\n",
    "%matplotlib inline"
   ]
  },
  {
   "cell_type": "code",
   "execution_count": 2,
   "metadata": {},
   "outputs": [],
   "source": [
    "os.environ['CUDA_DEVICE_ORDER']='PCI_BUS_ID'   # see issue #152\n",
    "os.environ['CUDA_VISIBLE_DEVICES']='1'\n",
    "\n",
    "def worker_init(args):\n",
    "    signal.signal(signal.SIGINT, signal.SIG_IGN) # ignore signals so parent can handle them\n",
    "    np.random.seed(os.getpid() ^ int(time())) # approximately random seed for workers\n",
    "\n",
    "batch_size = 100\n",
    "kwargs = {'num_workers': 4, 'pin_memory': True, 'worker_init_fn': worker_init}\n",
    "\n",
    "m = 128\n",
    "k = 500\n",
    "d = 4096\n",
    "window = 16384\n",
    "stride = 512\n",
    "regions = 1 + (window - d)/stride"
   ]
  },
  {
   "cell_type": "code",
   "execution_count": 3,
   "metadata": {},
   "outputs": [],
   "source": [
    "train_set = musicnet.MusicNet(root=root, train=True, download=False, window=window)#, pitch_shift=5, jitter=.1)\n",
    "test_set = musicnet.MusicNet(root=root, train=False, window=window, epoch_size=50000)"
   ]
  },
  {
   "cell_type": "code",
   "execution_count": 4,
   "metadata": {},
   "outputs": [],
   "source": [
    "train_loader = torch.utils.data.DataLoader(dataset=train_set,batch_size=batch_size,**kwargs)\n",
    "test_loader = torch.utils.data.DataLoader(dataset=test_set,batch_size=batch_size,**kwargs)"
   ]
  },
  {
   "cell_type": "code",
   "execution_count": 5,
   "metadata": {},
   "outputs": [],
   "source": [
    "def create_filters(d,k,low=50,high=6000):\n",
    "    x = np.linspace(0, 2*np.pi, d, endpoint=False)\n",
    "    wsin = np.empty((k,1,d), dtype=np.float32)\n",
    "    wcos = np.empty((k,1,d), dtype=np.float32)\n",
    "    start_freq = low\n",
    "    end_freq = high\n",
    "    num_cycles = start_freq*d/44000.\n",
    "    scaling_ind = np.log(end_freq/start_freq)/k\n",
    "    window_mask = 1.0-1.0*np.cos(x)\n",
    "    for ind in range(k):\n",
    "        wsin[ind,0,:] = window_mask*np.sin(np.exp(ind*scaling_ind)*num_cycles*x)\n",
    "        wcos[ind,0,:] = window_mask*np.cos(np.exp(ind*scaling_ind)*num_cycles*x)\n",
    "    \n",
    "    return wsin,wcos"
   ]
  },
  {
   "cell_type": "code",
   "execution_count": 6,
   "metadata": {},
   "outputs": [],
   "source": [
    "def L(y_hat, y):\n",
    "    # adjust for per-frame loss\n",
    "    return mse_loss(y_hat, y)*128/2."
   ]
  },
  {
   "cell_type": "code",
   "execution_count": 7,
   "metadata": {},
   "outputs": [],
   "source": [
    "class Model(torch.nn.Module):\n",
    "    def __init__(self, avg=.9998):\n",
    "        super(Model, self).__init__()\n",
    "        \n",
    "        wsin,wcos = create_filters(d,k)\n",
    "        with torch.cuda.device(0):\n",
    "            self.wsin_var = Variable(torch.from_numpy(wsin).cuda(), requires_grad=False)\n",
    "            self.wcos_var = Variable(torch.from_numpy(wcos).cuda(), requires_grad=False)\n",
    "        print(regions*k)\n",
    "        self.linear = torch.nn.Linear(int(regions*k), m, bias=False).cuda()\n",
    "        torch.nn.init.constant(self.linear.weight, 0) # initialize\n",
    "        \n",
    "        self.avg = avg\n",
    "        self.averages = copy.deepcopy(list(parm.data for parm in self.parameters()))\n",
    "#         for (name,parm),pavg in zip(self.named_parameters(),self.averages):\n",
    "#             print(name)\n",
    "#             self.register_buffer(name + '_avg', pavg)\n",
    "    \n",
    "    def forward(self, x):\n",
    "        zx = conv1d(x[:,None,:], self.wsin_var, stride=stride).pow(2) \\\n",
    "           + conv1d(x[:,None,:], self.wcos_var, stride=stride).pow(2)\n",
    "        return self.linear(torch.log(zx + musicnet.epsilon).view(x.data.size()[0],int(regions*k)))\n",
    "    \n",
    "    def average_iterates(self):\n",
    "        for parm, pavg in zip(self.parameters(), self.averages):\n",
    "            pavg.mul_(self.avg).add_(1.-self.avg, parm.data)\n",
    "            \n",
    "                     \n",
    "\n",
    "@contextmanager\n",
    "def averages(model):\n",
    "    orig_parms = copy.deepcopy(list(parm.data for parm in model.parameters()))\n",
    "    for parm, pavg in zip(model.parameters(), model.averages):\n",
    "        parm.data.copy_(pavg)\n",
    "    yield\n",
    "    for parm, orig in zip(model.parameters(), orig_parms):\n",
    "        parm.data.copy_(orig)"
   ]
  },
  {
   "cell_type": "markdown",
   "metadata": {},
   "source": [
    "# Train the model"
   ]
  },
  {
   "cell_type": "code",
   "execution_count": 8,
   "metadata": {},
   "outputs": [
    {
     "name": "stdout",
     "output_type": "stream",
     "text": [
      "12500.0\n"
     ]
    },
    {
     "name": "stderr",
     "output_type": "stream",
     "text": [
      "/opt/conda/lib/python3.6/site-packages/ipykernel_launcher.py:11: UserWarning: nn.init.constant is now deprecated in favor of nn.init.constant_.\n",
      "  # This is added back by InteractiveShellApp.init_path()\n"
     ]
    }
   ],
   "source": [
    "model = Model()\n",
    "model.cuda()\n",
    "loss_history = []\n",
    "avgp_history = []"
   ]
  },
  {
   "cell_type": "code",
   "execution_count": 9,
   "metadata": {},
   "outputs": [
    {
     "name": "stdout",
     "output_type": "stream",
     "text": [
      "train loss\tsquare loss\tavg prec\ttime\t\tutime\n",
      "0.940159\t0.982949\t0.619067\t22.575907\t8.783660\n",
      "0.888691\t0.872459\t0.634088\t22.856360\t8.544418\n",
      "0.884255\t0.803271\t0.643493\t22.782882\t8.944074\n",
      "0.878667\t0.755072\t0.649877\t22.948173\t8.833649\n",
      "0.877371\t0.724996\t0.649209\t22.635782\t9.607205\n",
      "0.872207\t0.703829\t0.654696\t22.484923\t8.794292\n",
      "0.874993\t0.696182\t0.654944\t23.010176\t8.518365\n",
      "0.875069\t0.687442\t0.658865\t22.647439\t8.913258\n",
      "0.875035\t0.685788\t0.657826\t22.547395\t8.727486\n",
      "0.872585\t0.681757\t0.661230\t22.806928\t9.781339\n",
      "0.870516\t0.678747\t0.660488\t22.281005\t8.599476\n",
      "0.871750\t0.682679\t0.657730\t22.914200\t8.453446\n",
      "0.872148\t0.683983\t0.660684\t22.699582\t8.891239\n",
      "0.872764\t0.679152\t0.663269\t20.676417\t8.310836\n",
      "0.868674\t0.683807\t0.664610\t20.392736\t8.214303\n",
      "0.883533\t0.685996\t0.660301\t20.762635\t8.388303\n",
      "0.872121\t0.686493\t0.662549\t20.483374\t8.174041\n",
      "0.874996\t0.681610\t0.663621\t20.548486\t8.249438\n",
      "0.872672\t0.687929\t0.660608\t20.794914\t8.236666\n",
      "0.873505\t0.685380\t0.662316\t20.629963\t8.316303\n",
      "0.871738\t0.684461\t0.663961\t20.738230\t8.335328\n",
      "0.871725\t0.686710\t0.665094\t20.710169\t8.219609\n",
      "0.871071\t0.684184\t0.665471\t20.748115\t8.179699\n",
      "0.870942\t0.688004\t0.665035\t20.601900\t8.160883\n",
      "0.873472\t0.688474\t0.664165\t20.426143\t8.101142\n",
      "0.870891\t0.686447\t0.667406\t20.777767\t8.228745\n",
      "0.871309\t0.684651\t0.670369\t20.665056\t8.350629\n",
      "0.870775\t0.690175\t0.664801\t20.711402\t8.285704\n",
      "0.870383\t0.686893\t0.666796\t20.571225\t8.299743\n",
      "0.870520\t0.687370\t0.665455\t20.620314\t8.272926\n",
      "0.868376\t0.690249\t0.665338\t20.669334\t8.247571\n",
      "0.869710\t0.687780\t0.664140\t20.436248\t8.128511\n",
      "0.868749\t0.688983\t0.666822\t20.623880\t8.187462\n",
      "0.870224\t0.689915\t0.664733\t20.611085\t8.171396\n",
      "0.867782\t0.686427\t0.664408\t20.813583\t8.091474\n",
      "0.873115\t0.691072\t0.662759\t20.550346\t8.200829\n",
      "0.871124\t0.682834\t0.666204\t20.616046\t8.291588\n",
      "0.871547\t0.686770\t0.665479\t20.804640\t8.230196\n",
      "0.870141\t0.681358\t0.667260\t20.790136\t8.191751\n",
      "0.870086\t0.690260\t0.666674\t20.392970\t8.125276\n",
      "0.870814\t0.691086\t0.666555\t20.353091\t8.187710\n",
      "0.868879\t0.687747\t0.663442\t20.646689\t8.061983\n",
      "0.869230\t0.685775\t0.666246\t20.921396\t8.324030\n",
      "0.870105\t0.686281\t0.664066\t20.576179\t8.189329\n",
      "0.870567\t0.686916\t0.665047\t20.761377\t8.184302\n",
      "0.870402\t0.686018\t0.667712\t20.565291\t8.105813\n",
      "0.868338\t0.688295\t0.662772\t20.727553\t8.282154\n",
      "0.868939\t0.685127\t0.670097\t20.719062\t8.275182\n",
      "0.867582\t0.686746\t0.667549\t20.766252\t8.327047\n",
      "0.884612\t0.689106\t0.664565\t20.197751\t8.046962\n",
      "Finished\n"
     ]
    }
   ],
   "source": [
    "optimizer = torch.optim.SGD(model.parameters(), lr=0.000001, momentum=.95)\n",
    "\n",
    "try:\n",
    "    with train_set, test_set:\n",
    "        print ('train loss\\tsquare loss\\tavg prec\\ttime\\t\\tutime')\n",
    "        for epoch in range(50):\n",
    "            train_loss = 0.0\n",
    "            t = time()\n",
    "            for i, (x, y) in enumerate(train_loader):\n",
    "                x, y = Variable(x.cuda(), requires_grad=False), Variable(y.cuda(), requires_grad=False)\n",
    "                loss = L(model(x),y)\n",
    "                train_loss += loss.item()\n",
    "                optimizer.zero_grad()\n",
    "                loss.backward()\n",
    "                optimizer.step()\n",
    "                model.average_iterates()\n",
    "            train_loss = train_loss/len(train_loader)   \n",
    "            t1 = time()\n",
    "            avgp, loss = 0., 0.\n",
    "            yground = torch.FloatTensor(batch_size*len(test_loader), m)\n",
    "            yhat = torch.FloatTensor(batch_size*len(test_loader), m)\n",
    "            with averages(model):\n",
    "                for i, (x, y) in enumerate(test_loader):\n",
    "                    x, y = Variable(x.cuda(), requires_grad=False), Variable(y.cuda(), requires_grad=False)\n",
    "                    yhatvar = model(x)\n",
    "                    loss += L(yhatvar,y).item()\n",
    "                    yground[i*batch_size:(i+1)*batch_size,:] = y.data\n",
    "                    yhat[i*batch_size:(i+1)*batch_size,:] = yhatvar.data\n",
    "            avgp = average_precision_score(yground.numpy().flatten(),yhat.numpy().flatten())\n",
    "            loss_history.append(loss/len(test_loader))\n",
    "            avgp_history.append(avgp)\n",
    "            torch.save(model.state_dict(), os.path.join(checkpoint_path,checkpoint))\n",
    "            print ('{:2f}\\t{:2f}\\t{:2f}\\t{:2f}\\t{:2f}'.format(train_loss, loss_history[-1],avgp_history[-1],time()-t, time()-t1))\n",
    "\n",
    "except KeyboardInterrupt:\n",
    "    print ('Graceful Exit')\n",
    "else:\n",
    "    print( 'Finished')"
   ]
  },
  {
   "cell_type": "code",
   "execution_count": 10,
   "metadata": {},
   "outputs": [
    {
     "data": {
      "text/plain": [
       "[<matplotlib.lines.Line2D at 0x7f5916af8dd8>]"
      ]
     },
     "execution_count": 10,
     "metadata": {},
     "output_type": "execute_result"
    },
    {
     "data": {
      "image/png": "[encoded data removed]",
      "text/plain": [
       "<Figure size 1080x504 with 2 Axes>"
      ]
     },
     "metadata": {
      "needs_background": "light"
     },
     "output_type": "display_data"
    }
   ],
   "source": [
    "burnin = 1\n",
    "\n",
    "fig = plt.figure(figsize=(15, 7))\n",
    "fig.add_axes()\n",
    "\n",
    "ax1 = fig.add_subplot(131)\n",
    "ax2 = fig.add_subplot(132)\n",
    "\n",
    "for ax in [ax1, ax2]:\n",
    "    ax.spines[\"top\"].set_visible(False)\n",
    "    ax.spines[\"right\"].set_visible(False)\n",
    "    ax.spines[\"left\"].set_visible(False)\n",
    "    ax.spines[\"bottom\"].set_visible(False)\n",
    "    ax.grid(color='b', linestyle='--', linewidth=0.5, alpha=0.3)\n",
    "    ax.tick_params(direction='out', color='b', width='2')\n",
    "    \n",
    "ax1.set_title('square loss')\n",
    "ax1.plot(np.arange(len(loss_history[burnin:])), loss_history[burnin:])\n",
    "ax2.set_title('average precision')\n",
    "ax2.plot(np.arange(len(avgp_history[burnin:])), avgp_history[burnin:])"
   ]
  },
  {
   "cell_type": "code",
   "execution_count": null,
   "metadata": {},
   "outputs": [],
   "source": []
  }
 ],
 "metadata": {
  "kernelspec": {
   "display_name": "Python 3",
   "language": "python",
   "name": "python3"
  },
  "language_info": {
   "codemirror_mode": {
    "name": "ipython",
    "version": 3
   },
   "file_extension": ".py",
   "mimetype": "text/x-python",
   "name": "python",
   "nbconvert_exporter": "python",
   "pygments_lexer": "ipython3",
   "version": "3.6.8"
  }
 },
 "nbformat": 4,
 "nbformat_minor": 2
}
