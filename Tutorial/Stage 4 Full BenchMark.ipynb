{
 "cells": [
  {
   "cell_type": "code",
   "execution_count": 7,
   "metadata": {},
   "outputs": [],
   "source": [
    "import numpy as np\n",
    "from librosa.core import stft\n",
    "import matplotlib.pyplot as plt\n",
    "from librosa.filters import mel\n",
    "\n",
    "from time import time\n",
    "from tqdm import tqdm"
   ]
  },
  {
   "cell_type": "markdown",
   "metadata": {},
   "source": [
    "# Gerring data"
   ]
  },
  {
   "cell_type": "code",
   "execution_count": 20,
   "metadata": {},
   "outputs": [
    {
     "name": "stderr",
     "output_type": "stream",
     "text": [
      "100%|██████████| 327/327 [04:18<00:00,  1.11s/it]\n"
     ]
    }
   ],
   "source": [
    "data = np.load('./numpy_version/musicnet.npz', encoding='bytes')\n",
    "\n",
    "# split our dataset into train and test\n",
    "test_data = ['2303','2382','1819']\n",
    "train_data = [f for f in data.files if f not in test_data] # Getting only the index\n",
    "\n",
    "# Loading waveform\n",
    "window = 16384\n",
    "X_list = []\n",
    "for train_idx in tqdm(train_data):\n",
    "    X_list.append(data[train_idx][0][:window]) # Cutting clips to only the first 16384 samples\n",
    "    \n"
   ]
  },
  {
   "cell_type": "code",
   "execution_count": 21,
   "metadata": {},
   "outputs": [],
   "source": [
    "X = np.array(X_list)"
   ]
  },
  {
   "cell_type": "code",
   "execution_count": 25,
   "metadata": {},
   "outputs": [],
   "source": [
    "np.save(\"376_cropped_clips\",X)"
   ]
  },
  {
   "cell_type": "markdown",
   "metadata": {},
   "source": [
    "## Loading old data"
   ]
  },
  {
   "cell_type": "code",
   "execution_count": 96,
   "metadata": {},
   "outputs": [],
   "source": [
    "data = np.load(\"376_cropped_clips.npy\")"
   ]
  },
  {
   "cell_type": "code",
   "execution_count": 97,
   "metadata": {},
   "outputs": [
    {
     "data": {
      "text/plain": [
       "(327, 16384)"
      ]
     },
     "execution_count": 97,
     "metadata": {},
     "output_type": "execute_result"
    }
   ],
   "source": [
    "data.shape"
   ]
  },
  {
   "cell_type": "markdown",
   "metadata": {},
   "source": [
    "# Librosa"
   ]
  },
  {
   "cell_type": "code",
   "execution_count": 98,
   "metadata": {},
   "outputs": [
    {
     "name": "stdout",
     "output_type": "stream",
     "text": [
      "Processing finished, 2.046s used\n"
     ]
    }
   ],
   "source": [
    "MelSpec_list = []\n",
    "S_stft_list = []\n",
    "start = time()\n",
    "for song in data:\n",
    "    S_stft = np.abs(stft(song, hop_length=512, n_fft=2048,center=False))\n",
    "    mel_basis = mel(44100, 2048)\n",
    "    MelSpec = np.dot(mel_basis, S_stft**2)\n",
    "    MelSpec_list.append(MelSpec)\n",
    "    S_stft_list.append(S_stft)\n",
    "print(\"Processing finished, {0:.3f}s used\".format(time()-start))"
   ]
  },
  {
   "cell_type": "code",
   "execution_count": 99,
   "metadata": {},
   "outputs": [
    {
     "data": {
      "text/plain": [
       "Text(0.5, 1.0, 'Mel Spec output')"
      ]
     },
     "execution_count": 99,
     "metadata": {},
     "output_type": "execute_result"
    },
    {
     "data": {
      "image/png": "[encoded data removed]",
      "text/plain": [
       "<Figure size 864x360 with 2 Axes>"
      ]
     },
     "metadata": {
      "needs_background": "light"
     },
     "output_type": "display_data"
    }
   ],
   "source": [
    "img_idx = 1\n",
    "\n",
    "fig, ax = plt.subplots(1,2, figsize=(12,5))\n",
    "# ax[0].plot(S_stft)\n",
    "ax[0].imshow(S_stft_list[img_idx], aspect=\"auto\")\n",
    "ax[0].invert_yaxis()\n",
    "ax[0].set_title(\"STFT output\", size=20, fontweight=\"bold\")\n",
    "\n",
    "# ax[1].plot(MelSpec)\n",
    "ax[1].imshow(MelSpec_list[img_idx], aspect=\"auto\")\n",
    "ax[1].invert_yaxis()\n",
    "ax[1].set_title(\"Mel Spec output\", size=20, fontweight=\"bold\")"
   ]
  },
  {
   "cell_type": "markdown",
   "metadata": {},
   "source": [
    "# Pytorch"
   ]
  },
  {
   "cell_type": "code",
   "execution_count": 100,
   "metadata": {},
   "outputs": [],
   "source": [
    "import torch\n",
    "from torch.autograd import Variable\n",
    "from torch.nn.functional import conv1d\n",
    "\n",
    "from scipy.signal.windows import hann\n",
    "\n",
    "stride = 512\n",
    "n_fft = 2048\n",
    "sr = 44100\n",
    "\n",
    "\n",
    "def create_filters(d,N,low=50,high=6000):\n",
    "    k = np.arange(0, d, 1) # Create different Frequency band\n",
    "    wsin = np.empty((N,1,d), dtype=np.float32)\n",
    "    wcos = np.empty((N,1,d), dtype=np.float32)\n",
    "    start_freq = low\n",
    "    end_freq = high\n",
    "    # num_cycles = start_freq*d/44000.\n",
    "    # scaling_ind = np.log(end_freq/start_freq)/k\n",
    "\n",
    "    window_mask = hann(2048, sym=False) # same as 0.5-0.5*np.cos(2*np.pi*x/(k))\n",
    "    for sample in range(N):\n",
    "        wsin[sample,0,:] = window_mask*np.sin(2*np.pi*sample/N*k)\n",
    "        wcos[sample,0,:] = window_mask*np.cos(2*np.pi*sample/N*k)\n",
    "\n",
    "    return wsin,wcos\n",
    "\n",
    "wsin, wcos = create_filters(2048,2048)"
   ]
  },
  {
   "cell_type": "code",
   "execution_count": 101,
   "metadata": {},
   "outputs": [
    {
     "name": "stdout",
     "output_type": "stream",
     "text": [
      "Processing finished, 0.293s used\n"
     ]
    }
   ],
   "source": [
    "start = time()\n",
    "wsin_var = Variable(torch.from_numpy(wsin), requires_grad=False)\n",
    "wcos_var = Variable(torch.from_numpy(wcos),requires_grad=False)\n",
    "\n",
    "\n",
    "batch_size =data.shape[0]\n",
    "# network_input = torch.from_numpy(X).to(dtype=torch.float64)\n",
    "network_input = torch.from_numpy(data).float()\n",
    "network_input = network_input.reshape(batch_size,-1)\n",
    "\n",
    "mel_basis = mel(sr=sr, n_fft=n_fft)\n",
    "\n",
    "sin_component = conv1d(network_input[:,None,:], wsin_var, stride=stride).pow(2)\n",
    "cos_component = conv1d(network_input[:,None,:], wcos_var, stride=stride).pow(2)\n",
    "\n",
    "zx = torch.sqrt(sin_component + cos_component) # equalavent to np.abs(fft(x))\n",
    "\n",
    "torch_mel_basis = torch.from_numpy(mel_basis).float() # Need to think how to implement it natively inside pytorch\n",
    "torch_MelSpec = torch.matmul(torch_mel_basis, zx.reshape(batch_size,n_fft,-1)[:,:n_fft//2+1]**2) # Need to figure out 3D tensor operation\n",
    "\n",
    "pytorch_Xs = zx.cpu().numpy()\n",
    "print(\"Processing finished, {0:.3f}s used\".format(time()-start))"
   ]
  },
  {
   "cell_type": "markdown",
   "metadata": {},
   "source": [
    "# $zx_{k} = \\sqrt{\\lvert\\sum_{s=1}^Nx_scos(2\\pi k\\frac{s}{N})\\rvert^2+\\lvert\\sum_{s=1}^Nx_ssin(2\\pi k\\frac{s}{N})\\rvert^2} $"
   ]
  },
  {
   "cell_type": "code",
   "execution_count": 102,
   "metadata": {},
   "outputs": [
    {
     "data": {
      "text/plain": [
       "Text(0.5, 1.0, 'Mel Spec output')"
      ]
     },
     "execution_count": 102,
     "metadata": {},
     "output_type": "execute_result"
    },
    {
     "data": {
      "image/png": "[encoded data removed]",
      "text/plain": [
       "<Figure size 864x360 with 2 Axes>"
      ]
     },
     "metadata": {
      "needs_background": "light"
     },
     "output_type": "display_data"
    }
   ],
   "source": [
    "img_idx = 1\n",
    "\n",
    "fig, ax = plt.subplots(1,2, figsize=(12,5))\n",
    "# ax[0].plot(pytorch_Xs[0,:1025,0])\n",
    "ax[0].imshow(pytorch_Xs[img_idx,:1025,:],aspect=\"auto\")\n",
    "ax[0].set_title(\"STFT output\", size=20, fontweight=\"bold\")\n",
    "ax[0].invert_yaxis()\n",
    "\n",
    "# ax[1].plot(torch_MelSpec.cpu().numpy())\n",
    "ax[1].imshow(torch_MelSpec[img_idx].cpu().numpy(),aspect=\"auto\")\n",
    "ax[1].invert_yaxis()\n",
    "ax[1].set_title(\"Mel Spec output\", size=20, fontweight=\"bold\")"
   ]
  },
  {
   "cell_type": "code",
   "execution_count": 105,
   "metadata": {},
   "outputs": [],
   "source": [
    "img_idx = 1"
   ]
  },
  {
   "cell_type": "code",
   "execution_count": 106,
   "metadata": {},
   "outputs": [
    {
     "data": {
      "text/plain": [
       "True"
      ]
     },
     "execution_count": 106,
     "metadata": {},
     "output_type": "execute_result"
    }
   ],
   "source": [
    "np.allclose(MelSpec_list[img_idx], torch_MelSpec[img_idx].cpu().numpy())"
   ]
  },
  {
   "cell_type": "code",
   "execution_count": 111,
   "metadata": {},
   "outputs": [
    {
     "data": {
      "text/plain": [
       "True"
      ]
     },
     "execution_count": 111,
     "metadata": {},
     "output_type": "execute_result"
    }
   ],
   "source": [
    "np.allclose(S_stft_list[img_idx], pytorch_Xs[img_idx,:1025,:], atol=1e-7)"
   ]
  },
  {
   "cell_type": "code",
   "execution_count": null,
   "metadata": {},
   "outputs": [],
   "source": []
  }
 ],
 "metadata": {
  "kernelspec": {
   "display_name": "Python 3",
   "language": "python",
   "name": "python3"
  },
  "language_info": {
   "codemirror_mode": {
    "name": "ipython",
    "version": 3
   },
   "file_extension": ".py",
   "mimetype": "text/x-python",
   "name": "python",
   "nbconvert_exporter": "python",
   "pygments_lexer": "ipython3",
   "version": "3.6.8"
  }
 },
 "nbformat": 4,
 "nbformat_minor": 2
}
