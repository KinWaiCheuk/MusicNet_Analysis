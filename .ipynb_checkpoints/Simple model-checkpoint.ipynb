{
 "cells": [
  {
   "cell_type": "code",
   "execution_count": 11,
   "metadata": {},
   "outputs": [],
   "source": [
    "import sys,os,signal\n",
    "\n",
    "import numpy as np\n",
    "import musicnet\n",
    "\n",
    "import torch\n",
    "from torch.autograd import Variable\n",
    "from torch.nn.functional import conv1d, mse_loss\n",
    "\n",
    "from time import time\n",
    "\n",
    "import matplotlib.pyplot as plt\n",
    "from IPython.display import Audio\n",
    "\n",
    "from sklearn.metrics import average_precision_score\n",
    "\n",
    "root = './'\n",
    "\n",
    "%matplotlib inline"
   ]
  },
  {
   "cell_type": "code",
   "execution_count": 12,
   "metadata": {},
   "outputs": [],
   "source": [
    "os.environ['CUDA_DEVICE_ORDER']='PCI_BUS_ID'   # see issue #152\n",
    "os.environ['CUDA_VISIBLE_DEVICES']='2'\n",
    "\n",
    "def worker_init(args):\n",
    "    signal.signal(signal.SIGINT, signal.SIG_IGN) # ignore signals so parent can handle them\n",
    "    np.random.seed(os.getpid() ^ int(time())) # approximately random seed for workers\n",
    "\n",
    "batch_size = 100\n",
    "kwargs = {'num_workers': 4, 'pin_memory': True, 'worker_init_fn': worker_init}\n",
    "\n",
    "m = 128\n",
    "k = 500 # number of frequency bins?\n",
    "d = 4096 # size of windows?\n",
    "window = 16384 # total number of audio samples?\n",
    "stride = 512\n",
    "regions = 1 + (window - d)//stride # number of output after sliding the window through x"
   ]
  },
  {
   "cell_type": "code",
   "execution_count": 13,
   "metadata": {},
   "outputs": [],
   "source": [
    "train_set = musicnet.MusicNet(root=root, train=True, download=True, window=window)#, pitch_shift=5, jitter=.1)\n",
    "test_set = musicnet.MusicNet(root=root, train=False, window=window, epoch_size=50000)"
   ]
  },
  {
   "cell_type": "code",
   "execution_count": 14,
   "metadata": {},
   "outputs": [],
   "source": [
    "train_loader = torch.utils.data.DataLoader(dataset=train_set,batch_size=batch_size,**kwargs)\n",
    "test_loader = torch.utils.data.DataLoader(dataset=test_set,batch_size=batch_size,**kwargs)"
   ]
  },
  {
   "cell_type": "code",
   "execution_count": 15,
   "metadata": {},
   "outputs": [],
   "source": [
    "def create_filters(d,k,low=50,high=6000):\n",
    "    x = np.linspace(0, 2*np.pi, d, endpoint=False)\n",
    "    wsin = np.empty((k,1,d), dtype=np.float32)\n",
    "    wcos = np.empty((k,1,d), dtype=np.float32)\n",
    "    start_freq = low\n",
    "    end_freq = high\n",
    "    num_cycles = start_freq*d/44000.\n",
    "    scaling_ind = np.log(end_freq/start_freq)/k\n",
    "    window_mask = 1.0-1.0*np.cos(x)\n",
    "    for ind in range(k):\n",
    "        wsin[ind,0,:] = window_mask*np.sin(np.exp(ind*scaling_ind)*num_cycles*x)\n",
    "        wcos[ind,0,:] = window_mask*np.cos(np.exp(ind*scaling_ind)*num_cycles*x)\n",
    "    \n",
    "    return wsin,wcos"
   ]
  },
  {
   "cell_type": "code",
   "execution_count": 16,
   "metadata": {},
   "outputs": [],
   "source": [
    "wsin,wcos = create_filters(d,k)\n",
    "\n",
    "with torch.cuda.device(0):\n",
    "    wsin_var = Variable(torch.from_numpy(wsin).cuda(), requires_grad=False)\n",
    "    wcos_var = Variable(torch.from_numpy(wcos).cuda(), requires_grad=False)\n",
    "    \n",
    "def init_weights(scale=0.):\n",
    "    wscale = 0.\n",
    "    with torch.cuda.device(0):\n",
    "        beta = Variable(wscale*torch.rand([regions*k,m]).cuda(), requires_grad=True)\n",
    "        betaavg = Variable(beta.data.clone(), requires_grad=False)\n",
    "    return (beta,), (betaavg,) # pytorch optimizer requires iterable \n",
    "\n",
    "def forward(x, beta):\n",
    "    zx = conv1d(x[:,None,:], wsin_var, stride=stride).pow(2) \\\n",
    "       + conv1d(x[:,None,:], wcos_var, stride=stride).pow(2)\n",
    "    return torch.mm(torch.log(zx + musicnet.epsilon).view(x.data.size()[0],regions*k), beta)\n",
    "\n",
    "def L(y_hat, y, beta):\n",
    "    # adjust for per-frame loss\n",
    "    return mse_loss(y_hat, y)*128/2.# + .01*torch.mean(beta.pow(2.))"
   ]
  },
  {
   "cell_type": "markdown",
   "metadata": {},
   "source": [
    "# Training the model"
   ]
  },
  {
   "cell_type": "code",
   "execution_count": null,
   "metadata": {},
   "outputs": [],
   "source": [
    "weights, averages = init_weights()\n",
    "loss_history = []\n",
    "avgp_history = []"
   ]
  },
  {
   "cell_type": "code",
   "execution_count": null,
   "metadata": {},
   "outputs": [],
   "source": [
    "avg = .9998\n",
    "optimizer = torch.optim.SGD(weights, lr=0.000001, momentum=.95)"
   ]
  },
  {
   "cell_type": "code",
   "execution_count": null,
   "metadata": {},
   "outputs": [
    {
     "name": "stdout",
     "output_type": "stream",
     "text": [
      "squre loss\tabg prec\ttime\t\tutime\n",
      "0.984708\t0.621846\t21.497175\t8.801307\n",
      "0.871883\t0.634628\t21.538096\t8.766026\n",
      "0.804300\t0.643566\t20.522870\t7.900976\n"
     ]
    }
   ],
   "source": [
    "try:\n",
    "    with train_set, test_set:\n",
    "        print(\"squre loss\\tabg prec\\ttime\\t\\tutime\")\n",
    "        for epoch in range(50):\n",
    "            t = time()\n",
    "            for i, (x,y) in enumerate(train_loader):\n",
    "                optimizer.zero_grad()\n",
    "                \n",
    "                # making x and y into pytorch dealable format\n",
    "                x = Variable(x.cuda(), requires_grad=False) \n",
    "                y = Variable(y.cuda(), requires_grad=False) \n",
    "                \n",
    "                loss = L(forward(x, *weights),y , *weights)\n",
    "                loss.backward()\n",
    "                optimizer.step()\n",
    "                \n",
    "                for w, wavg in zip(weights, averages):\n",
    "                    wavg.data.copy_(avg*wavg.data + (1.-avg)*w.data) # what happens if I change to equal\n",
    "                    \n",
    "            t1 = time()\n",
    "            avgp, loss = 0.,0.\n",
    "            \n",
    "            # For testing\n",
    "            yground = torch.FloatTensor(batch_size*len(test_loader), m) # what not do this together with loss\n",
    "            yhat = torch.FloatTensor(batch_size*len(test_loader), m)\n",
    "            for i, (x_test,y_test) in enumerate(test_loader):\n",
    "                x_test = Variable(x_test.cuda(), requires_grad=False)\n",
    "                y_test = Variable(y_test.cuda(), requires_grad=False)\n",
    "                yhatvar = forward(x_test, *averages)\n",
    "                loss += L(yhatvar, y_test, *averages).item()\n",
    "                yground[i*batch_size:(i+1)*batch_size,:] = y_test.data\n",
    "                yhat[i*batch_size:(i+1)*batch_size,:] = yhatvar.data\n",
    "            avgp = average_precision_score(yground.numpy().flatten(),yhat.numpy().flatten())\n",
    "#             avgp = average_precision_score(yground.numpy().flatten(),yhat.numpy().flatten())\n",
    "            loss_history.append(loss/len(test_loader))\n",
    "            avgp_history.append(avgp)\n",
    "            print('{:2f}\\t{:2f}\\t{:2f}\\t{:2f}'.format(loss_history[-1],avgp_history[-1],time()-t, time()-t1))\n",
    "            \n",
    "            \n",
    "except KeyboardInterrupt:\n",
    "    print('Graceful Exit')\n",
    "else:\n",
    "    print(\"Finsihed\")"
   ]
  },
  {
   "cell_type": "code",
   "execution_count": null,
   "metadata": {},
   "outputs": [],
   "source": []
  }
 ],
 "metadata": {
  "kernelspec": {
   "display_name": "Python 3",
   "language": "python",
   "name": "python3"
  },
  "language_info": {
   "codemirror_mode": {
    "name": "ipython",
    "version": 3
   },
   "file_extension": ".py",
   "mimetype": "text/x-python",
   "name": "python",
   "nbconvert_exporter": "python",
   "pygments_lexer": "ipython3",
   "version": "3.6.8"
  }
 },
 "nbformat": 4,
 "nbformat_minor": 2
}
